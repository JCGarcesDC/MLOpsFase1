{
 "cells": [
  {
   "cell_type": "markdown",
   "id": "afa1992d",
   "metadata": {},
   "source": [
    "# **Limpieza de Datos**\n",
    "\n",
    "Identificar y manejar valores nulos, duplicados, inconsistencias o posibles outliers."
   ]
  },
  {
   "cell_type": "markdown",
   "id": "54f4aa01",
   "metadata": {},
   "source": [
    "# 1.- **Importar librerias**"
   ]
  },
  {
   "cell_type": "code",
   "execution_count": 1,
   "id": "cb82efbb",
   "metadata": {},
   "outputs": [
    {
     "name": "stdout",
     "output_type": "stream",
     "text": [
      "Funciones importadas exitosamente desde src/\n"
     ]
    }
   ],
   "source": [
    "# Importar librerías estándar\n",
    "import sys\n",
    "import os\n",
    "\n",
    "#!git init\n",
    "#!dvc init\n",
    "\n",
    "# 2. Configurar la ruta para que Python encuentre el código en 'src'. Esto añade la carpeta raíz del proyecto al sys.path\n",
    "ruta_raiz_proyecto = os.path.abspath(os.path.join(os.getcwd(), '../../'))\n",
    "sys.path.append(ruta_raiz_proyecto)\n",
    "\n",
    "# 3. Importar las funciones directamente.\n",
    "from src.cargar_analisis import cargar_dataframe, crear_listas_variables\n",
    "from src.limpieza import limpiar_y_detectar_atipicos, eliminar_atipicos, guardar_dataframe\n",
    "from src.carga_dvc import run, save_csv_and_push\n",
    "\n",
    "print(\"Funciones importadas exitosamente desde src/\")"
   ]
  },
  {
   "cell_type": "markdown",
   "id": "4dc149b2",
   "metadata": {},
   "source": [
    "# **2.- Importar datos**"
   ]
  },
  {
   "cell_type": "code",
   "execution_count": 2,
   "id": "d3bc3b8e",
   "metadata": {},
   "outputs": [
    {
     "name": "stdout",
     "output_type": "stream",
     "text": [
      "Archivo CSV cargado exitosamente desde: ../../data/obesity_estimation_modified.csv\n"
     ]
    }
   ],
   "source": [
    "# Ruta de la base de datos\n",
    "path_data = '../../data/obesity_estimation_modified.csv'\n",
    "\n",
    "# Ejecutar función para cargar datos\n",
    "df = cargar_dataframe(path_data)\n",
    "\n",
    "# Ejecutar la función para generar listas con las variables numericas, categoricas y objetivo\n",
    "variables_numericas, variables_categoricas, variable_objetivo = crear_listas_variables(to_lower=1)"
   ]
  },
  {
   "cell_type": "markdown",
   "id": "d62d035a",
   "metadata": {},
   "source": [
    "# **3.- Limpieza de datos**"
   ]
  },
  {
   "cell_type": "code",
   "execution_count": 3,
   "id": "529ea023",
   "metadata": {},
   "outputs": [
    {
     "data": {
      "text/markdown": [
       "---"
      ],
      "text/plain": [
       "<IPython.core.display.Markdown object>"
      ]
     },
     "metadata": {},
     "output_type": "display_data"
    },
    {
     "data": {
      "text/markdown": [
       "## **Proceso de Limpieza y Detección de Atípicos**"
      ],
      "text/plain": [
       "<IPython.core.display.Markdown object>"
      ]
     },
     "metadata": {},
     "output_type": "display_data"
    },
    {
     "data": {
      "text/markdown": [
       "---"
      ],
      "text/plain": [
       "<IPython.core.display.Markdown object>"
      ]
     },
     "metadata": {},
     "output_type": "display_data"
    },
    {
     "name": "stdout",
     "output_type": "stream",
     "text": [
      "1. Estandarizando nombres de columnas...\n",
      "2. Eliminando columnas irrelevantes y duplicados...\n",
      "3. Estandarizando valores en columnas categóricas...\n",
      "4. Asegurando tipos de datos numéricos...\n",
      "5. Imputando valores nulos...\n",
      "   - No se encontraron más valores nulos.\n"
     ]
    },
    {
     "data": {
      "text/markdown": [
       "### Detección de Atípicos (Método IQR)"
      ],
      "text/plain": [
       "<IPython.core.display.Markdown object>"
      ]
     },
     "metadata": {},
     "output_type": "display_data"
    },
    {
     "name": "stdout",
     "output_type": "stream",
     "text": [
      "\n",
      "Columna 'age':\n",
      "  - Límite inferior: 2.00\n",
      "  - Límite superior: 44.00\n",
      "  - Número de atípicos encontrados: 36\n",
      "  - Porcentaje de atípicos: 1.70%\n",
      "\n",
      "Columna 'height':\n",
      "  - Límite inferior: 1.22\n",
      "  - Límite superior: 2.18\n",
      "  - Número de atípicos encontrados: 19\n",
      "  - Porcentaje de atípicos: 0.90%\n",
      "\n",
      "Columna 'weight':\n",
      "  - Límite inferior: -60.58\n",
      "  - Límite superior: 234.84\n",
      "  - Número de atípicos encontrados: 19\n",
      "  - Porcentaje de atípicos: 0.90%\n",
      "\n",
      "Columna 'fcvc':\n",
      "  - Límite inferior: -1.00\n",
      "  - Límite superior: 6.00\n",
      "  - Número de atípicos encontrados: 20\n",
      "  - Porcentaje de atípicos: 0.95%\n",
      "\n",
      "Columna 'ncp':\n",
      "  - Límite inferior: 1.80\n",
      "  - Límite superior: 3.90\n",
      "  - Número de atípicos encontrados: 455\n",
      "  - Porcentaje de atípicos: 21.52%\n",
      "\n",
      "Columna 'ch2o':\n",
      "  - Límite inferior: -1.06\n",
      "  - Límite superior: 5.18\n",
      "  - Número de atípicos encontrados: 21\n",
      "  - Porcentaje de atípicos: 0.99%\n",
      "\n",
      "Columna 'faf':\n",
      "  - Límite inferior: -4.44\n",
      "  - Límite superior: 6.29\n",
      "  - Número de atípicos encontrados: 27\n",
      "  - Porcentaje de atípicos: 1.28%\n",
      "\n",
      "Columna 'tue':\n",
      "  - Límite inferior: -3.00\n",
      "  - Límite superior: 4.00\n",
      "  - Número de atípicos encontrados: 17\n",
      "  - Porcentaje de atípicos: 0.80%\n"
     ]
    },
    {
     "data": {
      "text/markdown": [
       "---"
      ],
      "text/plain": [
       "<IPython.core.display.Markdown object>"
      ]
     },
     "metadata": {},
     "output_type": "display_data"
    },
    {
     "name": "stdout",
     "output_type": "stream",
     "text": [
      "\n",
      "Proceso de limpieza finalizado.\n"
     ]
    }
   ],
   "source": [
    "# Paso 1: Limpiar y preparar los datos\n",
    "df_limpio = limpiar_y_detectar_atipicos(df, variables_numericas, variables_categoricas, variable_objetivo, 'mixed_type_col')"
   ]
  },
  {
   "cell_type": "code",
   "execution_count": 4,
   "id": "27ef318b",
   "metadata": {},
   "outputs": [
    {
     "data": {
      "text/markdown": [
       "---"
      ],
      "text/plain": [
       "<IPython.core.display.Markdown object>"
      ]
     },
     "metadata": {},
     "output_type": "display_data"
    },
    {
     "data": {
      "text/markdown": [
       "## **Proceso de Eliminación de Atípicos**"
      ],
      "text/plain": [
       "<IPython.core.display.Markdown object>"
      ]
     },
     "metadata": {},
     "output_type": "display_data"
    },
    {
     "data": {
      "text/markdown": [
       "---"
      ],
      "text/plain": [
       "<IPython.core.display.Markdown object>"
      ]
     },
     "metadata": {},
     "output_type": "display_data"
    },
    {
     "name": "stdout",
     "output_type": "stream",
     "text": [
      "1. Aplicando reglas de negocio para 'age', 'height' y 'ncp'...\n",
      "   - Se eliminaron 69 filas con reglas de negocio.\n",
      "\n",
      "2. Aplicando método IQR para el resto de variables numéricas...\n",
      "   - Se eliminaron 99 filas adicionales con el método IQR.\n"
     ]
    },
    {
     "data": {
      "text/markdown": [
       "### Reporte Final de Eliminación"
      ],
      "text/plain": [
       "<IPython.core.display.Markdown object>"
      ]
     },
     "metadata": {},
     "output_type": "display_data"
    },
    {
     "name": "stdout",
     "output_type": "stream",
     "text": [
      "Filas iniciales: 2,114\n",
      "Filas finales:   1,946\n",
      "Total de filas eliminadas: 168 (7.95%)\n"
     ]
    },
    {
     "data": {
      "text/markdown": [
       "---"
      ],
      "text/plain": [
       "<IPython.core.display.Markdown object>"
      ]
     },
     "metadata": {},
     "output_type": "display_data"
    },
    {
     "name": "stdout",
     "output_type": "stream",
     "text": [
      "\n",
      "Proceso de eliminación de atípicos finalizado.\n"
     ]
    },
    {
     "data": {
      "text/html": [
       "<div>\n",
       "<style scoped>\n",
       "    .dataframe tbody tr th:only-of-type {\n",
       "        vertical-align: middle;\n",
       "    }\n",
       "\n",
       "    .dataframe tbody tr th {\n",
       "        vertical-align: top;\n",
       "    }\n",
       "\n",
       "    .dataframe thead th {\n",
       "        text-align: right;\n",
       "    }\n",
       "</style>\n",
       "<table border=\"1\" class=\"dataframe\">\n",
       "  <thead>\n",
       "    <tr style=\"text-align: right;\">\n",
       "      <th></th>\n",
       "      <th>gender</th>\n",
       "      <th>age</th>\n",
       "      <th>height</th>\n",
       "      <th>weight</th>\n",
       "      <th>family_history_with_overweight</th>\n",
       "      <th>favc</th>\n",
       "      <th>fcvc</th>\n",
       "      <th>ncp</th>\n",
       "      <th>caec</th>\n",
       "      <th>smoke</th>\n",
       "      <th>ch2o</th>\n",
       "      <th>scc</th>\n",
       "      <th>faf</th>\n",
       "      <th>tue</th>\n",
       "      <th>calc</th>\n",
       "      <th>mtrans</th>\n",
       "      <th>nobeyesdad</th>\n",
       "    </tr>\n",
       "  </thead>\n",
       "  <tbody>\n",
       "    <tr>\n",
       "      <th>0</th>\n",
       "      <td>female</td>\n",
       "      <td>21.0</td>\n",
       "      <td>1.62</td>\n",
       "      <td>64.0</td>\n",
       "      <td>yes</td>\n",
       "      <td>no</td>\n",
       "      <td>2.0</td>\n",
       "      <td>3.0</td>\n",
       "      <td>sometimes</td>\n",
       "      <td>no</td>\n",
       "      <td>2.0</td>\n",
       "      <td>no</td>\n",
       "      <td>0.0</td>\n",
       "      <td>1.0</td>\n",
       "      <td>no</td>\n",
       "      <td>public_transportation</td>\n",
       "      <td>1</td>\n",
       "    </tr>\n",
       "    <tr>\n",
       "      <th>1</th>\n",
       "      <td>female</td>\n",
       "      <td>21.0</td>\n",
       "      <td>1.52</td>\n",
       "      <td>56.0</td>\n",
       "      <td>yes</td>\n",
       "      <td>no</td>\n",
       "      <td>3.0</td>\n",
       "      <td>3.0</td>\n",
       "      <td>sometimes</td>\n",
       "      <td>yes</td>\n",
       "      <td>3.0</td>\n",
       "      <td>yes</td>\n",
       "      <td>3.0</td>\n",
       "      <td>0.0</td>\n",
       "      <td>sometimes</td>\n",
       "      <td>public_transportation</td>\n",
       "      <td>1</td>\n",
       "    </tr>\n",
       "    <tr>\n",
       "      <th>2</th>\n",
       "      <td>male</td>\n",
       "      <td>23.0</td>\n",
       "      <td>1.80</td>\n",
       "      <td>77.0</td>\n",
       "      <td>yes</td>\n",
       "      <td>no</td>\n",
       "      <td>2.0</td>\n",
       "      <td>3.0</td>\n",
       "      <td>sometimes</td>\n",
       "      <td>no</td>\n",
       "      <td>2.0</td>\n",
       "      <td>no</td>\n",
       "      <td>2.0</td>\n",
       "      <td>1.0</td>\n",
       "      <td>frequently</td>\n",
       "      <td>public_transportation</td>\n",
       "      <td>1</td>\n",
       "    </tr>\n",
       "    <tr>\n",
       "      <th>3</th>\n",
       "      <td>male</td>\n",
       "      <td>27.0</td>\n",
       "      <td>1.80</td>\n",
       "      <td>87.0</td>\n",
       "      <td>no</td>\n",
       "      <td>no</td>\n",
       "      <td>3.0</td>\n",
       "      <td>3.0</td>\n",
       "      <td>sometimes</td>\n",
       "      <td>no</td>\n",
       "      <td>2.0</td>\n",
       "      <td>no</td>\n",
       "      <td>2.0</td>\n",
       "      <td>0.0</td>\n",
       "      <td>frequently</td>\n",
       "      <td>walking</td>\n",
       "      <td>2</td>\n",
       "    </tr>\n",
       "    <tr>\n",
       "      <th>4</th>\n",
       "      <td>male</td>\n",
       "      <td>22.0</td>\n",
       "      <td>1.78</td>\n",
       "      <td>89.8</td>\n",
       "      <td>no</td>\n",
       "      <td>no</td>\n",
       "      <td>2.0</td>\n",
       "      <td>1.0</td>\n",
       "      <td>sometimes</td>\n",
       "      <td>no</td>\n",
       "      <td>2.0</td>\n",
       "      <td>no</td>\n",
       "      <td>0.0</td>\n",
       "      <td>0.0</td>\n",
       "      <td>sometimes</td>\n",
       "      <td>public_transportation</td>\n",
       "      <td>3</td>\n",
       "    </tr>\n",
       "  </tbody>\n",
       "</table>\n",
       "</div>"
      ],
      "text/plain": [
       "   gender   age  height  weight family_history_with_overweight favc  fcvc  \\\n",
       "0  female  21.0    1.62    64.0                            yes   no   2.0   \n",
       "1  female  21.0    1.52    56.0                            yes   no   3.0   \n",
       "2    male  23.0    1.80    77.0                            yes   no   2.0   \n",
       "3    male  27.0    1.80    87.0                             no   no   3.0   \n",
       "4    male  22.0    1.78    89.8                             no   no   2.0   \n",
       "\n",
       "   ncp       caec smoke  ch2o  scc  faf  tue        calc  \\\n",
       "0  3.0  sometimes    no   2.0   no  0.0  1.0          no   \n",
       "1  3.0  sometimes   yes   3.0  yes  3.0  0.0   sometimes   \n",
       "2  3.0  sometimes    no   2.0   no  2.0  1.0  frequently   \n",
       "3  3.0  sometimes    no   2.0   no  2.0  0.0  frequently   \n",
       "4  1.0  sometimes    no   2.0   no  0.0  0.0   sometimes   \n",
       "\n",
       "                  mtrans  nobeyesdad  \n",
       "0  public_transportation           1  \n",
       "1  public_transportation           1  \n",
       "2  public_transportation           1  \n",
       "3                walking           2  \n",
       "4  public_transportation           3  "
      ]
     },
     "execution_count": 4,
     "metadata": {},
     "output_type": "execute_result"
    }
   ],
   "source": [
    "# Paso 2: Eliminar los atípicos del dataframe ya limpio\n",
    "df_final = eliminar_atipicos(df_limpio, age_range=(5, 50), height_max=2.5, ncp_max=10.0, iqr_factor=1.5)\n",
    "df_final.head()"
   ]
  },
  {
   "cell_type": "markdown",
   "id": "0454217d",
   "metadata": {},
   "source": [
    "# **4.- Guardar los Resultados**"
   ]
  },
  {
   "cell_type": "code",
   "execution_count": 5,
   "id": "95d7c176",
   "metadata": {},
   "outputs": [
    {
     "name": "stdout",
     "output_type": "stream",
     "text": [
      "DataFrame guardado exitosamente en: ../../data/obesity_estimation_cleaned.csv\n",
      "Verificación local: El archivo se ha creado correctamente.\n",
      "\n",
      "Proceso de guardado finalizado con éxito.\n"
     ]
    }
   ],
   "source": [
    "# Llamar a la función para guardar resultados\n",
    "nombre_archivo = 'obesity_estimation_cleaned.csv'\n",
    "ruta_destino = '../../data/'\n",
    "\n",
    "guardado_exitoso = guardar_dataframe(\n",
    "    df=df_final,\n",
    "    file_name=nombre_archivo,\n",
    "    destination_path=ruta_destino\n",
    ")\n",
    "\n",
    "# Resultado\n",
    "if guardado_exitoso:\n",
    "    print(\"\\nProceso de guardado finalizado con éxito.\")\n",
    "else:\n",
    "    print(\"\\nProceso de guardado fallido. Revisar la ruta destino.\")"
   ]
  },
  {
   "cell_type": "markdown",
   "id": "ff4e9c1c",
   "metadata": {},
   "source": [
    "# **5.- Guardar los Resultados en DVC**"
   ]
  },
  {
   "cell_type": "code",
   "execution_count": 6,
   "id": "96637fdc",
   "metadata": {},
   "outputs": [
    {
     "name": "stdout",
     "output_type": "stream",
     "text": [
      "..\\data\\obesity_estimation_cleaned.csv\n",
      "On branch main\n",
      "Untracked files:\n",
      "  (use \"git add <file>...\" to include in what will be committed)\n",
      "\t1.1_import_data_initial_analysis.ipynb\n",
      "\t1.2_data_cleaning.ipynb\n",
      "\t1.3_exploratory_analysis_eda.ipynb\n",
      "\tContenido.md\n",
      "\n",
      "nothing added to commit but untracked files present (use \"git add\" to track)\n",
      "\n",
      "➜ Git: sin cambios que commitear.\n"
     ]
    },
    {
     "name": "stderr",
     "output_type": "stream",
     "text": [
      "\n"
     ]
    },
    {
     "name": "stdout",
     "output_type": "stream",
     "text": [
      "\n"
     ]
    },
    {
     "name": "stderr",
     "output_type": "stream",
     "text": [
      "fatal: No configured push destination.\n",
      "Either specify the URL from the command-line or configure a remote repository using\n",
      "\n",
      "    git remote add <name> <url>\n",
      "\n",
      "and then push using the remote name\n",
      "\n",
      "    git push <name>\n",
      "\n",
      "\n"
     ]
    },
    {
     "ename": "RuntimeError",
     "evalue": "git push",
     "output_type": "error",
     "traceback": [
      "\u001b[31m---------------------------------------------------------------------------\u001b[39m",
      "\u001b[31mRuntimeError\u001b[39m                              Traceback (most recent call last)",
      "\u001b[36mCell\u001b[39m\u001b[36m \u001b[39m\u001b[32mIn[6]\u001b[39m\u001b[32m, line 2\u001b[39m\n\u001b[32m      1\u001b[39m \u001b[38;5;66;03m# Guardar dataset limpio\u001b[39;00m\n\u001b[32m----> \u001b[39m\u001b[32m2\u001b[39m \u001b[43msave_csv_and_push\u001b[49m\u001b[43m(\u001b[49m\u001b[43mdf_final\u001b[49m\u001b[43m)\u001b[49m\n",
      "\u001b[36mFile \u001b[39m\u001b[32mc:\\Users\\edenm\\Documents\\Maestría MNA\\4.- MLOps\\ObesityEstimation53\\src\\carga_dvc.py:24\u001b[39m, in \u001b[36msave_csv_and_push\u001b[39m\u001b[34m(df, file_path, commit_msg)\u001b[39m\n\u001b[32m     22\u001b[39m     \u001b[38;5;28mprint\u001b[39m(\u001b[33m\"\u001b[39m\u001b[33m➜ Git: sin cambios que commitear.\u001b[39m\u001b[33m\"\u001b[39m)\n\u001b[32m     23\u001b[39m run(\u001b[33m'\u001b[39m\u001b[33mdvc push\u001b[39m\u001b[33m'\u001b[39m)\n\u001b[32m---> \u001b[39m\u001b[32m24\u001b[39m \u001b[43mrun\u001b[49m\u001b[43m(\u001b[49m\u001b[33;43m'\u001b[39;49m\u001b[33;43mgit push\u001b[39;49m\u001b[33;43m'\u001b[39;49m\u001b[43m)\u001b[49m\n",
      "\u001b[36mFile \u001b[39m\u001b[32mc:\\Users\\edenm\\Documents\\Maestría MNA\\4.- MLOps\\ObesityEstimation53\\src\\carga_dvc.py:9\u001b[39m, in \u001b[36mrun\u001b[39m\u001b[34m(cmd)\u001b[39m\n\u001b[32m      7\u001b[39m \u001b[38;5;28mprint\u001b[39m(p.stdout)\n\u001b[32m      8\u001b[39m \u001b[38;5;28mprint\u001b[39m(p.stderr, file=sys.stderr)\n\u001b[32m----> \u001b[39m\u001b[32m9\u001b[39m \u001b[38;5;28;01mraise\u001b[39;00m \u001b[38;5;167;01mRuntimeError\u001b[39;00m(cmd)\n",
      "\u001b[31mRuntimeError\u001b[39m: git push"
     ]
    }
   ],
   "source": [
    "# Guardar dataset limpio\n",
    "save_csv_and_push(df_final)"
   ]
  },
  {
   "cell_type": "code",
   "execution_count": null,
   "id": "fbd06a0e",
   "metadata": {},
   "outputs": [],
   "source": []
  },
  {
   "cell_type": "code",
   "execution_count": null,
   "id": "b610928b",
   "metadata": {},
   "outputs": [],
   "source": []
  },
  {
   "cell_type": "code",
   "execution_count": null,
   "id": "f5bcb7fd",
   "metadata": {},
   "outputs": [],
   "source": []
  }
 ],
 "metadata": {
  "kernelspec": {
   "display_name": "Python 3",
   "language": "python",
   "name": "python3"
  },
  "language_info": {
   "codemirror_mode": {
    "name": "ipython",
    "version": 3
   },
   "file_extension": ".py",
   "mimetype": "text/x-python",
   "name": "python",
   "nbconvert_exporter": "python",
   "pygments_lexer": "ipython3",
   "version": "3.13.8"
  }
 },
 "nbformat": 4,
 "nbformat_minor": 5
}
