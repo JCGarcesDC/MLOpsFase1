{
 "cells": [
  {
   "cell_type": "markdown",
   "id": "afa1992d",
   "metadata": {},
   "source": [
    "# **Limpieza de Datos**\n",
    "\n",
    "Identificar y manejar valores nulos, duplicados, inconsistencias o posibles outliers."
   ]
  },
  {
   "cell_type": "markdown",
   "id": "54f4aa01",
   "metadata": {},
   "source": [
    "# 1.- **Importar librerias**"
   ]
  },
  {
   "cell_type": "code",
   "execution_count": 4,
   "id": "cb82efbb",
   "metadata": {},
   "outputs": [
    {
     "name": "stdout",
     "output_type": "stream",
     "text": [
      "Funciones importadas exitosamente desde src/\n"
     ]
    }
   ],
   "source": [
    "# Importar librerías estándar\n",
    "import sys\n",
    "import os\n",
    "\n",
    "# 2. Configurar la ruta para que Python encuentre el código en 'src'. Esto añade la carpeta raíz del proyecto al sys.path\n",
    "ruta_raiz_proyecto = os.path.abspath(os.path.join(os.getcwd(), '../../'))\n",
    "sys.path.append(ruta_raiz_proyecto)\n",
    "\n",
    "# 3. Importar las funciones directamente.\n",
    "from src.cargar_analisis import cargar_dataframe, crear_listas_variables\n",
    "from src.limpieza import limpiar_y_detectar_atipicos, eliminar_atipicos, guardar_dataframe\n",
    "from src.carga_dvc import run, save_csv_and_push\n",
    "\n",
    "print(\"Funciones importadas exitosamente desde src/\")"
   ]
  },
  {
   "cell_type": "markdown",
   "id": "4dc149b2",
   "metadata": {},
   "source": [
    "# **2.- Importar datos**"
   ]
  },
  {
   "cell_type": "code",
   "execution_count": 5,
   "id": "d3bc3b8e",
   "metadata": {},
   "outputs": [
    {
     "name": "stdout",
     "output_type": "stream",
     "text": [
      "Archivo CSV cargado exitosamente desde: d:/OneDrive/Escritorio/Maestria IA/Trimestre 4/MLOps/Git_Local/ObesityEstimation53/data/obesity_estimation_cleaned.csv\n"
     ]
    }
   ],
   "source": [
    "# Ruta de la base de datos\n",
    "path_data = 'd:/OneDrive/Escritorio/Maestria IA/Trimestre 4/MLOps/Git_Local/ObesityEstimation53/data/obesity_estimation_cleaned.csv'\n",
    "\n",
    "# Ejecutar función para cargar datos\n",
    "df = cargar_dataframe(path_data)\n",
    "\n",
    "# Ejecutar la función para generar listas con las variables numericas, categoricas y objetivo\n",
    "variables_numericas, variables_categoricas, variable_objetivo = crear_listas_variables(to_lower=True)"
   ]
  },
  {
   "cell_type": "markdown",
   "id": "d62d035a",
   "metadata": {},
   "source": [
    "# **3.- Limpieza de datos**"
   ]
  },
  {
   "cell_type": "code",
   "execution_count": 6,
   "id": "529ea023",
   "metadata": {},
   "outputs": [
    {
     "name": "stdout",
     "output_type": "stream",
     "text": [
      "DataFrame limpio creado con éxito\n"
     ]
    }
   ],
   "source": [
    "# Paso 1: Crear una copia limpia del DataFrame\n",
    "df_limpio = df.copy()\n",
    "\n",
    "# Estandarizar nombres de columnas\n",
    "df_limpio.columns = df_limpio.columns.str.strip().str.replace(' ', '_').str.lower()\n",
    "\n",
    "# Eliminar duplicados\n",
    "df_limpio = df_limpio.drop_duplicates()\n",
    "\n",
    "print(\"DataFrame limpio creado con éxito\")"
   ]
  },
  {
   "cell_type": "code",
   "execution_count": 7,
   "id": "27ef318b",
   "metadata": {},
   "outputs": [
    {
     "data": {
      "text/markdown": [
       "---"
      ],
      "text/plain": [
       "<IPython.core.display.Markdown object>"
      ]
     },
     "metadata": {},
     "output_type": "display_data"
    },
    {
     "data": {
      "text/markdown": [
       "## **Proceso de Eliminación de Atípicos**"
      ],
      "text/plain": [
       "<IPython.core.display.Markdown object>"
      ]
     },
     "metadata": {},
     "output_type": "display_data"
    },
    {
     "data": {
      "text/markdown": [
       "---"
      ],
      "text/plain": [
       "<IPython.core.display.Markdown object>"
      ]
     },
     "metadata": {},
     "output_type": "display_data"
    },
    {
     "name": "stdout",
     "output_type": "stream",
     "text": [
      "1. Aplicando reglas de negocio para 'age', 'height' y 'ncp'...\n",
      "   - Se eliminaron 0 filas con reglas de negocio.\n",
      "\n",
      "2. Aplicando método IQR para el resto de variables numéricas...\n",
      "   - Se eliminaron 0 filas adicionales con el método IQR.\n"
     ]
    },
    {
     "data": {
      "text/markdown": [
       "### Reporte Final de Eliminación"
      ],
      "text/plain": [
       "<IPython.core.display.Markdown object>"
      ]
     },
     "metadata": {},
     "output_type": "display_data"
    },
    {
     "name": "stdout",
     "output_type": "stream",
     "text": [
      "Filas iniciales: 1,909\n",
      "Filas finales:   1,909\n",
      "Total de filas eliminadas: 0 (0.00%)\n"
     ]
    },
    {
     "data": {
      "text/markdown": [
       "---"
      ],
      "text/plain": [
       "<IPython.core.display.Markdown object>"
      ]
     },
     "metadata": {},
     "output_type": "display_data"
    },
    {
     "name": "stdout",
     "output_type": "stream",
     "text": [
      "\n",
      "Proceso de eliminación de atípicos finalizado.\n"
     ]
    },
    {
     "data": {
      "text/html": [
       "<div>\n",
       "<style scoped>\n",
       "    .dataframe tbody tr th:only-of-type {\n",
       "        vertical-align: middle;\n",
       "    }\n",
       "\n",
       "    .dataframe tbody tr th {\n",
       "        vertical-align: top;\n",
       "    }\n",
       "\n",
       "    .dataframe thead th {\n",
       "        text-align: right;\n",
       "    }\n",
       "</style>\n",
       "<table border=\"1\" class=\"dataframe\">\n",
       "  <thead>\n",
       "    <tr style=\"text-align: right;\">\n",
       "      <th></th>\n",
       "      <th>gender</th>\n",
       "      <th>age</th>\n",
       "      <th>height</th>\n",
       "      <th>weight</th>\n",
       "      <th>family_history_with_overweight</th>\n",
       "      <th>favc</th>\n",
       "      <th>fcvc</th>\n",
       "      <th>ncp</th>\n",
       "      <th>caec</th>\n",
       "      <th>smoke</th>\n",
       "      <th>ch2o</th>\n",
       "      <th>scc</th>\n",
       "      <th>faf</th>\n",
       "      <th>tue</th>\n",
       "      <th>calc</th>\n",
       "      <th>mtrans</th>\n",
       "      <th>nobeyesdad</th>\n",
       "    </tr>\n",
       "  </thead>\n",
       "  <tbody>\n",
       "    <tr>\n",
       "      <th>0</th>\n",
       "      <td>female</td>\n",
       "      <td>21.0</td>\n",
       "      <td>1.62</td>\n",
       "      <td>64.0</td>\n",
       "      <td>yes</td>\n",
       "      <td>no</td>\n",
       "      <td>2.0</td>\n",
       "      <td>3.0</td>\n",
       "      <td>sometimes</td>\n",
       "      <td>no</td>\n",
       "      <td>2.0</td>\n",
       "      <td>no</td>\n",
       "      <td>0.0</td>\n",
       "      <td>1.0</td>\n",
       "      <td>no</td>\n",
       "      <td>public_transportation</td>\n",
       "      <td>1</td>\n",
       "    </tr>\n",
       "    <tr>\n",
       "      <th>1</th>\n",
       "      <td>female</td>\n",
       "      <td>21.0</td>\n",
       "      <td>1.52</td>\n",
       "      <td>56.0</td>\n",
       "      <td>yes</td>\n",
       "      <td>no</td>\n",
       "      <td>3.0</td>\n",
       "      <td>3.0</td>\n",
       "      <td>sometimes</td>\n",
       "      <td>yes</td>\n",
       "      <td>3.0</td>\n",
       "      <td>yes</td>\n",
       "      <td>3.0</td>\n",
       "      <td>0.0</td>\n",
       "      <td>sometimes</td>\n",
       "      <td>public_transportation</td>\n",
       "      <td>1</td>\n",
       "    </tr>\n",
       "    <tr>\n",
       "      <th>2</th>\n",
       "      <td>male</td>\n",
       "      <td>23.0</td>\n",
       "      <td>1.80</td>\n",
       "      <td>77.0</td>\n",
       "      <td>yes</td>\n",
       "      <td>no</td>\n",
       "      <td>2.0</td>\n",
       "      <td>3.0</td>\n",
       "      <td>sometimes</td>\n",
       "      <td>no</td>\n",
       "      <td>2.0</td>\n",
       "      <td>no</td>\n",
       "      <td>2.0</td>\n",
       "      <td>1.0</td>\n",
       "      <td>frequently</td>\n",
       "      <td>public_transportation</td>\n",
       "      <td>1</td>\n",
       "    </tr>\n",
       "    <tr>\n",
       "      <th>3</th>\n",
       "      <td>male</td>\n",
       "      <td>27.0</td>\n",
       "      <td>1.80</td>\n",
       "      <td>87.0</td>\n",
       "      <td>no</td>\n",
       "      <td>no</td>\n",
       "      <td>3.0</td>\n",
       "      <td>3.0</td>\n",
       "      <td>sometimes</td>\n",
       "      <td>no</td>\n",
       "      <td>2.0</td>\n",
       "      <td>no</td>\n",
       "      <td>2.0</td>\n",
       "      <td>0.0</td>\n",
       "      <td>frequently</td>\n",
       "      <td>walking</td>\n",
       "      <td>2</td>\n",
       "    </tr>\n",
       "    <tr>\n",
       "      <th>4</th>\n",
       "      <td>male</td>\n",
       "      <td>22.0</td>\n",
       "      <td>1.78</td>\n",
       "      <td>89.8</td>\n",
       "      <td>no</td>\n",
       "      <td>no</td>\n",
       "      <td>2.0</td>\n",
       "      <td>1.0</td>\n",
       "      <td>sometimes</td>\n",
       "      <td>no</td>\n",
       "      <td>2.0</td>\n",
       "      <td>no</td>\n",
       "      <td>0.0</td>\n",
       "      <td>0.0</td>\n",
       "      <td>sometimes</td>\n",
       "      <td>public_transportation</td>\n",
       "      <td>3</td>\n",
       "    </tr>\n",
       "  </tbody>\n",
       "</table>\n",
       "</div>"
      ],
      "text/plain": [
       "   gender   age  height  weight family_history_with_overweight favc  fcvc  \\\n",
       "0  female  21.0    1.62    64.0                            yes   no   2.0   \n",
       "1  female  21.0    1.52    56.0                            yes   no   3.0   \n",
       "2    male  23.0    1.80    77.0                            yes   no   2.0   \n",
       "3    male  27.0    1.80    87.0                             no   no   3.0   \n",
       "4    male  22.0    1.78    89.8                             no   no   2.0   \n",
       "\n",
       "   ncp       caec smoke  ch2o  scc  faf  tue        calc  \\\n",
       "0  3.0  sometimes    no   2.0   no  0.0  1.0          no   \n",
       "1  3.0  sometimes   yes   3.0  yes  3.0  0.0   sometimes   \n",
       "2  3.0  sometimes    no   2.0   no  2.0  1.0  frequently   \n",
       "3  3.0  sometimes    no   2.0   no  2.0  0.0  frequently   \n",
       "4  1.0  sometimes    no   2.0   no  0.0  0.0   sometimes   \n",
       "\n",
       "                  mtrans  nobeyesdad  \n",
       "0  public_transportation           1  \n",
       "1  public_transportation           1  \n",
       "2  public_transportation           1  \n",
       "3                walking           2  \n",
       "4  public_transportation           3  "
      ]
     },
     "execution_count": 7,
     "metadata": {},
     "output_type": "execute_result"
    }
   ],
   "source": [
    "# Paso 2: Eliminar los atípicos del dataframe ya limpio\n",
    "df_final = eliminar_atipicos(df_limpio, age_range=(5, 50), height_max=2.5, ncp_max=10.0, iqr_factor=1.5)\n",
    "df_final.head()"
   ]
  },
  {
   "cell_type": "markdown",
   "id": "0454217d",
   "metadata": {},
   "source": [
    "# **4.- Guardar los Resultados**"
   ]
  },
  {
   "cell_type": "code",
   "execution_count": 8,
   "id": "95d7c176",
   "metadata": {},
   "outputs": [
    {
     "name": "stdout",
     "output_type": "stream",
     "text": [
      "\n",
      "Archivo guardado exitosamente en: d:/OneDrive/Escritorio/Maestria IA/Trimestre 4/MLOps/Git_Local/ObesityEstimation53/data/obesity_estimation_cleaned.csv\n",
      "\n",
      "Proceso de guardado finalizado con éxito.\n"
     ]
    }
   ],
   "source": [
    "# Llamar a la función para guardar resultados\n",
    "import os\n",
    "nombre_archivo = 'obesity_estimation_cleaned.csv'\n",
    "ruta_destino = 'd:/OneDrive/Escritorio/Maestria IA/Trimestre 4/MLOps/Git_Local/ObesityEstimation53/data/'\n",
    "\n",
    "# Crear la carpeta si no existe\n",
    "os.makedirs(ruta_destino, exist_ok=True)\n",
    "\n",
    "output_path = os.path.join(ruta_destino, nombre_archivo)\n",
    "guardado_exitoso = False\n",
    "try:\n",
    "    df_final.to_csv(output_path, index=False)\n",
    "    guardado_exitoso = True\n",
    "    print(f\"\\nArchivo guardado exitosamente en: {output_path}\")\n",
    "except Exception as e:\n",
    "    print(f\"\\nError al guardar el archivo: {e}\")\n",
    "\n",
    "# Resultado\n",
    "if guardado_exitoso:\n",
    "    print(\"\\nProceso de guardado finalizado con éxito.\")\n",
    "else:\n",
    "    print(\"\\nProceso de guardado fallido. Revisar la ruta destino.\")"
   ]
  },
  {
   "cell_type": "markdown",
   "id": "ff4e9c1c",
   "metadata": {},
   "source": [
    "# **5.- Guardar los Resultados en DVC**"
   ]
  },
  {
   "cell_type": "code",
   "execution_count": 9,
   "id": "96637fdc",
   "metadata": {},
   "outputs": [
    {
     "name": "stdout",
     "output_type": "stream",
     "text": [
      "Cambiando al directorio: d:\\OneDrive\\Escritorio\\Maestria IA\\Trimestre 4\\MLOps\\Git_Local\\ObesityEstimation53\n",
      "CSV guardado localmente en: d:\\OneDrive\\Escritorio\\Maestria IA\\Trimestre 4\\MLOps\\Git_Local\\ObesityEstimation53\\data\\obesity_estimation_cleaned.csv\n",
      "Archivo añadido a DVC.\n",
      "Archivo añadido a DVC.\n",
      "On branch dev2\n",
      "Your branch is up to date with 'origin/dev2'.\n",
      "\n",
      "Changes not staged for commit:\n",
      "  (use \"git add <file>...\" to update what will be committed)\n",
      "  (use \"git restore <file>...\" to discard changes in working directory)\n",
      "\tmodified:   artefactos/mejores_modelos.csv\n",
      "\tmodified:   artefactos/pipelines_optimizados.joblib\n",
      "\tmodified:   notebooks/1. Data manipulation and preparation/1.2_data_cleaning.ipynb\n",
      "\tmodified:   notebooks/1. Data manipulation and preparation/1.3_exploratory_analysis_eda.ipynb\n",
      "\tmodified:   notebooks/2. Preprocessing and Feature Engineering/2.1_feature_engineering.ipynb\n",
      "\tmodified:   notebooks/2. Preprocessing and Feature Engineering/2.2_preprocessing_pipelines.ipynb\n",
      "\tmodified:   notebooks/3. Model Building, Tuning, and Evaluation/3.1_model_building_and_tuning.ipynb\n",
      "\tmodified:   src/__pycache__/carga_dvc.cpython-39.pyc\n",
      "\tmodified:   src/pipelines.py\n",
      "\n",
      "Untracked files:\n",
      "  (use \"git add <file>...\" to include in what will be committed)\n",
      "\tnotebooks/3. Model Building, Tuning, and Evaluation/test_kernel.py\n",
      "\tscripts/\n",
      "\tsrc/__pycache__/cargar_analisis.cpython-310.pyc\n",
      "\tsrc/__pycache__/modelos.cpython-310.pyc\n",
      "\tsrc/__pycache__/modelos.cpython-39.pyc\n",
      "\tsrc/__pycache__/pipelines.cpython-310.pyc\n",
      "\tsrc/__pycache__/pipelines.cpython-39.pyc\n",
      "\tsrc/carga_dvc.py\n",
      "\n",
      "no changes added to commit (use \"git add\" and/or \"git commit -a\")\n",
      "\n",
      "Error: git commit -m \"Update cleaned dataset and DVC config\"\n",
      "\n",
      "Estado actual:\n",
      "Directorio actual: d:\\OneDrive\\Escritorio\\Maestria IA\\Trimestre 4\\MLOps\\Git_Local\\ObesityEstimation53\n",
      "El directorio .dvc existe\n",
      "Contenido de .dvc:\n",
      "['.gitignore', 'cache', 'config', 'config.local', 'tmp']\n",
      "\n",
      "Contenido de .dvc/config:\n",
      "[core]\n",
      "    remote = storage\n",
      "['remote \"storage\"']\n",
      "    url = https://github.com/JCGarcesDC/ObesityEstimation53.git\n",
      "\n",
      "On branch dev2\n",
      "Your branch is up to date with 'origin/dev2'.\n",
      "\n",
      "Changes not staged for commit:\n",
      "  (use \"git add <file>...\" to update what will be committed)\n",
      "  (use \"git restore <file>...\" to discard changes in working directory)\n",
      "\tmodified:   artefactos/mejores_modelos.csv\n",
      "\tmodified:   artefactos/pipelines_optimizados.joblib\n",
      "\tmodified:   notebooks/1. Data manipulation and preparation/1.2_data_cleaning.ipynb\n",
      "\tmodified:   notebooks/1. Data manipulation and preparation/1.3_exploratory_analysis_eda.ipynb\n",
      "\tmodified:   notebooks/2. Preprocessing and Feature Engineering/2.1_feature_engineering.ipynb\n",
      "\tmodified:   notebooks/2. Preprocessing and Feature Engineering/2.2_preprocessing_pipelines.ipynb\n",
      "\tmodified:   notebooks/3. Model Building, Tuning, and Evaluation/3.1_model_building_and_tuning.ipynb\n",
      "\tmodified:   src/__pycache__/carga_dvc.cpython-39.pyc\n",
      "\tmodified:   src/pipelines.py\n",
      "\n",
      "Untracked files:\n",
      "  (use \"git add <file>...\" to include in what will be committed)\n",
      "\tnotebooks/3. Model Building, Tuning, and Evaluation/test_kernel.py\n",
      "\tscripts/\n",
      "\tsrc/__pycache__/cargar_analisis.cpython-310.pyc\n",
      "\tsrc/__pycache__/modelos.cpython-310.pyc\n",
      "\tsrc/__pycache__/modelos.cpython-39.pyc\n",
      "\tsrc/__pycache__/pipelines.cpython-310.pyc\n",
      "\tsrc/__pycache__/pipelines.cpython-39.pyc\n",
      "\tsrc/carga_dvc.py\n",
      "\n",
      "no changes added to commit (use \"git add\" and/or \"git commit -a\")\n",
      "\n",
      "Error: git commit -m \"Update cleaned dataset and DVC config\"\n",
      "\n",
      "Estado actual:\n",
      "Directorio actual: d:\\OneDrive\\Escritorio\\Maestria IA\\Trimestre 4\\MLOps\\Git_Local\\ObesityEstimation53\n",
      "El directorio .dvc existe\n",
      "Contenido de .dvc:\n",
      "['.gitignore', 'cache', 'config', 'config.local', 'tmp']\n",
      "\n",
      "Contenido de .dvc/config:\n",
      "[core]\n",
      "    remote = storage\n",
      "['remote \"storage\"']\n",
      "    url = https://github.com/JCGarcesDC/ObesityEstimation53.git\n",
      "\n"
     ]
    },
    {
     "name": "stderr",
     "output_type": "stream",
     "text": [
      "\n"
     ]
    }
   ],
   "source": [
    "# Guardar dataset limpio y actualizar DVC/Git\n",
    "try:\n",
    "    # Ruta explícita al proyecto\n",
    "    project_root = r'd:\\OneDrive\\Escritorio\\Maestria IA\\Trimestre 4\\MLOps\\Git_Local\\ObesityEstimation53'\n",
    "    \n",
    "    print(f\"Cambiando al directorio: {project_root}\")\n",
    "    os.chdir(project_root)\n",
    "    \n",
    "    # Guardar el CSV\n",
    "    output_path = os.path.join(project_root, \"data\", \"obesity_estimation_cleaned.csv\")\n",
    "    df_final.to_csv(output_path, index=False)\n",
    "    print(f\"CSV guardado localmente en: {output_path}\")\n",
    "    \n",
    "    # Comandos DVC y Git\n",
    "    from src.carga_dvc import run\n",
    "    \n",
    "    # Configurar Git\n",
    "    try:\n",
    "        run('git config user.name \"MLOps Team53\"')\n",
    "        run('git config user.email \"team53@mlops.com\"')\n",
    "    except:\n",
    "        pass\n",
    "        \n",
    "    # Asegurar que estamos en la rama correcta\n",
    "    try:\n",
    "        run('git checkout dev2')\n",
    "    except:\n",
    "        run('git checkout -b dev2')\n",
    "    \n",
    "    # Actualizar .gitignore principal\n",
    "    with open('.gitignore', 'w') as f:\n",
    "        f.write(\"\"\"\n",
    "/data/**\n",
    "!/data/*.dvc\n",
    "        \"\"\")\n",
    "    \n",
    "    # Inicializar DVC si es necesario\n",
    "    if not os.path.exists('.dvc'):\n",
    "        run('dvc init')\n",
    "    \n",
    "    # Configurar DVC para usar GitHub\n",
    "    try:\n",
    "        run('dvc remote remove storage')\n",
    "    except:\n",
    "        pass\n",
    "    \n",
    "    # Usar GitHub como almacenamiento DVC\n",
    "    run('dvc remote add -f -d storage https://github.com/JCGarcesDC/ObesityEstimation53.git')\n",
    "    \n",
    "    # Añadir el archivo a DVC (forzar si es necesario)\n",
    "    try:\n",
    "        run('dvc remove data/obesity_estimation_cleaned.csv.dvc')  # Eliminar si existe\n",
    "    except:\n",
    "        pass\n",
    "        \n",
    "    run('dvc add -f data/obesity_estimation_cleaned.csv')\n",
    "    print(\"Archivo añadido a DVC.\")\n",
    "    \n",
    "    # Stage changes\n",
    "    run('git add -f .gitignore')\n",
    "    run('git add -f data/obesity_estimation_cleaned.csv.dvc')\n",
    "    run('git add -f .dvc/config')\n",
    "    \n",
    "    # Commit\n",
    "    run('git commit -m \"Update cleaned dataset and DVC config\"')\n",
    "    print(\"Cambios commiteados en Git.\")\n",
    "    \n",
    "    print(\"\\nPara completar el proceso, necesitas ejecutar manualmente los siguientes comandos:\")\n",
    "    print(\"\\n1. Hacer push a GitHub:\")\n",
    "    print('git push origin dev2')\n",
    "    print(\"\\n2. Configurar el token de GitHub (reemplaza YOUR_TOKEN con tu token personal):\")\n",
    "    print('git remote set-url origin https://YOUR_TOKEN@github.com/JCGarcesDC/ObesityEstimation53.git')\n",
    "    print(\"\\n3. Push a DVC:\")\n",
    "    print('dvc push')\n",
    "    \n",
    "except Exception as e:\n",
    "    print(f\"Error: {str(e)}\")\n",
    "    print(\"\\nEstado actual:\")\n",
    "    print(f\"Directorio actual: {os.getcwd()}\")\n",
    "    if os.path.exists('.dvc'):\n",
    "        print(\"El directorio .dvc existe\")\n",
    "        print(\"Contenido de .dvc:\")\n",
    "        print(os.listdir('.dvc'))\n",
    "        print(\"\\nContenido de .dvc/config:\")\n",
    "        with open('.dvc/config', 'r') as f:\n",
    "            print(f.read())"
   ]
  }
 ],
 "metadata": {
  "kernelspec": {
   "display_name": "base",
   "language": "python",
   "name": "python3"
  },
  "language_info": {
   "codemirror_mode": {
    "name": "ipython",
    "version": 3
   },
   "file_extension": ".py",
   "mimetype": "text/x-python",
   "name": "python",
   "nbconvert_exporter": "python",
   "pygments_lexer": "ipython3",
   "version": "3.9.7"
  }
 },
 "nbformat": 4,
 "nbformat_minor": 5
}
