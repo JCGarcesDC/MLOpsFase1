{
 "cells": [
  {
   "cell_type": "markdown",
   "id": "453b03cb",
   "metadata": {},
   "source": [
    "# Roles y responsabilidades en este notebook\n",
    "\n",
    "- **Data Engineer**: Responsable de la adquisición, integración, almacenamiento y calidad de los datos. Automatiza flujos de datos y asegura la trazabilidad.\n",
    "- **Data Scientist**: Realiza análisis exploratorio, define variables, valida supuestos y extrae insights del dataset.\n",
    "- **ML Engineer**: Implementa pipelines, optimiza procesamiento, integra modelos y asegura reproducibilidad.\n",
    "- **Software Engineer**: Garantiza estructura modular, calidad de código, automatización, integración continua y buenas prácticas de desarrollo."
   ]
  },
  {
   "cell_type": "markdown",
   "id": "afa1992d",
   "metadata": {},
   "source": [
    "# **Limpieza de Datos**\n",
    "\n",
    "Identificar y manejar valores nulos, duplicados, inconsistencias o posibles outliers."
   ]
  },
  {
   "cell_type": "markdown",
   "id": "54f4aa01",
   "metadata": {},
   "source": [
    "# 1.- **Importar librerias**"
   ]
  },
  {
   "cell_type": "code",
   "execution_count": 26,
   "id": "cb82efbb",
   "metadata": {},
   "outputs": [
    {
     "name": "stdout",
     "output_type": "stream",
     "text": [
      "Funciones importadas exitosamente desde src/\n",
      "Raíz del proyecto detectada: d:\\OneDrive\\Escritorio\\Maestria IA\\Trimestre 4\\MLOps\\Git_Local\\ObesityMine53\n",
      "CSV esperado: d:\\OneDrive\\Escritorio\\Maestria IA\\Trimestre 4\\MLOps\\Git_Local\\ObesityMine53\\data\\raw\\obesity_estimation_model.csv | Existe: True\n"
     ]
    }
   ],
   "source": [
    "# Importar librerías estándar\n",
    "import sys\n",
    "import os\n",
    "\n",
    "# Detectar la raíz del proyecto de forma robusta (buscando 'src' o '.dvc')\n",
    "def find_project_root(path):\n",
    "    while path != os.path.dirname(path):\n",
    "        items = set(os.listdir(path))\n",
    "        if 'src' in items or '.dvc' in items:\n",
    "            return path\n",
    "        path = os.path.dirname(path)\n",
    "    raise FileNotFoundError(\"No se encontró la raíz del proyecto (carpeta 'src' o '.dvc').\")\n",
    "\n",
    "# 1) Calcular y exponer la ruta raíz del proyecto\n",
    "ruta_raiz_proyecto = find_project_root(os.getcwd())\n",
    "sys.path.append(ruta_raiz_proyecto)\n",
    "\n",
    "# 2) Importar funciones del proyecto\n",
    "from src.cargar_analisis import cargar_dataframe, crear_listas_variables\n",
    "from src.limpieza import limpiar_y_detectar_atipicos, eliminar_atipicos, guardar_dataframe\n",
    "from src.carga_dvc import run, save_csv_and_push\n",
    "\n",
    "# 3) Mostrar diagnóstico rápido\n",
    "print(\"Funciones importadas exitosamente desde src/\")\n",
    "print(f\"Raíz del proyecto detectada: {ruta_raiz_proyecto}\")\n",
    "csv_model_path = os.path.join(ruta_raiz_proyecto, 'data', 'raw', 'obesity_estimation_model.csv')\n",
    "print(f\"CSV esperado: {csv_model_path} | Existe: {os.path.exists(csv_model_path)}\")"
   ]
  },
  {
   "cell_type": "markdown",
   "id": "4dc149b2",
   "metadata": {},
   "source": [
    "# **2.- Importar datos**"
   ]
  },
  {
   "cell_type": "code",
   "execution_count": 27,
   "id": "d3bc3b8e",
   "metadata": {},
   "outputs": [
    {
     "name": "stdout",
     "output_type": "stream",
     "text": [
      "Archivo CSV cargado exitosamente desde: d:\\OneDrive\\Escritorio\\Maestria IA\\Trimestre 4\\MLOps\\Git_Local\\ObesityMine53\\data\\raw\\obesity_estimation_model.csv\n"
     ]
    }
   ],
   "source": [
    "# Ruta de la base de datos\n",
    "path_data = os.path.join(ruta_raiz_proyecto, 'data', 'raw', 'obesity_estimation_model.csv')\n",
    "\n",
    "# Ejecutar función para cargar datos\n",
    "df = cargar_dataframe(path_data)\n",
    "\n",
    "# Ejecutar la función para generar listas con las variables numericas, categoricas y objetivo\n",
    "variables_numericas, variables_categoricas, variable_objetivo = crear_listas_variables(to_lower=True)"
   ]
  },
  {
   "cell_type": "markdown",
   "id": "d62d035a",
   "metadata": {},
   "source": [
    "# **3.- Limpieza de datos**"
   ]
  },
  {
   "cell_type": "code",
   "execution_count": 28,
   "id": "529ea023",
   "metadata": {},
   "outputs": [
    {
     "name": "stdout",
     "output_type": "stream",
     "text": [
      "DataFrame limpio creado con éxito\n"
     ]
    }
   ],
   "source": [
    "# Paso 1: Crear una copia limpia del DataFrame\n",
    "df_limpio = df.copy()\n",
    "\n",
    "# Estandarizar nombres de columnas\n",
    "df_limpio.columns = (\n",
    "    df_limpio.columns\n",
    "      .str.strip()\n",
    "      .str.replace(' ', '_')\n",
    "      .str.replace('-', '_')\n",
    "      .str.lower()\n",
    ")\n",
    "\n",
    "# Eliminar duplicados\n",
    "df_limpio = df_limpio.drop_duplicates()\n",
    "\n",
    "print(\"DataFrame limpio creado con éxito\")"
   ]
  },
  {
   "cell_type": "markdown",
   "id": "0454217d",
   "metadata": {},
   "source": [
    "# **4.- Guardar los Resultados**"
   ]
  },
  {
   "cell_type": "code",
   "execution_count": 29,
   "id": "f995d270",
   "metadata": {},
   "outputs": [
    {
     "data": {
      "text/markdown": [
       "---"
      ],
      "text/plain": [
       "<IPython.core.display.Markdown object>"
      ]
     },
     "metadata": {},
     "output_type": "display_data"
    },
    {
     "data": {
      "text/markdown": [
       "## **Proceso de Eliminación de Atípicos**"
      ],
      "text/plain": [
       "<IPython.core.display.Markdown object>"
      ]
     },
     "metadata": {},
     "output_type": "display_data"
    },
    {
     "data": {
      "text/markdown": [
       "---"
      ],
      "text/plain": [
       "<IPython.core.display.Markdown object>"
      ]
     },
     "metadata": {},
     "output_type": "display_data"
    },
    {
     "name": "stdout",
     "output_type": "stream",
     "text": [
      "1. Aplicando reglas de negocio para 'age', 'height' y 'ncp'...\n",
      "   - Se eliminaron 0 filas con reglas de negocio.\n",
      "\n",
      "2. Aplicando método IQR para el resto de variables numéricas...\n",
      "   - Se eliminaron 0 filas adicionales con el método IQR.\n"
     ]
    },
    {
     "data": {
      "text/markdown": [
       "### Reporte Final de Eliminación"
      ],
      "text/plain": [
       "<IPython.core.display.Markdown object>"
      ]
     },
     "metadata": {},
     "output_type": "display_data"
    },
    {
     "name": "stdout",
     "output_type": "stream",
     "text": [
      "Filas iniciales: 1,909\n",
      "Filas finales:   1,909\n",
      "Total de filas eliminadas: 0 (0.00%)\n"
     ]
    },
    {
     "data": {
      "text/markdown": [
       "---"
      ],
      "text/plain": [
       "<IPython.core.display.Markdown object>"
      ]
     },
     "metadata": {},
     "output_type": "display_data"
    },
    {
     "name": "stdout",
     "output_type": "stream",
     "text": [
      "\n",
      "Proceso de eliminación de atípicos finalizado.\n"
     ]
    },
    {
     "data": {
      "text/html": [
       "<div>\n",
       "<style scoped>\n",
       "    .dataframe tbody tr th:only-of-type {\n",
       "        vertical-align: middle;\n",
       "    }\n",
       "\n",
       "    .dataframe tbody tr th {\n",
       "        vertical-align: top;\n",
       "    }\n",
       "\n",
       "    .dataframe thead th {\n",
       "        text-align: right;\n",
       "    }\n",
       "</style>\n",
       "<table border=\"1\" class=\"dataframe\">\n",
       "  <thead>\n",
       "    <tr style=\"text-align: right;\">\n",
       "      <th></th>\n",
       "      <th>gender</th>\n",
       "      <th>age</th>\n",
       "      <th>height</th>\n",
       "      <th>weight</th>\n",
       "      <th>family_history_with_overweight</th>\n",
       "      <th>favc</th>\n",
       "      <th>fcvc</th>\n",
       "      <th>ncp</th>\n",
       "      <th>caec</th>\n",
       "      <th>smoke</th>\n",
       "      <th>ch2o</th>\n",
       "      <th>scc</th>\n",
       "      <th>faf</th>\n",
       "      <th>tue</th>\n",
       "      <th>calc</th>\n",
       "      <th>mtrans</th>\n",
       "      <th>nobeyesdad</th>\n",
       "      <th>imc</th>\n",
       "    </tr>\n",
       "  </thead>\n",
       "  <tbody>\n",
       "    <tr>\n",
       "      <th>0</th>\n",
       "      <td>female</td>\n",
       "      <td>21.0</td>\n",
       "      <td>1.62</td>\n",
       "      <td>64.0</td>\n",
       "      <td>yes</td>\n",
       "      <td>no</td>\n",
       "      <td>2.0</td>\n",
       "      <td>3.0</td>\n",
       "      <td>sometimes</td>\n",
       "      <td>no</td>\n",
       "      <td>2.0</td>\n",
       "      <td>no</td>\n",
       "      <td>0.0</td>\n",
       "      <td>1.0</td>\n",
       "      <td>no</td>\n",
       "      <td>public_transportation</td>\n",
       "      <td>1</td>\n",
       "      <td>24.386526</td>\n",
       "    </tr>\n",
       "    <tr>\n",
       "      <th>1</th>\n",
       "      <td>female</td>\n",
       "      <td>21.0</td>\n",
       "      <td>1.52</td>\n",
       "      <td>56.0</td>\n",
       "      <td>yes</td>\n",
       "      <td>no</td>\n",
       "      <td>3.0</td>\n",
       "      <td>3.0</td>\n",
       "      <td>sometimes</td>\n",
       "      <td>yes</td>\n",
       "      <td>3.0</td>\n",
       "      <td>yes</td>\n",
       "      <td>3.0</td>\n",
       "      <td>0.0</td>\n",
       "      <td>sometimes</td>\n",
       "      <td>public_transportation</td>\n",
       "      <td>1</td>\n",
       "      <td>24.238227</td>\n",
       "    </tr>\n",
       "    <tr>\n",
       "      <th>2</th>\n",
       "      <td>male</td>\n",
       "      <td>23.0</td>\n",
       "      <td>1.80</td>\n",
       "      <td>77.0</td>\n",
       "      <td>yes</td>\n",
       "      <td>no</td>\n",
       "      <td>2.0</td>\n",
       "      <td>3.0</td>\n",
       "      <td>sometimes</td>\n",
       "      <td>no</td>\n",
       "      <td>2.0</td>\n",
       "      <td>no</td>\n",
       "      <td>2.0</td>\n",
       "      <td>1.0</td>\n",
       "      <td>frequently</td>\n",
       "      <td>public_transportation</td>\n",
       "      <td>1</td>\n",
       "      <td>23.765432</td>\n",
       "    </tr>\n",
       "    <tr>\n",
       "      <th>3</th>\n",
       "      <td>male</td>\n",
       "      <td>27.0</td>\n",
       "      <td>1.80</td>\n",
       "      <td>87.0</td>\n",
       "      <td>no</td>\n",
       "      <td>no</td>\n",
       "      <td>3.0</td>\n",
       "      <td>3.0</td>\n",
       "      <td>sometimes</td>\n",
       "      <td>no</td>\n",
       "      <td>2.0</td>\n",
       "      <td>no</td>\n",
       "      <td>2.0</td>\n",
       "      <td>0.0</td>\n",
       "      <td>frequently</td>\n",
       "      <td>walking</td>\n",
       "      <td>2</td>\n",
       "      <td>26.851852</td>\n",
       "    </tr>\n",
       "    <tr>\n",
       "      <th>4</th>\n",
       "      <td>male</td>\n",
       "      <td>22.0</td>\n",
       "      <td>1.78</td>\n",
       "      <td>89.8</td>\n",
       "      <td>no</td>\n",
       "      <td>no</td>\n",
       "      <td>2.0</td>\n",
       "      <td>1.0</td>\n",
       "      <td>sometimes</td>\n",
       "      <td>no</td>\n",
       "      <td>2.0</td>\n",
       "      <td>no</td>\n",
       "      <td>0.0</td>\n",
       "      <td>0.0</td>\n",
       "      <td>sometimes</td>\n",
       "      <td>public_transportation</td>\n",
       "      <td>3</td>\n",
       "      <td>28.342381</td>\n",
       "    </tr>\n",
       "  </tbody>\n",
       "</table>\n",
       "</div>"
      ],
      "text/plain": [
       "   gender   age  height  weight family_history_with_overweight favc  fcvc  \\\n",
       "0  female  21.0    1.62    64.0                            yes   no   2.0   \n",
       "1  female  21.0    1.52    56.0                            yes   no   3.0   \n",
       "2    male  23.0    1.80    77.0                            yes   no   2.0   \n",
       "3    male  27.0    1.80    87.0                             no   no   3.0   \n",
       "4    male  22.0    1.78    89.8                             no   no   2.0   \n",
       "\n",
       "   ncp       caec smoke  ch2o  scc  faf  tue        calc  \\\n",
       "0  3.0  sometimes    no   2.0   no  0.0  1.0          no   \n",
       "1  3.0  sometimes   yes   3.0  yes  3.0  0.0   sometimes   \n",
       "2  3.0  sometimes    no   2.0   no  2.0  1.0  frequently   \n",
       "3  3.0  sometimes    no   2.0   no  2.0  0.0  frequently   \n",
       "4  1.0  sometimes    no   2.0   no  0.0  0.0   sometimes   \n",
       "\n",
       "                  mtrans  nobeyesdad        imc  \n",
       "0  public_transportation           1  24.386526  \n",
       "1  public_transportation           1  24.238227  \n",
       "2  public_transportation           1  23.765432  \n",
       "3                walking           2  26.851852  \n",
       "4  public_transportation           3  28.342381  "
      ]
     },
     "execution_count": 29,
     "metadata": {},
     "output_type": "execute_result"
    }
   ],
   "source": [
    "# Paso 2: Eliminar los atípicos del dataframe ya limpio\n",
    "df_final = eliminar_atipicos(df_limpio, age_range=(5, 50), height_max=2.5, ncp_max=10.0, iqr_factor=1.5)\n",
    "df_final.head()"
   ]
  },
  {
   "cell_type": "code",
   "execution_count": 30,
   "id": "95d7c176",
   "metadata": {},
   "outputs": [
    {
     "name": "stdout",
     "output_type": "stream",
     "text": [
      "\n",
      "Archivo guardado exitosamente en: d:\\OneDrive\\Escritorio\\Maestria IA\\Trimestre 4\\MLOps\\Git_Local\\ObesityMine53\\data\\raw\\obesity_estimation_cleaned.csv\n",
      "\n",
      "Proceso de guardado finalizado con éxito.\n"
     ]
    }
   ],
   "source": [
    "# Llamar a la función para guardar resultados\n",
    "import os\n",
    "nombre_archivo = 'obesity_estimation_cleaned.csv'\n",
    "ruta_destino = os.path.join(ruta_raiz_proyecto, 'data','raw')\n",
    "\n",
    "# Crear la carpeta si no existe\n",
    "os.makedirs(ruta_destino, exist_ok=True)\n",
    "\n",
    "output_path = os.path.join(ruta_destino, nombre_archivo)\n",
    "guardado_exitoso = False\n",
    "try:\n",
    "    df_final.to_csv(output_path, index=False)\n",
    "    guardado_exitoso = True\n",
    "    print(f\"\\nArchivo guardado exitosamente en: {output_path}\")\n",
    "except Exception as e:\n",
    "    print(f\"\\nError al guardar el archivo: {e}\")\n",
    "\n",
    "# Resultado\n",
    "if guardado_exitoso:\n",
    "    print(\"\\nProceso de guardado finalizado con éxito.\")\n",
    "else:\n",
    "    print(\"\\nProceso de guardado fallido. Revisar la ruta destino.\")"
   ]
  },
  {
   "cell_type": "markdown",
   "id": "ff4e9c1c",
   "metadata": {},
   "source": [
    "# **5.- Guardar los Resultados en DVC**"
   ]
  },
  {
   "cell_type": "code",
   "execution_count": 31,
   "id": "96637fdc",
   "metadata": {},
   "outputs": [
    {
     "name": "stdout",
     "output_type": "stream",
     "text": [
      "Cambiando al directorio: d:\\OneDrive\\Escritorio\\Maestria IA\\Trimestre 4\\MLOps\\Git_Local\\ObesityMine53\n",
      "CSV guardado localmente en: d:\\OneDrive\\Escritorio\\Maestria IA\\Trimestre 4\\MLOps\\Git_Local\\ObesityMine53\\data\\raw\\obesity_estimation_cleaned.csv\n",
      "Credenciales GCS encontradas: obesityestimation-mna-mlops-53-5118ae1196dd.json\n",
      "Credenciales GCS encontradas: obesityestimation-mna-mlops-53-5118ae1196dd.json\n",
      "Remoto DVC configurado: gs://obesityestimation-mna-mlops-53\n",
      "Remoto DVC configurado: gs://obesityestimation-mna-mlops-53\n",
      "Archivo añadido a DVC.\n",
      "Archivo añadido a DVC.\n",
      "Cambios commiteados en Git.\n",
      "No se encontró un token válido. Configure GITHUB_TOKEN o edite config/credentials.yaml.\n",
      "Ejemplos:\n",
      "PowerShell (temporal): $env:GITHUB_TOKEN=\"tu_token\"\n",
      "Bash (temporal): export GITHUB_TOKEN=tu_token\n",
      "Luego ejecute: git push origin dev2\n",
      "\n",
      "Para subir datos a DVC ejecute: dvc push\n",
      "Esto subirá los datos al bucket de Google Cloud Storage configurado.\n",
      "Cambios commiteados en Git.\n",
      "No se encontró un token válido. Configure GITHUB_TOKEN o edite config/credentials.yaml.\n",
      "Ejemplos:\n",
      "PowerShell (temporal): $env:GITHUB_TOKEN=\"tu_token\"\n",
      "Bash (temporal): export GITHUB_TOKEN=tu_token\n",
      "Luego ejecute: git push origin dev2\n",
      "\n",
      "Para subir datos a DVC ejecute: dvc push\n",
      "Esto subirá los datos al bucket de Google Cloud Storage configurado.\n"
     ]
    }
   ],
   "source": [
    "# Guardar dataset limpio y actualizar DVC/Git\n",
    "try:\n",
    "    # Detectar la raíz del proyecto buscando la carpeta que contiene 'src'\n",
    "    def find_project_root(path):\n",
    "        while path != os.path.dirname(path):\n",
    "            if 'src' in os.listdir(path):\n",
    "                return path\n",
    "            path = os.path.dirname(path)\n",
    "        raise FileNotFoundError(\"No se encontró la carpeta 'src' en la jerarquía de carpetas.\")\n",
    "\n",
    "    project_root = find_project_root(os.getcwd())\n",
    "    print(f\"Cambiando al directorio: {project_root}\")\n",
    "    os.chdir(project_root)\n",
    "\n",
    "    # Guardar el CSV en data/raw/\n",
    "    output_path = os.path.join(project_root, \"data\", \"raw\", \"obesity_estimation_cleaned.csv\")\n",
    "    df_final.to_csv(output_path, index=False)\n",
    "    print(f\"CSV guardado localmente en: {output_path}\")\n",
    "\n",
    "    # Comandos DVC y Git\n",
    "    from src.carga_dvc import run\n",
    "    import yaml\n",
    "    import os\n",
    "    import glob\n",
    "\n",
    "    # Configurar Git\n",
    "    try:\n",
    "        run('git config user.name \"JCGarcesDC\"')\n",
    "        run('git config user.email \"A01796283@tec.mx\"')\n",
    "    except Exception as e:\n",
    "        print(f\"Error config git: {e}\")\n",
    "\n",
    "    # Asegurar que estamos en la rama correcta\n",
    "    try:\n",
    "        run('git checkout dev2')\n",
    "    except Exception as e:\n",
    "        run('git checkout -b dev2')\n",
    "\n",
    "    # Escribir .gitignore correcto para permitir archivos .dvc dentro de data/\n",
    "    with open('.gitignore', 'w', encoding='utf-8') as f:\n",
    "        f.write(\"\"\"\n",
    "# Python\n",
    "__pycache__/\n",
    "*.py[cod]\n",
    "*$py.class\n",
    "\n",
    ".Python\n",
    "build/\n",
    "dist/\n",
    "\n",
    "# Jupyter\n",
    ".ipynb_checkpoints/\n",
    "*/.ipynb_checkpoints/*\n",
    "\n",
    "# Environments\n",
    ".env\n",
    ".venv\n",
    "env/\n",
    "venv/\n",
    "ENV/\n",
    "\n",
    ".gitignore\n",
    ".gitattributes\n",
    "\n",
    "# MLflow\n",
    "mlruns/\n",
    "mlartifacts/\n",
    "outputs/\n",
    "\n",
    "# Data (ignorar datos, mantener metadatos de DVC)\n",
    "data/**\n",
    "!data/**/*.dvc\n",
    "!data/**/.gitkeep\n",
    "!data/**/*.gitignore\n",
    "!data/README.md\n",
    "\n",
    "# Models\n",
    "models/*\n",
    "!models/.gitkeep\n",
    "\n",
    "# Credentials\n",
    "/config/credentials.yaml\n",
    ".dvc/*.json\n",
    "\n",
    "# DVC\n",
    ".dvc/\n",
    "/dvc.lock\n",
    "/dvc.yaml\n",
    "\n",
    "# Logs\n",
    "*.log\n",
    "logs/\n",
    "\"\"\")\n",
    "\n",
    "    # Inicializar DVC si es necesario\n",
    "    if not os.path.exists('.dvc'):\n",
    "        run('dvc init')\n",
    "\n",
    "    # Configurar remoto DVC usando Google Cloud Storage\n",
    "    # Buscar archivo de credenciales de GCS en .dvc/\n",
    "    gcs_cred_files = glob.glob(os.path.join(project_root, '.dvc', '*mna-mlops*.json'))\n",
    "    if gcs_cred_files:\n",
    "        gcs_cred_path = gcs_cred_files[0]\n",
    "        print(f\"Credenciales GCS encontradas: {os.path.basename(gcs_cred_path)}\")\n",
    "        \n",
    "        # Configurar remoto GCS con el bucket correcto\n",
    "        gcs_bucket = \"gs://obesityestimation-mna-mlops-53\"\n",
    "        run(f'dvc remote add -f -d storage {gcs_bucket}')\n",
    "        run(f'dvc remote modify storage credentialpath \"{gcs_cred_path}\"')\n",
    "        print(f\"Remoto DVC configurado: {gcs_bucket}\")\n",
    "    else:\n",
    "        # Fallback: usar directorio local si no hay credenciales GCS\n",
    "        print(\"No se encontraron credenciales GCS. Usando remoto local.\")\n",
    "        remote_dir = os.path.join(project_root, 'dvc_remote')\n",
    "        os.makedirs(remote_dir, exist_ok=True)\n",
    "        run(f'dvc remote add -f -d storage \"{remote_dir}\"')\n",
    "\n",
    "    # Asegurar que no existe un .dvc previo (no crítico si falla)\n",
    "    try:\n",
    "        run('dvc remove data/raw/obesity_estimation_cleaned.csv.dvc')\n",
    "    except Exception as e:\n",
    "        print(f\"Aviso remove dvc file (puede ser normal): {e}\")\n",
    "\n",
    "    # Añadir el archivo a DVC\n",
    "    run('dvc add -f data/raw/obesity_estimation_cleaned.csv')\n",
    "    print(\"Archivo añadido a DVC.\")\n",
    "\n",
    "    # Stage changes\n",
    "    run('git add -f .gitignore')\n",
    "    run('git add -f data/raw/obesity_estimation_cleaned.csv.dvc')\n",
    "    run('git add -f .dvc/config')\n",
    "\n",
    "    # Commit idempotente: si no hay cambios, omite el commit sin error\n",
    "    try:\n",
    "        run('git commit -m \"Track cleaned dataset with DVC and configure GCS remote\"')\n",
    "        print(\"Cambios commiteados en Git.\")\n",
    "    except Exception:\n",
    "        print(\"No hay cambios para commitear; se omite el commit.\")\n",
    "\n",
    "    # --- Push seguro a GitHub leyendo token desde config/credentials.yaml o variable de entorno ---\n",
    "    # Prioridad: variable de entorno GITHUB_TOKEN > archivo config/credentials.yaml > sin push automático\n",
    "    github_token = os.getenv(\"GITHUB_TOKEN\")\n",
    "    if not github_token:\n",
    "        cred_path = os.path.join(project_root, 'config', 'credentials.yaml')\n",
    "        if os.path.exists(cred_path):\n",
    "            with open(cred_path, 'r', encoding='utf-8') as f:\n",
    "                creds = yaml.safe_load(f) or {}\n",
    "            github_token = ((creds.get('github') or {}).get('token'))\n",
    "\n",
    "    if github_token and github_token != 'REPLACE_WITH_YOUR_TOKEN':\n",
    "        print(\"GITHUB_TOKEN disponible. Actualizando remote temporalmente para push...\")\n",
    "        run(f'git remote set-url origin https://{github_token}@github.com/JCGarcesDC/ObesityEstimation53.git')\n",
    "        print(\"Ejecuta manualmente ahora: git push origin dev2\")\n",
    "        print(\"Luego restaura la URL remota sin token (recomendado):\")\n",
    "        print(\"git remote set-url origin https://github.com/JCGarcesDC/ObesityEstimation53.git\")\n",
    "    else:\n",
    "        print(\"No se encontró un token válido. Configure GITHUB_TOKEN o edite config/credentials.yaml.\")\n",
    "        print(\"Ejemplos:\")\n",
    "        print(\"PowerShell (temporal): $env:GITHUB_TOKEN=\\\"tu_token\\\"\")\n",
    "        print(\"Bash (temporal): export GITHUB_TOKEN=tu_token\")\n",
    "        print(\"Luego ejecute: git push origin dev2\")\n",
    "\n",
    "    # Push de artefactos de DVC (usará el remoto GCS o local según configuración)\n",
    "    print(\"\\nPara subir datos a DVC ejecute: dvc push\")\n",
    "    print(\"Esto subirá los datos al bucket de Google Cloud Storage configurado.\")\n",
    "\n",
    "except Exception as e:\n",
    "    print(f\"Error: {str(e)}\")\n",
    "    print(\"\\nEstado actual:\")\n",
    "    print(f\"Directorio actual: {os.getcwd()}\")\n",
    "    if os.path.exists('.dvc'):\n",
    "        print(\"El directorio .dvc existe\")\n",
    "        print(\"Contenido de .dvc:\")\n",
    "        print(os.listdir('.dvc'))\n",
    "        print(\"\\nContenido de .dvc/config:\")\n",
    "        with open('.dvc/config', 'r', encoding='utf-8') as f:\n",
    "            print(f.read())"
   ]
  },
  {
   "cell_type": "code",
   "execution_count": 32,
   "id": "13152726",
   "metadata": {},
   "outputs": [
    {
     "data": {
      "text/plain": [
       "255"
      ]
     },
     "execution_count": 32,
     "metadata": {},
     "output_type": "execute_result"
    }
   ],
   "source": [
    "os.system(\"dvc push\")"
   ]
  }
 ],
 "metadata": {
  "kernelspec": {
   "display_name": "obesitymine",
   "language": "python",
   "name": "python3"
  },
  "language_info": {
   "codemirror_mode": {
    "name": "ipython",
    "version": 3
   },
   "file_extension": ".py",
   "mimetype": "text/x-python",
   "name": "python",
   "nbconvert_exporter": "python",
   "pygments_lexer": "ipython3",
   "version": "3.11.13"
  }
 },
 "nbformat": 4,
 "nbformat_minor": 5
}
