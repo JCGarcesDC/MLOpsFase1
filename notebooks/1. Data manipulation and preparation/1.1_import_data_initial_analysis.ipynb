{
 "cells": [
  {
   "cell_type": "markdown",
   "id": "745936ba",
   "metadata": {},
   "source": [
    "# **Importar datos y Análisis Inicial**\n",
    "\n",
    "Inspeccionar la estructura, tipos de datos y estadísticas descriptivas del dataset."
   ]
  },
  {
   "cell_type": "markdown",
   "id": "b446b554",
   "metadata": {},
   "source": [
    "# 1.- **Importar librerias**"
   ]
  },
  {
   "cell_type": "code",
   "execution_count": 15,
   "id": "90c948f2",
   "metadata": {},
   "outputs": [
    {
     "name": "stdout",
     "output_type": "stream",
     "text": [
      "Funciones importadas exitosamente desde src/cargar_analisis.py\n"
     ]
    }
   ],
   "source": [
    "# Importar librerías estándar\n",
    "import sys\n",
    "import os\n",
    "\n",
    "# 1. Detectar la raíz del proyecto buscando la carpeta que contiene 'src'\n",
    "def find_project_root(path):\n",
    "    while path != os.path.dirname(path):\n",
    "        if 'src' in os.listdir(path):\n",
    "            return path\n",
    "        path = os.path.dirname(path)\n",
    "    raise FileNotFoundError(\"No se encontró la carpeta 'src' en la jerarquía de carpetas.\")\n",
    "\n",
    "ruta_raiz_proyecto = find_project_root(os.getcwd())\n",
    "src_path = os.path.join(ruta_raiz_proyecto, 'src')\n",
    "if src_path not in sys.path:\n",
    "    sys.path.append(src_path)\n",
    "\n",
    "# 2. Importar funciones desde src/cargar_analisis.py\n",
    "from cargar_analisis import cargar_dataframe, crear_listas_variables, resumen_eda\n",
    "\n",
    "# 3. Crear las listas de variables con nombres en minúsculas\n",
    "variables_numericas, variables_categoricas, variable_objetivo = crear_listas_variables(to_lower=True)\n",
    "\n",
    "print(\"Funciones importadas exitosamente desde src/cargar_analisis.py\")"
   ]
  },
  {
   "cell_type": "code",
   "execution_count": 18,
   "id": "e820de7b",
   "metadata": {},
   "outputs": [
    {
     "name": "stdout",
     "output_type": "stream",
     "text": [
      "d:\\OneDrive\\Escritorio\\Maestria IA\\Trimestre 4\\MLOps\\Git_Local\\ObesityMine53\\src\n"
     ]
    }
   ],
   "source": [
    "print(src_path)"
   ]
  },
  {
   "cell_type": "markdown",
   "id": "5fbbffe3",
   "metadata": {},
   "source": [
    "# **2.- Importar datos**"
   ]
  },
  {
   "cell_type": "code",
   "execution_count": 16,
   "id": "9a0e69e8",
   "metadata": {},
   "outputs": [
    {
     "name": "stdout",
     "output_type": "stream",
     "text": [
      "Archivo CSV cargado exitosamente desde: d:\\OneDrive\\Escritorio\\Maestria IA\\Trimestre 4\\MLOps\\Git_Local\\ObesityMine53\\data\\raw\\obesity_estimation_cleaned.csv\n",
      "\n",
      "Columnas del DataFrame:\n",
      "['gender', 'age', 'height', 'weight', 'family_history_with_overweight', 'favc', 'fcvc', 'ncp', 'caec', 'smoke', 'ch2o', 'scc', 'faf', 'tue', 'calc', 'mtrans', 'nobeyesdad']\n"
     ]
    }
   ],
   "source": [
    "# Ruta de la base de datos (ajustada a la estructura estándar)\n",
    "path_data = os.path.join(ruta_raiz_proyecto, 'data', 'raw', 'obesity_estimation_cleaned.csv')\n",
    "\n",
    "# Ejecutar función para cargar datos\n",
    "df = cargar_dataframe(path_data)\n",
    "\n",
    "# Mostrar las columnas del DataFrame\n",
    "print(\"\\nColumnas del DataFrame:\")\n",
    "print(df.columns.tolist())"
   ]
  },
  {
   "cell_type": "markdown",
   "id": "4f8b341d",
   "metadata": {},
   "source": [
    "# **3.- Análisis Inicial**"
   ]
  },
  {
   "cell_type": "code",
   "execution_count": 17,
   "id": "7e8f5973",
   "metadata": {},
   "outputs": [
    {
     "data": {
      "text/markdown": [
       "---"
      ],
      "text/plain": [
       "<IPython.core.display.Markdown object>"
      ]
     },
     "metadata": {},
     "output_type": "display_data"
    },
    {
     "data": {
      "text/markdown": [
       "## **Análisis Exploratorio del Dataset**"
      ],
      "text/plain": [
       "<IPython.core.display.Markdown object>"
      ]
     },
     "metadata": {},
     "output_type": "display_data"
    },
    {
     "data": {
      "text/markdown": [
       "---"
      ],
      "text/plain": [
       "<IPython.core.display.Markdown object>"
      ]
     },
     "metadata": {},
     "output_type": "display_data"
    },
    {
     "data": {
      "text/markdown": [
       "### 1. Dimensiones del Dataset"
      ],
      "text/plain": [
       "<IPython.core.display.Markdown object>"
      ]
     },
     "metadata": {},
     "output_type": "display_data"
    },
    {
     "name": "stdout",
     "output_type": "stream",
     "text": [
      "Número de Filas:    1,909\n",
      "Número de Columnas: 17\n",
      "\n",
      "\n"
     ]
    },
    {
     "data": {
      "text/markdown": [
       "### 2. Tipos de Datos y Uso de Memoria"
      ],
      "text/plain": [
       "<IPython.core.display.Markdown object>"
      ]
     },
     "metadata": {},
     "output_type": "display_data"
    },
    {
     "name": "stdout",
     "output_type": "stream",
     "text": [
      "<class 'pandas.core.frame.DataFrame'>\n",
      "RangeIndex: 1909 entries, 0 to 1908\n",
      "Data columns (total 17 columns):\n",
      " #   Column                          Non-Null Count  Dtype  \n",
      "---  ------                          --------------  -----  \n",
      " 0   gender                          1909 non-null   object \n",
      " 1   age                             1909 non-null   float64\n",
      " 2   height                          1909 non-null   float64\n",
      " 3   weight                          1909 non-null   float64\n",
      " 4   family_history_with_overweight  1909 non-null   object \n",
      " 5   favc                            1909 non-null   object \n",
      " 6   fcvc                            1909 non-null   float64\n",
      " 7   ncp                             1909 non-null   float64\n",
      " 8   caec                            1909 non-null   object \n",
      " 9   smoke                           1909 non-null   object \n",
      " 10  ch2o                            1909 non-null   float64\n",
      " 11  scc                             1909 non-null   object \n",
      " 12  faf                             1909 non-null   float64\n",
      " 13  tue                             1909 non-null   float64\n",
      " 14  calc                            1909 non-null   object \n",
      " 15  mtrans                          1909 non-null   object \n",
      " 16  nobeyesdad                      1909 non-null   int64  \n",
      "dtypes: float64(8), int64(1), object(8)\n",
      "memory usage: 253.7+ KB\n",
      "\n",
      "\n"
     ]
    },
    {
     "data": {
      "text/markdown": [
       "### 3. Muestra Aleatoria de Datos"
      ],
      "text/plain": [
       "<IPython.core.display.Markdown object>"
      ]
     },
     "metadata": {},
     "output_type": "display_data"
    },
    {
     "data": {
      "text/html": [
       "<div>\n",
       "<style scoped>\n",
       "    .dataframe tbody tr th:only-of-type {\n",
       "        vertical-align: middle;\n",
       "    }\n",
       "\n",
       "    .dataframe tbody tr th {\n",
       "        vertical-align: top;\n",
       "    }\n",
       "\n",
       "    .dataframe thead th {\n",
       "        text-align: right;\n",
       "    }\n",
       "</style>\n",
       "<table border=\"1\" class=\"dataframe\">\n",
       "  <thead>\n",
       "    <tr style=\"text-align: right;\">\n",
       "      <th></th>\n",
       "      <th>gender</th>\n",
       "      <th>age</th>\n",
       "      <th>height</th>\n",
       "      <th>weight</th>\n",
       "      <th>family_history_with_overweight</th>\n",
       "      <th>favc</th>\n",
       "      <th>fcvc</th>\n",
       "      <th>ncp</th>\n",
       "      <th>caec</th>\n",
       "      <th>smoke</th>\n",
       "      <th>ch2o</th>\n",
       "      <th>scc</th>\n",
       "      <th>faf</th>\n",
       "      <th>tue</th>\n",
       "      <th>calc</th>\n",
       "      <th>mtrans</th>\n",
       "      <th>nobeyesdad</th>\n",
       "    </tr>\n",
       "  </thead>\n",
       "  <tbody>\n",
       "    <tr>\n",
       "      <th>399</th>\n",
       "      <td>male</td>\n",
       "      <td>21.000000</td>\n",
       "      <td>1.710000</td>\n",
       "      <td>100.000000</td>\n",
       "      <td>yes</td>\n",
       "      <td>yes</td>\n",
       "      <td>2.000000</td>\n",
       "      <td>1.0</td>\n",
       "      <td>sometimes</td>\n",
       "      <td>no</td>\n",
       "      <td>2.000000</td>\n",
       "      <td>no</td>\n",
       "      <td>0.000000</td>\n",
       "      <td>2.000000</td>\n",
       "      <td>no</td>\n",
       "      <td>public_transportation</td>\n",
       "      <td>4</td>\n",
       "    </tr>\n",
       "    <tr>\n",
       "      <th>588</th>\n",
       "      <td>female</td>\n",
       "      <td>19.211640</td>\n",
       "      <td>1.567981</td>\n",
       "      <td>41.934368</td>\n",
       "      <td>no</td>\n",
       "      <td>yes</td>\n",
       "      <td>2.070964</td>\n",
       "      <td>1.0</td>\n",
       "      <td>sometimes</td>\n",
       "      <td>no</td>\n",
       "      <td>1.676975</td>\n",
       "      <td>no</td>\n",
       "      <td>0.000000</td>\n",
       "      <td>1.718513</td>\n",
       "      <td>sometimes</td>\n",
       "      <td>public_transportation</td>\n",
       "      <td>0</td>\n",
       "    </tr>\n",
       "    <tr>\n",
       "      <th>246</th>\n",
       "      <td>male</td>\n",
       "      <td>16.000000</td>\n",
       "      <td>1.820000</td>\n",
       "      <td>71.000000</td>\n",
       "      <td>yes</td>\n",
       "      <td>yes</td>\n",
       "      <td>2.000000</td>\n",
       "      <td>3.0</td>\n",
       "      <td>frequently</td>\n",
       "      <td>no</td>\n",
       "      <td>2.000000</td>\n",
       "      <td>no</td>\n",
       "      <td>2.000000</td>\n",
       "      <td>1.000000</td>\n",
       "      <td>sometimes</td>\n",
       "      <td>public_transportation</td>\n",
       "      <td>1</td>\n",
       "    </tr>\n",
       "    <tr>\n",
       "      <th>486</th>\n",
       "      <td>female</td>\n",
       "      <td>17.082867</td>\n",
       "      <td>1.640824</td>\n",
       "      <td>43.365005</td>\n",
       "      <td>no</td>\n",
       "      <td>yes</td>\n",
       "      <td>2.815157</td>\n",
       "      <td>3.0</td>\n",
       "      <td>sometimes</td>\n",
       "      <td>no</td>\n",
       "      <td>2.911187</td>\n",
       "      <td>no</td>\n",
       "      <td>2.595128</td>\n",
       "      <td>1.380204</td>\n",
       "      <td>sometimes</td>\n",
       "      <td>public_transportation</td>\n",
       "      <td>0</td>\n",
       "    </tr>\n",
       "    <tr>\n",
       "      <th>1828</th>\n",
       "      <td>female</td>\n",
       "      <td>26.000000</td>\n",
       "      <td>1.639524</td>\n",
       "      <td>111.945588</td>\n",
       "      <td>yes</td>\n",
       "      <td>yes</td>\n",
       "      <td>3.000000</td>\n",
       "      <td>3.0</td>\n",
       "      <td>sometimes</td>\n",
       "      <td>no</td>\n",
       "      <td>2.739351</td>\n",
       "      <td>no</td>\n",
       "      <td>0.000000</td>\n",
       "      <td>0.064769</td>\n",
       "      <td>sometimes</td>\n",
       "      <td>public_transportation</td>\n",
       "      <td>6</td>\n",
       "    </tr>\n",
       "  </tbody>\n",
       "</table>\n",
       "</div>"
      ],
      "text/plain": [
       "      gender        age    height      weight family_history_with_overweight  \\\n",
       "399     male  21.000000  1.710000  100.000000                            yes   \n",
       "588   female  19.211640  1.567981   41.934368                             no   \n",
       "246     male  16.000000  1.820000   71.000000                            yes   \n",
       "486   female  17.082867  1.640824   43.365005                             no   \n",
       "1828  female  26.000000  1.639524  111.945588                            yes   \n",
       "\n",
       "     favc      fcvc  ncp        caec smoke      ch2o scc       faf       tue  \\\n",
       "399   yes  2.000000  1.0   sometimes    no  2.000000  no  0.000000  2.000000   \n",
       "588   yes  2.070964  1.0   sometimes    no  1.676975  no  0.000000  1.718513   \n",
       "246   yes  2.000000  3.0  frequently    no  2.000000  no  2.000000  1.000000   \n",
       "486   yes  2.815157  3.0   sometimes    no  2.911187  no  2.595128  1.380204   \n",
       "1828  yes  3.000000  3.0   sometimes    no  2.739351  no  0.000000  0.064769   \n",
       "\n",
       "           calc                 mtrans  nobeyesdad  \n",
       "399          no  public_transportation           4  \n",
       "588   sometimes  public_transportation           0  \n",
       "246   sometimes  public_transportation           1  \n",
       "486   sometimes  public_transportation           0  \n",
       "1828  sometimes  public_transportation           6  "
      ]
     },
     "metadata": {},
     "output_type": "display_data"
    },
    {
     "name": "stdout",
     "output_type": "stream",
     "text": [
      "\n",
      "\n"
     ]
    },
    {
     "data": {
      "text/markdown": [
       "### 4. Calidad de los Datos"
      ],
      "text/plain": [
       "<IPython.core.display.Markdown object>"
      ]
     },
     "metadata": {},
     "output_type": "display_data"
    },
    {
     "name": "stdout",
     "output_type": "stream",
     "text": [
      "Número total de filas duplicadas: 0\n",
      "Conteo de valores nulos por columna:\n",
      "No se encontraron valores nulos.\n",
      "\n",
      "\n"
     ]
    },
    {
     "data": {
      "text/markdown": [
       "### 5. Estadísticas Descriptivas"
      ],
      "text/plain": [
       "<IPython.core.display.Markdown object>"
      ]
     },
     "metadata": {},
     "output_type": "display_data"
    },
    {
     "data": {
      "text/markdown": [
       "#### **Variables Numéricas**"
      ],
      "text/plain": [
       "<IPython.core.display.Markdown object>"
      ]
     },
     "metadata": {},
     "output_type": "display_data"
    },
    {
     "data": {
      "text/html": [
       "<div>\n",
       "<style scoped>\n",
       "    .dataframe tbody tr th:only-of-type {\n",
       "        vertical-align: middle;\n",
       "    }\n",
       "\n",
       "    .dataframe tbody tr th {\n",
       "        vertical-align: top;\n",
       "    }\n",
       "\n",
       "    .dataframe thead th {\n",
       "        text-align: right;\n",
       "    }\n",
       "</style>\n",
       "<table border=\"1\" class=\"dataframe\">\n",
       "  <thead>\n",
       "    <tr style=\"text-align: right;\">\n",
       "      <th></th>\n",
       "      <th>count</th>\n",
       "      <th>mean</th>\n",
       "      <th>std</th>\n",
       "      <th>min</th>\n",
       "      <th>25%</th>\n",
       "      <th>50%</th>\n",
       "      <th>75%</th>\n",
       "      <th>max</th>\n",
       "    </tr>\n",
       "  </thead>\n",
       "  <tbody>\n",
       "    <tr>\n",
       "      <th>age</th>\n",
       "      <td>1909.0</td>\n",
       "      <td>24.169519</td>\n",
       "      <td>5.970277</td>\n",
       "      <td>15.000000</td>\n",
       "      <td>19.920629</td>\n",
       "      <td>22.851804</td>\n",
       "      <td>26.000000</td>\n",
       "      <td>47.706100</td>\n",
       "    </tr>\n",
       "    <tr>\n",
       "      <th>height</th>\n",
       "      <td>1909.0</td>\n",
       "      <td>1.705036</td>\n",
       "      <td>0.092429</td>\n",
       "      <td>1.456346</td>\n",
       "      <td>1.635905</td>\n",
       "      <td>1.704180</td>\n",
       "      <td>1.770278</td>\n",
       "      <td>1.980000</td>\n",
       "    </tr>\n",
       "    <tr>\n",
       "      <th>weight</th>\n",
       "      <td>1909.0</td>\n",
       "      <td>86.975472</td>\n",
       "      <td>25.953326</td>\n",
       "      <td>39.101805</td>\n",
       "      <td>66.000000</td>\n",
       "      <td>83.544074</td>\n",
       "      <td>108.019211</td>\n",
       "      <td>165.057269</td>\n",
       "    </tr>\n",
       "    <tr>\n",
       "      <th>fcvc</th>\n",
       "      <td>1909.0</td>\n",
       "      <td>2.422436</td>\n",
       "      <td>0.529040</td>\n",
       "      <td>1.000000</td>\n",
       "      <td>2.000000</td>\n",
       "      <td>2.408561</td>\n",
       "      <td>3.000000</td>\n",
       "      <td>3.000000</td>\n",
       "    </tr>\n",
       "    <tr>\n",
       "      <th>ncp</th>\n",
       "      <td>1909.0</td>\n",
       "      <td>2.699278</td>\n",
       "      <td>0.760778</td>\n",
       "      <td>1.000000</td>\n",
       "      <td>2.711238</td>\n",
       "      <td>3.000000</td>\n",
       "      <td>3.000000</td>\n",
       "      <td>4.000000</td>\n",
       "    </tr>\n",
       "    <tr>\n",
       "      <th>ch2o</th>\n",
       "      <td>1909.0</td>\n",
       "      <td>2.012707</td>\n",
       "      <td>0.602530</td>\n",
       "      <td>1.000000</td>\n",
       "      <td>1.618370</td>\n",
       "      <td>2.000000</td>\n",
       "      <td>2.472903</td>\n",
       "      <td>3.000000</td>\n",
       "    </tr>\n",
       "    <tr>\n",
       "      <th>faf</th>\n",
       "      <td>1909.0</td>\n",
       "      <td>1.021628</td>\n",
       "      <td>0.847201</td>\n",
       "      <td>0.000000</td>\n",
       "      <td>0.146919</td>\n",
       "      <td>1.000000</td>\n",
       "      <td>1.668961</td>\n",
       "      <td>3.000000</td>\n",
       "    </tr>\n",
       "    <tr>\n",
       "      <th>tue</th>\n",
       "      <td>1909.0</td>\n",
       "      <td>0.674130</td>\n",
       "      <td>0.602997</td>\n",
       "      <td>0.000000</td>\n",
       "      <td>0.004813</td>\n",
       "      <td>0.632467</td>\n",
       "      <td>1.000000</td>\n",
       "      <td>2.000000</td>\n",
       "    </tr>\n",
       "  </tbody>\n",
       "</table>\n",
       "</div>"
      ],
      "text/plain": [
       "         count       mean        std        min        25%        50%  \\\n",
       "age     1909.0  24.169519   5.970277  15.000000  19.920629  22.851804   \n",
       "height  1909.0   1.705036   0.092429   1.456346   1.635905   1.704180   \n",
       "weight  1909.0  86.975472  25.953326  39.101805  66.000000  83.544074   \n",
       "fcvc    1909.0   2.422436   0.529040   1.000000   2.000000   2.408561   \n",
       "ncp     1909.0   2.699278   0.760778   1.000000   2.711238   3.000000   \n",
       "ch2o    1909.0   2.012707   0.602530   1.000000   1.618370   2.000000   \n",
       "faf     1909.0   1.021628   0.847201   0.000000   0.146919   1.000000   \n",
       "tue     1909.0   0.674130   0.602997   0.000000   0.004813   0.632467   \n",
       "\n",
       "               75%         max  \n",
       "age      26.000000   47.706100  \n",
       "height    1.770278    1.980000  \n",
       "weight  108.019211  165.057269  \n",
       "fcvc      3.000000    3.000000  \n",
       "ncp       3.000000    4.000000  \n",
       "ch2o      2.472903    3.000000  \n",
       "faf       1.668961    3.000000  \n",
       "tue       1.000000    2.000000  "
      ]
     },
     "metadata": {},
     "output_type": "display_data"
    },
    {
     "data": {
      "text/markdown": [
       "#### **Variables Categóricas**"
      ],
      "text/plain": [
       "<IPython.core.display.Markdown object>"
      ]
     },
     "metadata": {},
     "output_type": "display_data"
    },
    {
     "data": {
      "text/html": [
       "<div>\n",
       "<style scoped>\n",
       "    .dataframe tbody tr th:only-of-type {\n",
       "        vertical-align: middle;\n",
       "    }\n",
       "\n",
       "    .dataframe tbody tr th {\n",
       "        vertical-align: top;\n",
       "    }\n",
       "\n",
       "    .dataframe thead th {\n",
       "        text-align: right;\n",
       "    }\n",
       "</style>\n",
       "<table border=\"1\" class=\"dataframe\">\n",
       "  <thead>\n",
       "    <tr style=\"text-align: right;\">\n",
       "      <th></th>\n",
       "      <th>count</th>\n",
       "      <th>unique</th>\n",
       "      <th>top</th>\n",
       "      <th>freq</th>\n",
       "    </tr>\n",
       "  </thead>\n",
       "  <tbody>\n",
       "    <tr>\n",
       "      <th>gender</th>\n",
       "      <td>1909</td>\n",
       "      <td>2</td>\n",
       "      <td>male</td>\n",
       "      <td>986</td>\n",
       "    </tr>\n",
       "    <tr>\n",
       "      <th>family_history_with_overweight</th>\n",
       "      <td>1909</td>\n",
       "      <td>2</td>\n",
       "      <td>yes</td>\n",
       "      <td>1583</td>\n",
       "    </tr>\n",
       "    <tr>\n",
       "      <th>favc</th>\n",
       "      <td>1909</td>\n",
       "      <td>2</td>\n",
       "      <td>yes</td>\n",
       "      <td>1692</td>\n",
       "    </tr>\n",
       "    <tr>\n",
       "      <th>caec</th>\n",
       "      <td>1909</td>\n",
       "      <td>4</td>\n",
       "      <td>sometimes</td>\n",
       "      <td>1618</td>\n",
       "    </tr>\n",
       "    <tr>\n",
       "      <th>smoke</th>\n",
       "      <td>1909</td>\n",
       "      <td>2</td>\n",
       "      <td>no</td>\n",
       "      <td>1872</td>\n",
       "    </tr>\n",
       "    <tr>\n",
       "      <th>scc</th>\n",
       "      <td>1909</td>\n",
       "      <td>2</td>\n",
       "      <td>no</td>\n",
       "      <td>1823</td>\n",
       "    </tr>\n",
       "    <tr>\n",
       "      <th>calc</th>\n",
       "      <td>1909</td>\n",
       "      <td>4</td>\n",
       "      <td>sometimes</td>\n",
       "      <td>1289</td>\n",
       "    </tr>\n",
       "    <tr>\n",
       "      <th>mtrans</th>\n",
       "      <td>1909</td>\n",
       "      <td>5</td>\n",
       "      <td>public_transportation</td>\n",
       "      <td>1430</td>\n",
       "    </tr>\n",
       "  </tbody>\n",
       "</table>\n",
       "</div>"
      ],
      "text/plain": [
       "                               count unique                    top  freq\n",
       "gender                          1909      2                   male   986\n",
       "family_history_with_overweight  1909      2                    yes  1583\n",
       "favc                            1909      2                    yes  1692\n",
       "caec                            1909      4              sometimes  1618\n",
       "smoke                           1909      2                     no  1872\n",
       "scc                             1909      2                     no  1823\n",
       "calc                            1909      4              sometimes  1289\n",
       "mtrans                          1909      5  public_transportation  1430"
      ]
     },
     "metadata": {},
     "output_type": "display_data"
    },
    {
     "name": "stdout",
     "output_type": "stream",
     "text": [
      "\n",
      "\n"
     ]
    },
    {
     "data": {
      "text/markdown": [
       "### 6. Distribución de la Variable Objetivo: 'nobeyesdad'"
      ],
      "text/plain": [
       "<IPython.core.display.Markdown object>"
      ]
     },
     "metadata": {},
     "output_type": "display_data"
    },
    {
     "data": {
      "text/html": [
       "<div>\n",
       "<style scoped>\n",
       "    .dataframe tbody tr th:only-of-type {\n",
       "        vertical-align: middle;\n",
       "    }\n",
       "\n",
       "    .dataframe tbody tr th {\n",
       "        vertical-align: top;\n",
       "    }\n",
       "\n",
       "    .dataframe thead th {\n",
       "        text-align: right;\n",
       "    }\n",
       "</style>\n",
       "<table border=\"1\" class=\"dataframe\">\n",
       "  <thead>\n",
       "    <tr style=\"text-align: right;\">\n",
       "      <th></th>\n",
       "      <th>Frecuencia</th>\n",
       "      <th>Porcentaje (%)</th>\n",
       "    </tr>\n",
       "    <tr>\n",
       "      <th>nobeyesdad</th>\n",
       "      <th></th>\n",
       "      <th></th>\n",
       "    </tr>\n",
       "  </thead>\n",
       "  <tbody>\n",
       "    <tr>\n",
       "      <th>4</th>\n",
       "      <td>313</td>\n",
       "      <td>16.40</td>\n",
       "    </tr>\n",
       "    <tr>\n",
       "      <th>6</th>\n",
       "      <td>296</td>\n",
       "      <td>15.51</td>\n",
       "    </tr>\n",
       "    <tr>\n",
       "      <th>5</th>\n",
       "      <td>280</td>\n",
       "      <td>14.67</td>\n",
       "    </tr>\n",
       "    <tr>\n",
       "      <th>2</th>\n",
       "      <td>262</td>\n",
       "      <td>13.72</td>\n",
       "    </tr>\n",
       "    <tr>\n",
       "      <th>3</th>\n",
       "      <td>259</td>\n",
       "      <td>13.57</td>\n",
       "    </tr>\n",
       "    <tr>\n",
       "      <th>1</th>\n",
       "      <td>252</td>\n",
       "      <td>13.20</td>\n",
       "    </tr>\n",
       "    <tr>\n",
       "      <th>0</th>\n",
       "      <td>247</td>\n",
       "      <td>12.94</td>\n",
       "    </tr>\n",
       "  </tbody>\n",
       "</table>\n",
       "</div>"
      ],
      "text/plain": [
       "            Frecuencia  Porcentaje (%)\n",
       "nobeyesdad                            \n",
       "4                  313           16.40\n",
       "6                  296           15.51\n",
       "5                  280           14.67\n",
       "2                  262           13.72\n",
       "3                  259           13.57\n",
       "1                  252           13.20\n",
       "0                  247           12.94"
      ]
     },
     "metadata": {},
     "output_type": "display_data"
    }
   ],
   "source": [
    "# Elimina columnas inexistentes de la lista de variables numéricas\n",
    "variables_numericas_validas = [col for col in variables_numericas if col in df.columns]\n",
    "\n",
    "# Ejecutar la función para generar un resumen de dataset\n",
    "resumen_eda(df, variables_numericas_validas, variables_categoricas, variable_objetivo)"
   ]
  }
 ],
 "metadata": {
  "kernelspec": {
   "display_name": "obesitymine",
   "language": "python",
   "name": "python3"
  },
  "language_info": {
   "codemirror_mode": {
    "name": "ipython",
    "version": 3
   },
   "file_extension": ".py",
   "mimetype": "text/x-python",
   "name": "python",
   "nbconvert_exporter": "python",
   "pygments_lexer": "ipython3",
   "version": "3.11.13"
  }
 },
 "nbformat": 4,
 "nbformat_minor": 5
}
