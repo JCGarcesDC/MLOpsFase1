{
 "cells": [
  {
   "cell_type": "markdown",
   "id": "745936ba",
   "metadata": {},
   "source": [
    "# **Importar datos y Análisis Inicial**\n",
    "\n",
    "Inspeccionar la estructura, tipos de datos y estadísticas descriptivas del dataset."
   ]
  },
  {
   "cell_type": "markdown",
   "id": "b446b554",
   "metadata": {},
   "source": [
    "# 1.- **Importar librerias**"
   ]
  },
  {
   "cell_type": "code",
   "execution_count": 10,
   "id": "90c948f2",
   "metadata": {},
   "outputs": [
    {
     "name": "stdout",
     "output_type": "stream",
     "text": [
      "Funciones importadas exitosamente desde src/cargar_analisis.py\n"
     ]
    }
   ],
   "source": [
    "# Importar librerías estándar\n",
    "import sys\n",
    "import os\n",
    "\n",
    "# 2. Configurar la ruta para que Python encuentre el código en 'src'\n",
    "# Esto añade la carpeta raíz del proyecto al sys.path\n",
    "ruta_raiz_proyecto = os.path.abspath(os.path.join(os.getcwd(), '../../'))\n",
    "sys.path.append(ruta_raiz_proyecto)\n",
    "\n",
    "# 3. Importar las funciones directamente. \n",
    "# Si la raíz está en sys.path, Python busca 'cargar_analisis.py' en la carpeta 'src'.\n",
    "from src.cargar_analisis import cargar_dataframe, crear_listas_variables, resumen_eda\n",
    "\n",
    "# 4. Crear las listas de variables con nombres en minúsculas\n",
    "variables_numericas, variables_categoricas, variable_objetivo = crear_listas_variables(to_lower=True)\n",
    "\n",
    "print(\"Funciones importadas exitosamente desde src/cargar_analisis.py\")"
   ]
  },
  {
   "cell_type": "markdown",
   "id": "5fbbffe3",
   "metadata": {},
   "source": [
    "# **2.- Importar datos**"
   ]
  },
  {
   "cell_type": "code",
   "execution_count": 11,
   "id": "9a0e69e8",
   "metadata": {},
   "outputs": [
    {
     "name": "stdout",
     "output_type": "stream",
     "text": [
      "Archivo CSV cargado exitosamente desde: ../data/obesity_estimation_cleaned.csv\n",
      "\n",
      "Columnas del DataFrame:\n",
      "['gender', 'age', 'height', 'weight', 'family_history_with_overweight', 'favc', 'fcvc', 'ncp', 'caec', 'smoke', 'ch2o', 'scc', 'faf', 'tue', 'calc', 'mtrans', 'nobeyesdad']\n"
     ]
    }
   ],
   "source": [
    "# Ruta de la base de datos\n",
    "path_data = '../data/obesity_estimation_cleaned.csv'\n",
    "\n",
    "# Ejecutar función para cargar datos\n",
    "df = cargar_dataframe(path_data)\n",
    "\n",
    "# Mostrar las columnas del DataFrame\n",
    "print(\"\\nColumnas del DataFrame:\")\n",
    "print(df.columns.tolist())"
   ]
  },
  {
   "cell_type": "markdown",
   "id": "4f8b341d",
   "metadata": {},
   "source": [
    "# **3.- Análisis Inicial**"
   ]
  },
  {
   "cell_type": "code",
   "execution_count": 12,
   "id": "7e8f5973",
   "metadata": {},
   "outputs": [
    {
     "data": {
      "text/markdown": [
       "---"
      ],
      "text/plain": [
       "<IPython.core.display.Markdown object>"
      ]
     },
     "metadata": {},
     "output_type": "display_data"
    },
    {
     "data": {
      "text/markdown": [
       "## **Análisis Exploratorio del Dataset**"
      ],
      "text/plain": [
       "<IPython.core.display.Markdown object>"
      ]
     },
     "metadata": {},
     "output_type": "display_data"
    },
    {
     "data": {
      "text/markdown": [
       "---"
      ],
      "text/plain": [
       "<IPython.core.display.Markdown object>"
      ]
     },
     "metadata": {},
     "output_type": "display_data"
    },
    {
     "data": {
      "text/markdown": [
       "### 1. Dimensiones del Dataset"
      ],
      "text/plain": [
       "<IPython.core.display.Markdown object>"
      ]
     },
     "metadata": {},
     "output_type": "display_data"
    },
    {
     "name": "stdout",
     "output_type": "stream",
     "text": [
      "Número de Filas:    1,946\n",
      "Número de Columnas: 17\n",
      "\n",
      "\n"
     ]
    },
    {
     "data": {
      "text/markdown": [
       "### 2. Tipos de Datos y Uso de Memoria"
      ],
      "text/plain": [
       "<IPython.core.display.Markdown object>"
      ]
     },
     "metadata": {},
     "output_type": "display_data"
    },
    {
     "name": "stdout",
     "output_type": "stream",
     "text": [
      "<class 'pandas.core.frame.DataFrame'>\n",
      "RangeIndex: 1946 entries, 0 to 1945\n",
      "Data columns (total 17 columns):\n",
      " #   Column                          Non-Null Count  Dtype  \n",
      "---  ------                          --------------  -----  \n",
      " 0   gender                          1946 non-null   object \n",
      " 1   age                             1946 non-null   float64\n",
      " 2   height                          1946 non-null   float64\n",
      " 3   weight                          1946 non-null   float64\n",
      " 4   family_history_with_overweight  1946 non-null   object \n",
      " 5   favc                            1946 non-null   object \n",
      " 6   fcvc                            1946 non-null   float64\n",
      " 7   ncp                             1946 non-null   float64\n",
      " 8   caec                            1946 non-null   object \n",
      " 9   smoke                           1946 non-null   object \n",
      " 10  ch2o                            1946 non-null   float64\n",
      " 11  scc                             1946 non-null   object \n",
      " 12  faf                             1946 non-null   float64\n",
      " 13  tue                             1946 non-null   float64\n",
      " 14  calc                            1946 non-null   object \n",
      " 15  mtrans                          1946 non-null   object \n",
      " 16  nobeyesdad                      1946 non-null   int64  \n",
      "dtypes: float64(8), int64(1), object(8)\n",
      "memory usage: 258.6+ KB\n",
      "\n",
      "\n"
     ]
    },
    {
     "data": {
      "text/markdown": [
       "### 3. Muestra Aleatoria de Datos"
      ],
      "text/plain": [
       "<IPython.core.display.Markdown object>"
      ]
     },
     "metadata": {},
     "output_type": "display_data"
    },
    {
     "data": {
      "text/html": [
       "<div>\n",
       "<style scoped>\n",
       "    .dataframe tbody tr th:only-of-type {\n",
       "        vertical-align: middle;\n",
       "    }\n",
       "\n",
       "    .dataframe tbody tr th {\n",
       "        vertical-align: top;\n",
       "    }\n",
       "\n",
       "    .dataframe thead th {\n",
       "        text-align: right;\n",
       "    }\n",
       "</style>\n",
       "<table border=\"1\" class=\"dataframe\">\n",
       "  <thead>\n",
       "    <tr style=\"text-align: right;\">\n",
       "      <th></th>\n",
       "      <th>gender</th>\n",
       "      <th>age</th>\n",
       "      <th>height</th>\n",
       "      <th>weight</th>\n",
       "      <th>family_history_with_overweight</th>\n",
       "      <th>favc</th>\n",
       "      <th>fcvc</th>\n",
       "      <th>ncp</th>\n",
       "      <th>caec</th>\n",
       "      <th>smoke</th>\n",
       "      <th>ch2o</th>\n",
       "      <th>scc</th>\n",
       "      <th>faf</th>\n",
       "      <th>tue</th>\n",
       "      <th>calc</th>\n",
       "      <th>mtrans</th>\n",
       "      <th>nobeyesdad</th>\n",
       "    </tr>\n",
       "  </thead>\n",
       "  <tbody>\n",
       "    <tr>\n",
       "      <th>36</th>\n",
       "      <td>female</td>\n",
       "      <td>21.000000</td>\n",
       "      <td>1.660000</td>\n",
       "      <td>64.000000</td>\n",
       "      <td>yes</td>\n",
       "      <td>yes</td>\n",
       "      <td>1.000000</td>\n",
       "      <td>3.000000</td>\n",
       "      <td>sometimes</td>\n",
       "      <td>no</td>\n",
       "      <td>2.000000</td>\n",
       "      <td>no</td>\n",
       "      <td>0.000000</td>\n",
       "      <td>0.000000</td>\n",
       "      <td>no</td>\n",
       "      <td>public_transportation</td>\n",
       "      <td>1</td>\n",
       "    </tr>\n",
       "    <tr>\n",
       "      <th>80</th>\n",
       "      <td>male</td>\n",
       "      <td>26.000000</td>\n",
       "      <td>1.700000</td>\n",
       "      <td>70.000000</td>\n",
       "      <td>yes</td>\n",
       "      <td>no</td>\n",
       "      <td>3.000000</td>\n",
       "      <td>1.000000</td>\n",
       "      <td>frequently</td>\n",
       "      <td>no</td>\n",
       "      <td>2.000000</td>\n",
       "      <td>no</td>\n",
       "      <td>2.000000</td>\n",
       "      <td>0.000000</td>\n",
       "      <td>frequently</td>\n",
       "      <td>public_transportation</td>\n",
       "      <td>1</td>\n",
       "    </tr>\n",
       "    <tr>\n",
       "      <th>989</th>\n",
       "      <td>female</td>\n",
       "      <td>19.821996</td>\n",
       "      <td>1.653431</td>\n",
       "      <td>75.090439</td>\n",
       "      <td>yes</td>\n",
       "      <td>no</td>\n",
       "      <td>2.766036</td>\n",
       "      <td>2.443812</td>\n",
       "      <td>sometimes</td>\n",
       "      <td>no</td>\n",
       "      <td>2.707927</td>\n",
       "      <td>no</td>\n",
       "      <td>0.702839</td>\n",
       "      <td>0.827439</td>\n",
       "      <td>sometimes</td>\n",
       "      <td>public_transportation</td>\n",
       "      <td>3</td>\n",
       "    </tr>\n",
       "    <tr>\n",
       "      <th>1371</th>\n",
       "      <td>male</td>\n",
       "      <td>27.991467</td>\n",
       "      <td>1.825590</td>\n",
       "      <td>120.860386</td>\n",
       "      <td>yes</td>\n",
       "      <td>yes</td>\n",
       "      <td>3.000000</td>\n",
       "      <td>3.000000</td>\n",
       "      <td>sometimes</td>\n",
       "      <td>no</td>\n",
       "      <td>3.000000</td>\n",
       "      <td>no</td>\n",
       "      <td>0.691369</td>\n",
       "      <td>1.415536</td>\n",
       "      <td>sometimes</td>\n",
       "      <td>public_transportation</td>\n",
       "      <td>5</td>\n",
       "    </tr>\n",
       "    <tr>\n",
       "      <th>1598</th>\n",
       "      <td>male</td>\n",
       "      <td>25.057878</td>\n",
       "      <td>1.763987</td>\n",
       "      <td>113.069667</td>\n",
       "      <td>yes</td>\n",
       "      <td>yes</td>\n",
       "      <td>1.412566</td>\n",
       "      <td>3.000000</td>\n",
       "      <td>sometimes</td>\n",
       "      <td>no</td>\n",
       "      <td>2.002495</td>\n",
       "      <td>no</td>\n",
       "      <td>1.592795</td>\n",
       "      <td>0.001867</td>\n",
       "      <td>sometimes</td>\n",
       "      <td>public_transportation</td>\n",
       "      <td>5</td>\n",
       "    </tr>\n",
       "  </tbody>\n",
       "</table>\n",
       "</div>"
      ],
      "text/plain": [
       "      gender        age    height      weight family_history_with_overweight  \\\n",
       "36    female  21.000000  1.660000   64.000000                            yes   \n",
       "80      male  26.000000  1.700000   70.000000                            yes   \n",
       "989   female  19.821996  1.653431   75.090439                            yes   \n",
       "1371    male  27.991467  1.825590  120.860386                            yes   \n",
       "1598    male  25.057878  1.763987  113.069667                            yes   \n",
       "\n",
       "     favc      fcvc       ncp        caec smoke      ch2o scc       faf  \\\n",
       "36    yes  1.000000  3.000000   sometimes    no  2.000000  no  0.000000   \n",
       "80     no  3.000000  1.000000  frequently    no  2.000000  no  2.000000   \n",
       "989    no  2.766036  2.443812   sometimes    no  2.707927  no  0.702839   \n",
       "1371  yes  3.000000  3.000000   sometimes    no  3.000000  no  0.691369   \n",
       "1598  yes  1.412566  3.000000   sometimes    no  2.002495  no  1.592795   \n",
       "\n",
       "           tue        calc                 mtrans  nobeyesdad  \n",
       "36    0.000000          no  public_transportation           1  \n",
       "80    0.000000  frequently  public_transportation           1  \n",
       "989   0.827439   sometimes  public_transportation           3  \n",
       "1371  1.415536   sometimes  public_transportation           5  \n",
       "1598  0.001867   sometimes  public_transportation           5  "
      ]
     },
     "metadata": {},
     "output_type": "display_data"
    },
    {
     "name": "stdout",
     "output_type": "stream",
     "text": [
      "\n",
      "\n"
     ]
    },
    {
     "data": {
      "text/markdown": [
       "### 4. Calidad de los Datos"
      ],
      "text/plain": [
       "<IPython.core.display.Markdown object>"
      ]
     },
     "metadata": {},
     "output_type": "display_data"
    },
    {
     "name": "stdout",
     "output_type": "stream",
     "text": [
      "Número total de filas duplicadas: 37\n",
      "Conteo de valores nulos por columna:\n",
      "No se encontraron valores nulos.\n",
      "\n",
      "\n"
     ]
    },
    {
     "data": {
      "text/markdown": [
       "### 5. Estadísticas Descriptivas"
      ],
      "text/plain": [
       "<IPython.core.display.Markdown object>"
      ]
     },
     "metadata": {},
     "output_type": "display_data"
    },
    {
     "data": {
      "text/markdown": [
       "#### **Variables Numéricas**"
      ],
      "text/plain": [
       "<IPython.core.display.Markdown object>"
      ]
     },
     "metadata": {},
     "output_type": "display_data"
    },
    {
     "data": {
      "text/html": [
       "<div>\n",
       "<style scoped>\n",
       "    .dataframe tbody tr th:only-of-type {\n",
       "        vertical-align: middle;\n",
       "    }\n",
       "\n",
       "    .dataframe tbody tr th {\n",
       "        vertical-align: top;\n",
       "    }\n",
       "\n",
       "    .dataframe thead th {\n",
       "        text-align: right;\n",
       "    }\n",
       "</style>\n",
       "<table border=\"1\" class=\"dataframe\">\n",
       "  <thead>\n",
       "    <tr style=\"text-align: right;\">\n",
       "      <th></th>\n",
       "      <th>count</th>\n",
       "      <th>mean</th>\n",
       "      <th>std</th>\n",
       "      <th>min</th>\n",
       "      <th>25%</th>\n",
       "      <th>50%</th>\n",
       "      <th>75%</th>\n",
       "      <th>max</th>\n",
       "    </tr>\n",
       "  </thead>\n",
       "  <tbody>\n",
       "    <tr>\n",
       "      <th>age</th>\n",
       "      <td>1946.0</td>\n",
       "      <td>24.148324</td>\n",
       "      <td>5.938280</td>\n",
       "      <td>15.000000</td>\n",
       "      <td>19.983146</td>\n",
       "      <td>22.851804</td>\n",
       "      <td>26.000000</td>\n",
       "      <td>47.706100</td>\n",
       "    </tr>\n",
       "    <tr>\n",
       "      <th>height</th>\n",
       "      <td>1946.0</td>\n",
       "      <td>1.704715</td>\n",
       "      <td>0.092479</td>\n",
       "      <td>1.456346</td>\n",
       "      <td>1.634428</td>\n",
       "      <td>1.704180</td>\n",
       "      <td>1.770093</td>\n",
       "      <td>1.980000</td>\n",
       "    </tr>\n",
       "    <tr>\n",
       "      <th>weight</th>\n",
       "      <td>1946.0</td>\n",
       "      <td>86.897181</td>\n",
       "      <td>25.951658</td>\n",
       "      <td>39.101805</td>\n",
       "      <td>66.031741</td>\n",
       "      <td>83.544074</td>\n",
       "      <td>108.017559</td>\n",
       "      <td>165.057269</td>\n",
       "    </tr>\n",
       "    <tr>\n",
       "      <th>fcvc</th>\n",
       "      <td>1946.0</td>\n",
       "      <td>2.420032</td>\n",
       "      <td>0.528187</td>\n",
       "      <td>1.000000</td>\n",
       "      <td>2.000000</td>\n",
       "      <td>2.408561</td>\n",
       "      <td>3.000000</td>\n",
       "      <td>3.000000</td>\n",
       "    </tr>\n",
       "    <tr>\n",
       "      <th>ncp</th>\n",
       "      <td>1946.0</td>\n",
       "      <td>2.691787</td>\n",
       "      <td>0.766672</td>\n",
       "      <td>1.000000</td>\n",
       "      <td>2.696268</td>\n",
       "      <td>3.000000</td>\n",
       "      <td>3.000000</td>\n",
       "      <td>4.000000</td>\n",
       "    </tr>\n",
       "    <tr>\n",
       "      <th>ch2o</th>\n",
       "      <td>1946.0</td>\n",
       "      <td>2.016276</td>\n",
       "      <td>0.604417</td>\n",
       "      <td>1.000000</td>\n",
       "      <td>1.622270</td>\n",
       "      <td>2.000000</td>\n",
       "      <td>2.479917</td>\n",
       "      <td>3.000000</td>\n",
       "    </tr>\n",
       "    <tr>\n",
       "      <th>faf</th>\n",
       "      <td>1946.0</td>\n",
       "      <td>1.021618</td>\n",
       "      <td>0.844441</td>\n",
       "      <td>0.000000</td>\n",
       "      <td>0.159962</td>\n",
       "      <td>1.000000</td>\n",
       "      <td>1.663930</td>\n",
       "      <td>3.000000</td>\n",
       "    </tr>\n",
       "    <tr>\n",
       "      <th>tue</th>\n",
       "      <td>1946.0</td>\n",
       "      <td>0.672193</td>\n",
       "      <td>0.604946</td>\n",
       "      <td>0.000000</td>\n",
       "      <td>0.001754</td>\n",
       "      <td>0.632467</td>\n",
       "      <td>1.000000</td>\n",
       "      <td>2.000000</td>\n",
       "    </tr>\n",
       "  </tbody>\n",
       "</table>\n",
       "</div>"
      ],
      "text/plain": [
       "         count       mean        std        min        25%        50%  \\\n",
       "age     1946.0  24.148324   5.938280  15.000000  19.983146  22.851804   \n",
       "height  1946.0   1.704715   0.092479   1.456346   1.634428   1.704180   \n",
       "weight  1946.0  86.897181  25.951658  39.101805  66.031741  83.544074   \n",
       "fcvc    1946.0   2.420032   0.528187   1.000000   2.000000   2.408561   \n",
       "ncp     1946.0   2.691787   0.766672   1.000000   2.696268   3.000000   \n",
       "ch2o    1946.0   2.016276   0.604417   1.000000   1.622270   2.000000   \n",
       "faf     1946.0   1.021618   0.844441   0.000000   0.159962   1.000000   \n",
       "tue     1946.0   0.672193   0.604946   0.000000   0.001754   0.632467   \n",
       "\n",
       "               75%         max  \n",
       "age      26.000000   47.706100  \n",
       "height    1.770093    1.980000  \n",
       "weight  108.017559  165.057269  \n",
       "fcvc      3.000000    3.000000  \n",
       "ncp       3.000000    4.000000  \n",
       "ch2o      2.479917    3.000000  \n",
       "faf       1.663930    3.000000  \n",
       "tue       1.000000    2.000000  "
      ]
     },
     "metadata": {},
     "output_type": "display_data"
    },
    {
     "data": {
      "text/markdown": [
       "#### **Variables Categóricas**"
      ],
      "text/plain": [
       "<IPython.core.display.Markdown object>"
      ]
     },
     "metadata": {},
     "output_type": "display_data"
    },
    {
     "data": {
      "text/html": [
       "<div>\n",
       "<style scoped>\n",
       "    .dataframe tbody tr th:only-of-type {\n",
       "        vertical-align: middle;\n",
       "    }\n",
       "\n",
       "    .dataframe tbody tr th {\n",
       "        vertical-align: top;\n",
       "    }\n",
       "\n",
       "    .dataframe thead th {\n",
       "        text-align: right;\n",
       "    }\n",
       "</style>\n",
       "<table border=\"1\" class=\"dataframe\">\n",
       "  <thead>\n",
       "    <tr style=\"text-align: right;\">\n",
       "      <th></th>\n",
       "      <th>count</th>\n",
       "      <th>unique</th>\n",
       "      <th>top</th>\n",
       "      <th>freq</th>\n",
       "    </tr>\n",
       "  </thead>\n",
       "  <tbody>\n",
       "    <tr>\n",
       "      <th>gender</th>\n",
       "      <td>1946</td>\n",
       "      <td>2</td>\n",
       "      <td>male</td>\n",
       "      <td>1013</td>\n",
       "    </tr>\n",
       "    <tr>\n",
       "      <th>family_history_with_overweight</th>\n",
       "      <td>1946</td>\n",
       "      <td>2</td>\n",
       "      <td>yes</td>\n",
       "      <td>1608</td>\n",
       "    </tr>\n",
       "    <tr>\n",
       "      <th>favc</th>\n",
       "      <td>1946</td>\n",
       "      <td>2</td>\n",
       "      <td>yes</td>\n",
       "      <td>1727</td>\n",
       "    </tr>\n",
       "    <tr>\n",
       "      <th>caec</th>\n",
       "      <td>1946</td>\n",
       "      <td>4</td>\n",
       "      <td>sometimes</td>\n",
       "      <td>1640</td>\n",
       "    </tr>\n",
       "    <tr>\n",
       "      <th>smoke</th>\n",
       "      <td>1946</td>\n",
       "      <td>2</td>\n",
       "      <td>no</td>\n",
       "      <td>1908</td>\n",
       "    </tr>\n",
       "    <tr>\n",
       "      <th>scc</th>\n",
       "      <td>1946</td>\n",
       "      <td>2</td>\n",
       "      <td>no</td>\n",
       "      <td>1860</td>\n",
       "    </tr>\n",
       "    <tr>\n",
       "      <th>calc</th>\n",
       "      <td>1946</td>\n",
       "      <td>4</td>\n",
       "      <td>sometimes</td>\n",
       "      <td>1318</td>\n",
       "    </tr>\n",
       "    <tr>\n",
       "      <th>mtrans</th>\n",
       "      <td>1946</td>\n",
       "      <td>5</td>\n",
       "      <td>public_transportation</td>\n",
       "      <td>1461</td>\n",
       "    </tr>\n",
       "  </tbody>\n",
       "</table>\n",
       "</div>"
      ],
      "text/plain": [
       "                               count unique                    top  freq\n",
       "gender                          1946      2                   male  1013\n",
       "family_history_with_overweight  1946      2                    yes  1608\n",
       "favc                            1946      2                    yes  1727\n",
       "caec                            1946      4              sometimes  1640\n",
       "smoke                           1946      2                     no  1908\n",
       "scc                             1946      2                     no  1860\n",
       "calc                            1946      4              sometimes  1318\n",
       "mtrans                          1946      5  public_transportation  1461"
      ]
     },
     "metadata": {},
     "output_type": "display_data"
    },
    {
     "name": "stdout",
     "output_type": "stream",
     "text": [
      "\n",
      "\n"
     ]
    },
    {
     "data": {
      "text/markdown": [
       "### 6. Distribución de la Variable Objetivo: 'nobeyesdad'"
      ],
      "text/plain": [
       "<IPython.core.display.Markdown object>"
      ]
     },
     "metadata": {},
     "output_type": "display_data"
    },
    {
     "data": {
      "text/html": [
       "<div>\n",
       "<style scoped>\n",
       "    .dataframe tbody tr th:only-of-type {\n",
       "        vertical-align: middle;\n",
       "    }\n",
       "\n",
       "    .dataframe tbody tr th {\n",
       "        vertical-align: top;\n",
       "    }\n",
       "\n",
       "    .dataframe thead th {\n",
       "        text-align: right;\n",
       "    }\n",
       "</style>\n",
       "<table border=\"1\" class=\"dataframe\">\n",
       "  <thead>\n",
       "    <tr style=\"text-align: right;\">\n",
       "      <th></th>\n",
       "      <th>Frecuencia</th>\n",
       "      <th>Porcentaje (%)</th>\n",
       "    </tr>\n",
       "  </thead>\n",
       "  <tbody>\n",
       "    <tr>\n",
       "      <th>4</th>\n",
       "      <td>317</td>\n",
       "      <td>16.29</td>\n",
       "    </tr>\n",
       "    <tr>\n",
       "      <th>6</th>\n",
       "      <td>299</td>\n",
       "      <td>15.36</td>\n",
       "    </tr>\n",
       "    <tr>\n",
       "      <th>5</th>\n",
       "      <td>285</td>\n",
       "      <td>14.65</td>\n",
       "    </tr>\n",
       "    <tr>\n",
       "      <th>2</th>\n",
       "      <td>275</td>\n",
       "      <td>14.13</td>\n",
       "    </tr>\n",
       "    <tr>\n",
       "      <th>3</th>\n",
       "      <td>261</td>\n",
       "      <td>13.41</td>\n",
       "    </tr>\n",
       "    <tr>\n",
       "      <th>1</th>\n",
       "      <td>258</td>\n",
       "      <td>13.26</td>\n",
       "    </tr>\n",
       "    <tr>\n",
       "      <th>0</th>\n",
       "      <td>251</td>\n",
       "      <td>12.90</td>\n",
       "    </tr>\n",
       "  </tbody>\n",
       "</table>\n",
       "</div>"
      ],
      "text/plain": [
       "   Frecuencia  Porcentaje (%)\n",
       "4         317           16.29\n",
       "6         299           15.36\n",
       "5         285           14.65\n",
       "2         275           14.13\n",
       "3         261           13.41\n",
       "1         258           13.26\n",
       "0         251           12.90"
      ]
     },
     "metadata": {},
     "output_type": "display_data"
    }
   ],
   "source": [
    "# Define the correct variable lists based on the actual DataFrame columns\n",
    "variables_numericas = ['age', 'height', 'weight', 'fcvc', 'ncp', 'ch2o', 'faf', 'tue']\n",
    "variables_categoricas = ['gender', 'family_history_with_overweight', 'favc', 'caec', 'smoke', 'scc', 'calc', 'mtrans']\n",
    "variable_objetivo = 'nobeyesdad'\n",
    "\n",
    "# Ejecutar la función para generar un resumen de dataset\n",
    "resumen_eda(df, variables_numericas, variables_categoricas, variable_objetivo)"
   ]
  }
 ],
 "metadata": {
  "kernelspec": {
   "display_name": "base",
   "language": "python",
   "name": "python3"
  },
  "language_info": {
   "codemirror_mode": {
    "name": "ipython",
    "version": 3
   },
   "file_extension": ".py",
   "mimetype": "text/x-python",
   "name": "python",
   "nbconvert_exporter": "python",
   "pygments_lexer": "ipython3",
   "version": "3.9.7"
  }
 },
 "nbformat": 4,
 "nbformat_minor": 5
}
