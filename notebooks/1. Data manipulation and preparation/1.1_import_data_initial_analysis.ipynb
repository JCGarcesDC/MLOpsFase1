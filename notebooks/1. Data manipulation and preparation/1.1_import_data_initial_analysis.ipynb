{
 "cells": [
  {
   "cell_type": "markdown",
   "id": "745936ba",
   "metadata": {},
   "source": [
    "# **Importar datos y Análisis Inicial**\n",
    "\n",
    "Inspeccionar la estructura, tipos de datos y estadísticas descriptivas del dataset."
   ]
  },
  {
   "cell_type": "markdown",
   "id": "b446b554",
   "metadata": {},
   "source": [
    "# 1.- **Importar librerias**"
   ]
  },
  {
   "cell_type": "code",
   "execution_count": 1,
   "id": "90c948f2",
   "metadata": {},
   "outputs": [
    {
     "name": "stdout",
     "output_type": "stream",
     "text": [
      "Funciones importadas exitosamente desde src/cargar_analisis.py\n"
     ]
    }
   ],
   "source": [
    "# Importar librerías estándar\n",
    "import sys\n",
    "import os\n",
    "\n",
    "# 2. Configurar la ruta para que Python encuentre el código en 'src'\n",
    "# Esto añade la carpeta raíz del proyecto al sys.path\n",
    "ruta_raiz_proyecto = os.path.abspath(os.path.join(os.getcwd(), '../../'))\n",
    "sys.path.append(ruta_raiz_proyecto)\n",
    "\n",
    "# 3. Importar las funciones directamente. \n",
    "# Si la raíz está en sys.path, Python busca 'cargar_analisis.py' en la carpeta 'src'.\n",
    "from src.cargar_analisis import cargar_dataframe, crear_listas_variables, resumen_eda\n",
    "\n",
    "print(\"Funciones importadas exitosamente desde src/cargar_analisis.py\")"
   ]
  },
  {
   "cell_type": "markdown",
   "id": "5fbbffe3",
   "metadata": {},
   "source": [
    "# **2.- Importar datos**"
   ]
  },
  {
   "cell_type": "code",
   "execution_count": 2,
   "id": "9a0e69e8",
   "metadata": {},
   "outputs": [
    {
     "name": "stdout",
     "output_type": "stream",
     "text": [
      "Archivo CSV cargado exitosamente desde: ../../data/obesity_estimation_modified.csv\n"
     ]
    }
   ],
   "source": [
    "# Ruta de la base de datos\n",
    "path_data = '../../data/obesity_estimation_modified.csv'\n",
    "\n",
    "# Ejecutar función para cargar datos\n",
    "df = cargar_dataframe(path_data)"
   ]
  },
  {
   "cell_type": "markdown",
   "id": "4f8b341d",
   "metadata": {},
   "source": [
    "# **3.- Análisis Inicial**"
   ]
  },
  {
   "cell_type": "code",
   "execution_count": 3,
   "id": "7e8f5973",
   "metadata": {},
   "outputs": [
    {
     "data": {
      "text/markdown": [
       "---"
      ],
      "text/plain": [
       "<IPython.core.display.Markdown object>"
      ]
     },
     "metadata": {},
     "output_type": "display_data"
    },
    {
     "data": {
      "text/markdown": [
       "## **Análisis Exploratorio del Dataset**"
      ],
      "text/plain": [
       "<IPython.core.display.Markdown object>"
      ]
     },
     "metadata": {},
     "output_type": "display_data"
    },
    {
     "data": {
      "text/markdown": [
       "---"
      ],
      "text/plain": [
       "<IPython.core.display.Markdown object>"
      ]
     },
     "metadata": {},
     "output_type": "display_data"
    },
    {
     "data": {
      "text/markdown": [
       "### 1. Dimensiones del Dataset"
      ],
      "text/plain": [
       "<IPython.core.display.Markdown object>"
      ]
     },
     "metadata": {},
     "output_type": "display_data"
    },
    {
     "name": "stdout",
     "output_type": "stream",
     "text": [
      "Número de Filas:    2,153\n",
      "Número de Columnas: 18\n",
      "\n",
      "\n"
     ]
    },
    {
     "data": {
      "text/markdown": [
       "### 2. Tipos de Datos y Uso de Memoria"
      ],
      "text/plain": [
       "<IPython.core.display.Markdown object>"
      ]
     },
     "metadata": {},
     "output_type": "display_data"
    },
    {
     "name": "stdout",
     "output_type": "stream",
     "text": [
      "<class 'pandas.core.frame.DataFrame'>\n",
      "RangeIndex: 2153 entries, 0 to 2152\n",
      "Data columns (total 18 columns):\n",
      " #   Column                          Non-Null Count  Dtype \n",
      "---  ------                          --------------  ----- \n",
      " 0   Gender                          2135 non-null   object\n",
      " 1   Age                             2126 non-null   object\n",
      " 2   Height                          2125 non-null   object\n",
      " 3   Weight                          2137 non-null   object\n",
      " 4   family_history_with_overweight  2133 non-null   object\n",
      " 5   FAVC                            2137 non-null   object\n",
      " 6   FCVC                            2136 non-null   object\n",
      " 7   NCP                             2129 non-null   object\n",
      " 8   CAEC                            2131 non-null   object\n",
      " 9   SMOKE                           2134 non-null   object\n",
      " 10  CH2O                            2124 non-null   object\n",
      " 11  SCC                             2138 non-null   object\n",
      " 12  FAF                             2124 non-null   object\n",
      " 13  TUE                             2120 non-null   object\n",
      " 14  CALC                            2130 non-null   object\n",
      " 15  MTRANS                          2130 non-null   object\n",
      " 16  NObeyesdad                      2133 non-null   object\n",
      " 17  mixed_type_col                  1912 non-null   object\n",
      "dtypes: object(18)\n",
      "memory usage: 302.9+ KB\n",
      "\n",
      "\n"
     ]
    },
    {
     "data": {
      "text/markdown": [
       "### 3. Muestra Aleatoria de Datos"
      ],
      "text/plain": [
       "<IPython.core.display.Markdown object>"
      ]
     },
     "metadata": {},
     "output_type": "display_data"
    },
    {
     "data": {
      "text/html": [
       "<div>\n",
       "<style scoped>\n",
       "    .dataframe tbody tr th:only-of-type {\n",
       "        vertical-align: middle;\n",
       "    }\n",
       "\n",
       "    .dataframe tbody tr th {\n",
       "        vertical-align: top;\n",
       "    }\n",
       "\n",
       "    .dataframe thead th {\n",
       "        text-align: right;\n",
       "    }\n",
       "</style>\n",
       "<table border=\"1\" class=\"dataframe\">\n",
       "  <thead>\n",
       "    <tr style=\"text-align: right;\">\n",
       "      <th></th>\n",
       "      <th>Gender</th>\n",
       "      <th>Age</th>\n",
       "      <th>Height</th>\n",
       "      <th>Weight</th>\n",
       "      <th>family_history_with_overweight</th>\n",
       "      <th>FAVC</th>\n",
       "      <th>FCVC</th>\n",
       "      <th>NCP</th>\n",
       "      <th>CAEC</th>\n",
       "      <th>SMOKE</th>\n",
       "      <th>CH2O</th>\n",
       "      <th>SCC</th>\n",
       "      <th>FAF</th>\n",
       "      <th>TUE</th>\n",
       "      <th>CALC</th>\n",
       "      <th>MTRANS</th>\n",
       "      <th>NObeyesdad</th>\n",
       "      <th>mixed_type_col</th>\n",
       "    </tr>\n",
       "  </thead>\n",
       "  <tbody>\n",
       "    <tr>\n",
       "      <th>20</th>\n",
       "      <td>Male</td>\n",
       "      <td>22.0</td>\n",
       "      <td>1.65</td>\n",
       "      <td>80.0</td>\n",
       "      <td>yes</td>\n",
       "      <td>no</td>\n",
       "      <td>2.0</td>\n",
       "      <td>3.0</td>\n",
       "      <td>sOMETIMES</td>\n",
       "      <td>no</td>\n",
       "      <td>2.0</td>\n",
       "      <td>no</td>\n",
       "      <td>3.0</td>\n",
       "      <td>2.0</td>\n",
       "      <td>no</td>\n",
       "      <td>wALKING</td>\n",
       "      <td>Overweight_Level_II</td>\n",
       "      <td>610</td>\n",
       "    </tr>\n",
       "    <tr>\n",
       "      <th>1868</th>\n",
       "      <td>Female</td>\n",
       "      <td>26.0</td>\n",
       "      <td>1.638836</td>\n",
       "      <td>110.970479</td>\n",
       "      <td>YES</td>\n",
       "      <td>yes</td>\n",
       "      <td>3.0</td>\n",
       "      <td>3.0</td>\n",
       "      <td>Sometimes</td>\n",
       "      <td>no</td>\n",
       "      <td>2.644135</td>\n",
       "      <td>no</td>\n",
       "      <td>0.0</td>\n",
       "      <td>0.357581</td>\n",
       "      <td>Sometimes</td>\n",
       "      <td>Public_Transportation</td>\n",
       "      <td>Obesity_Type_III</td>\n",
       "      <td>411</td>\n",
       "    </tr>\n",
       "    <tr>\n",
       "      <th>1579</th>\n",
       "      <td>Male</td>\n",
       "      <td>22.908879</td>\n",
       "      <td>1.876898</td>\n",
       "      <td>121.277832</td>\n",
       "      <td>yes</td>\n",
       "      <td>yes</td>\n",
       "      <td>2.630137</td>\n",
       "      <td>NaN</td>\n",
       "      <td>Sometimes</td>\n",
       "      <td>no</td>\n",
       "      <td>1.970508</td>\n",
       "      <td>no</td>\n",
       "      <td>1.304291</td>\n",
       "      <td>0.0</td>\n",
       "      <td>Sometimes</td>\n",
       "      <td>Public_Transportation</td>\n",
       "      <td>Obesity_Type_II</td>\n",
       "      <td>237</td>\n",
       "    </tr>\n",
       "    <tr>\n",
       "      <th>1552</th>\n",
       "      <td>Male</td>\n",
       "      <td>34.576714</td>\n",
       "      <td>1.73325</td>\n",
       "      <td>103.669116</td>\n",
       "      <td>yes</td>\n",
       "      <td>yes</td>\n",
       "      <td>2.501224</td>\n",
       "      <td>2.049565</td>\n",
       "      <td>Sometimes</td>\n",
       "      <td>no</td>\n",
       "      <td>1.0</td>\n",
       "      <td>no</td>\n",
       "      <td>1.746583</td>\n",
       "      <td>0.0</td>\n",
       "      <td>no</td>\n",
       "      <td>Automobile</td>\n",
       "      <td>Obesity_Type_II</td>\n",
       "      <td>657</td>\n",
       "    </tr>\n",
       "    <tr>\n",
       "      <th>1252</th>\n",
       "      <td>Male</td>\n",
       "      <td>23.0</td>\n",
       "      <td>1.791415</td>\n",
       "      <td>105.138073</td>\n",
       "      <td>yes</td>\n",
       "      <td>yes</td>\n",
       "      <td>2.262171</td>\n",
       "      <td>3.0</td>\n",
       "      <td>Sometimes</td>\n",
       "      <td>no</td>\n",
       "      <td>2.03415</td>\n",
       "      <td>no</td>\n",
       "      <td>0.317363</td>\n",
       "      <td>0.508663</td>\n",
       "      <td>Sometimes</td>\n",
       "      <td>Public_Transportation</td>\n",
       "      <td>Obesity_Type_I</td>\n",
       "      <td>NaN</td>\n",
       "    </tr>\n",
       "  </tbody>\n",
       "</table>\n",
       "</div>"
      ],
      "text/plain": [
       "      Gender        Age     Height        Weight  \\\n",
       "20      Male       22.0       1.65         80.0    \n",
       "1868  Female       26.0   1.638836    110.970479   \n",
       "1579    Male  22.908879   1.876898   121.277832    \n",
       "1552    Male  34.576714   1.73325    103.669116    \n",
       "1252    Male       23.0   1.791415    105.138073   \n",
       "\n",
       "     family_history_with_overweight FAVC      FCVC       NCP         CAEC  \\\n",
       "20                              yes   no       2.0       3.0   sOMETIMES    \n",
       "1868                           YES   yes       3.0       3.0    Sometimes   \n",
       "1579                            yes  yes  2.630137       NaN    Sometimes   \n",
       "1552                            yes  yes  2.501224  2.049565    Sometimes   \n",
       "1252                            yes  yes  2.262171       3.0    Sometimes   \n",
       "\n",
       "     SMOKE        CH2O SCC       FAF       TUE       CALC  \\\n",
       "20      no         2.0  no       3.0       2.0         no   \n",
       "1868    no   2.644135   no       0.0  0.357581  Sometimes   \n",
       "1579    no    1.970508  no  1.304291       0.0  Sometimes   \n",
       "1552    no         1.0  no  1.746583       0.0         no   \n",
       "1252    no     2.03415  no  0.317363  0.508663  Sometimes   \n",
       "\n",
       "                     MTRANS           NObeyesdad mixed_type_col  \n",
       "20                 wALKING   Overweight_Level_II            610  \n",
       "1868  Public_Transportation     Obesity_Type_III            411  \n",
       "1579  Public_Transportation      Obesity_Type_II            237  \n",
       "1552             Automobile      Obesity_Type_II            657  \n",
       "1252  Public_Transportation       Obesity_Type_I            NaN  "
      ]
     },
     "metadata": {},
     "output_type": "display_data"
    },
    {
     "name": "stdout",
     "output_type": "stream",
     "text": [
      "\n",
      "\n"
     ]
    },
    {
     "data": {
      "text/markdown": [
       "### 4. Calidad de los Datos"
      ],
      "text/plain": [
       "<IPython.core.display.Markdown object>"
      ]
     },
     "metadata": {},
     "output_type": "display_data"
    },
    {
     "name": "stdout",
     "output_type": "stream",
     "text": [
      "Número total de filas duplicadas: 1\n",
      "Conteo de valores nulos por columna:\n",
      "Gender                             18\n",
      "Age                                27\n",
      "Height                             28\n",
      "Weight                             16\n",
      "family_history_with_overweight     20\n",
      "FAVC                               16\n",
      "FCVC                               17\n",
      "NCP                                24\n",
      "CAEC                               22\n",
      "SMOKE                              19\n",
      "CH2O                               29\n",
      "SCC                                15\n",
      "FAF                                29\n",
      "TUE                                33\n",
      "CALC                               23\n",
      "MTRANS                             23\n",
      "NObeyesdad                         20\n",
      "mixed_type_col                    241\n",
      "dtype: int64\n",
      "\n",
      "\n"
     ]
    },
    {
     "data": {
      "text/markdown": [
       "### 5. Estadísticas Descriptivas"
      ],
      "text/plain": [
       "<IPython.core.display.Markdown object>"
      ]
     },
     "metadata": {},
     "output_type": "display_data"
    },
    {
     "data": {
      "text/markdown": [
       "#### **Variables Numéricas**"
      ],
      "text/plain": [
       "<IPython.core.display.Markdown object>"
      ]
     },
     "metadata": {},
     "output_type": "display_data"
    },
    {
     "data": {
      "text/html": [
       "<div>\n",
       "<style scoped>\n",
       "    .dataframe tbody tr th:only-of-type {\n",
       "        vertical-align: middle;\n",
       "    }\n",
       "\n",
       "    .dataframe tbody tr th {\n",
       "        vertical-align: top;\n",
       "    }\n",
       "\n",
       "    .dataframe thead th {\n",
       "        text-align: right;\n",
       "    }\n",
       "</style>\n",
       "<table border=\"1\" class=\"dataframe\">\n",
       "  <thead>\n",
       "    <tr style=\"text-align: right;\">\n",
       "      <th></th>\n",
       "      <th>count</th>\n",
       "      <th>unique</th>\n",
       "      <th>top</th>\n",
       "      <th>freq</th>\n",
       "    </tr>\n",
       "  </thead>\n",
       "  <tbody>\n",
       "    <tr>\n",
       "      <th>Age</th>\n",
       "      <td>2126</td>\n",
       "      <td>1410</td>\n",
       "      <td>18.0</td>\n",
       "      <td>120</td>\n",
       "    </tr>\n",
       "    <tr>\n",
       "      <th>Height</th>\n",
       "      <td>2125</td>\n",
       "      <td>1572</td>\n",
       "      <td>1.7</td>\n",
       "      <td>55</td>\n",
       "    </tr>\n",
       "    <tr>\n",
       "      <th>Weight</th>\n",
       "      <td>2137</td>\n",
       "      <td>1551</td>\n",
       "      <td>80.0</td>\n",
       "      <td>56</td>\n",
       "    </tr>\n",
       "    <tr>\n",
       "      <th>FCVC</th>\n",
       "      <td>2136</td>\n",
       "      <td>818</td>\n",
       "      <td>3.0</td>\n",
       "      <td>616</td>\n",
       "    </tr>\n",
       "    <tr>\n",
       "      <th>NCP</th>\n",
       "      <td>2129</td>\n",
       "      <td>646</td>\n",
       "      <td>3.0</td>\n",
       "      <td>1146</td>\n",
       "    </tr>\n",
       "    <tr>\n",
       "      <th>CH2O</th>\n",
       "      <td>2124</td>\n",
       "      <td>1269</td>\n",
       "      <td>2.0</td>\n",
       "      <td>425</td>\n",
       "    </tr>\n",
       "    <tr>\n",
       "      <th>FAF</th>\n",
       "      <td>2124</td>\n",
       "      <td>1196</td>\n",
       "      <td>0.0</td>\n",
       "      <td>386</td>\n",
       "    </tr>\n",
       "    <tr>\n",
       "      <th>TUE</th>\n",
       "      <td>2120</td>\n",
       "      <td>1129</td>\n",
       "      <td>0.0</td>\n",
       "      <td>521</td>\n",
       "    </tr>\n",
       "    <tr>\n",
       "      <th>mixed_type_col</th>\n",
       "      <td>1912</td>\n",
       "      <td>775</td>\n",
       "      <td>unknown</td>\n",
       "      <td>231</td>\n",
       "    </tr>\n",
       "  </tbody>\n",
       "</table>\n",
       "</div>"
      ],
      "text/plain": [
       "               count unique      top  freq\n",
       "Age             2126   1410     18.0   120\n",
       "Height          2125   1572      1.7    55\n",
       "Weight          2137   1551     80.0    56\n",
       "FCVC            2136    818      3.0   616\n",
       "NCP             2129    646      3.0  1146\n",
       "CH2O            2124   1269      2.0   425\n",
       "FAF             2124   1196      0.0   386\n",
       "TUE             2120   1129      0.0   521\n",
       "mixed_type_col  1912    775  unknown   231"
      ]
     },
     "metadata": {},
     "output_type": "display_data"
    },
    {
     "data": {
      "text/markdown": [
       "#### **Variables Categóricas**"
      ],
      "text/plain": [
       "<IPython.core.display.Markdown object>"
      ]
     },
     "metadata": {},
     "output_type": "display_data"
    },
    {
     "data": {
      "text/html": [
       "<div>\n",
       "<style scoped>\n",
       "    .dataframe tbody tr th:only-of-type {\n",
       "        vertical-align: middle;\n",
       "    }\n",
       "\n",
       "    .dataframe tbody tr th {\n",
       "        vertical-align: top;\n",
       "    }\n",
       "\n",
       "    .dataframe thead th {\n",
       "        text-align: right;\n",
       "    }\n",
       "</style>\n",
       "<table border=\"1\" class=\"dataframe\">\n",
       "  <thead>\n",
       "    <tr style=\"text-align: right;\">\n",
       "      <th></th>\n",
       "      <th>count</th>\n",
       "      <th>unique</th>\n",
       "      <th>top</th>\n",
       "      <th>freq</th>\n",
       "    </tr>\n",
       "  </thead>\n",
       "  <tbody>\n",
       "    <tr>\n",
       "      <th>Gender</th>\n",
       "      <td>2135</td>\n",
       "      <td>4</td>\n",
       "      <td>Male</td>\n",
       "      <td>1040</td>\n",
       "    </tr>\n",
       "    <tr>\n",
       "      <th>family_history_with_overweight</th>\n",
       "      <td>2133</td>\n",
       "      <td>5</td>\n",
       "      <td>yes</td>\n",
       "      <td>1662</td>\n",
       "    </tr>\n",
       "    <tr>\n",
       "      <th>FAVC</th>\n",
       "      <td>2137</td>\n",
       "      <td>4</td>\n",
       "      <td>yes</td>\n",
       "      <td>1813</td>\n",
       "    </tr>\n",
       "    <tr>\n",
       "      <th>CAEC</th>\n",
       "      <td>2131</td>\n",
       "      <td>8</td>\n",
       "      <td>Sometimes</td>\n",
       "      <td>1677</td>\n",
       "    </tr>\n",
       "    <tr>\n",
       "      <th>SMOKE</th>\n",
       "      <td>2134</td>\n",
       "      <td>5</td>\n",
       "      <td>no</td>\n",
       "      <td>1993</td>\n",
       "    </tr>\n",
       "    <tr>\n",
       "      <th>SCC</th>\n",
       "      <td>2138</td>\n",
       "      <td>4</td>\n",
       "      <td>no</td>\n",
       "      <td>1924</td>\n",
       "    </tr>\n",
       "    <tr>\n",
       "      <th>CALC</th>\n",
       "      <td>2130</td>\n",
       "      <td>8</td>\n",
       "      <td>Sometimes</td>\n",
       "      <td>1343</td>\n",
       "    </tr>\n",
       "    <tr>\n",
       "      <th>MTRANS</th>\n",
       "      <td>2130</td>\n",
       "      <td>9</td>\n",
       "      <td>Public_Transportation</td>\n",
       "      <td>1512</td>\n",
       "    </tr>\n",
       "  </tbody>\n",
       "</table>\n",
       "</div>"
      ],
      "text/plain": [
       "                               count unique                    top  freq\n",
       "Gender                          2135      4                   Male  1040\n",
       "family_history_with_overweight  2133      5                    yes  1662\n",
       "FAVC                            2137      4                    yes  1813\n",
       "CAEC                            2131      8              Sometimes  1677\n",
       "SMOKE                           2134      5                     no  1993\n",
       "SCC                             2138      4                     no  1924\n",
       "CALC                            2130      8              Sometimes  1343\n",
       "MTRANS                          2130      9  Public_Transportation  1512"
      ]
     },
     "metadata": {},
     "output_type": "display_data"
    },
    {
     "name": "stdout",
     "output_type": "stream",
     "text": [
      "\n",
      "\n"
     ]
    },
    {
     "data": {
      "text/markdown": [
       "### 6. Distribución de la Variable Objetivo: 'NObeyesdad'"
      ],
      "text/plain": [
       "<IPython.core.display.Markdown object>"
      ]
     },
     "metadata": {},
     "output_type": "display_data"
    },
    {
     "data": {
      "text/html": [
       "<div>\n",
       "<style scoped>\n",
       "    .dataframe tbody tr th:only-of-type {\n",
       "        vertical-align: middle;\n",
       "    }\n",
       "\n",
       "    .dataframe tbody tr th {\n",
       "        vertical-align: top;\n",
       "    }\n",
       "\n",
       "    .dataframe thead th {\n",
       "        text-align: right;\n",
       "    }\n",
       "</style>\n",
       "<table border=\"1\" class=\"dataframe\">\n",
       "  <thead>\n",
       "    <tr style=\"text-align: right;\">\n",
       "      <th></th>\n",
       "      <th>Frecuencia</th>\n",
       "      <th>Porcentaje (%)</th>\n",
       "    </tr>\n",
       "    <tr>\n",
       "      <th>NObeyesdad</th>\n",
       "      <th></th>\n",
       "      <th></th>\n",
       "    </tr>\n",
       "  </thead>\n",
       "  <tbody>\n",
       "    <tr>\n",
       "      <th>Obesity_Type_I</th>\n",
       "      <td>337</td>\n",
       "      <td>15.80</td>\n",
       "    </tr>\n",
       "    <tr>\n",
       "      <th>Obesity_Type_III</th>\n",
       "      <td>314</td>\n",
       "      <td>14.72</td>\n",
       "    </tr>\n",
       "    <tr>\n",
       "      <th>Obesity_Type_II</th>\n",
       "      <td>287</td>\n",
       "      <td>13.46</td>\n",
       "    </tr>\n",
       "    <tr>\n",
       "      <th>Overweight_Level_I</th>\n",
       "      <td>285</td>\n",
       "      <td>13.36</td>\n",
       "    </tr>\n",
       "    <tr>\n",
       "      <th>Overweight_Level_II</th>\n",
       "      <td>280</td>\n",
       "      <td>13.13</td>\n",
       "    </tr>\n",
       "    <tr>\n",
       "      <th>Normal_Weight</th>\n",
       "      <td>271</td>\n",
       "      <td>12.71</td>\n",
       "    </tr>\n",
       "    <tr>\n",
       "      <th>Insufficient_Weight</th>\n",
       "      <td>261</td>\n",
       "      <td>12.24</td>\n",
       "    </tr>\n",
       "    <tr>\n",
       "      <th>nORMAL_wEIGHT</th>\n",
       "      <td>17</td>\n",
       "      <td>0.80</td>\n",
       "    </tr>\n",
       "    <tr>\n",
       "      <th>oBESITY_tYPE_i</th>\n",
       "      <td>16</td>\n",
       "      <td>0.75</td>\n",
       "    </tr>\n",
       "    <tr>\n",
       "      <th>oBESITY_tYPE_ii</th>\n",
       "      <td>16</td>\n",
       "      <td>0.75</td>\n",
       "    </tr>\n",
       "    <tr>\n",
       "      <th>oVERWEIGHT_lEVEL_i</th>\n",
       "      <td>12</td>\n",
       "      <td>0.56</td>\n",
       "    </tr>\n",
       "    <tr>\n",
       "      <th>oBESITY_tYPE_iii</th>\n",
       "      <td>12</td>\n",
       "      <td>0.56</td>\n",
       "    </tr>\n",
       "    <tr>\n",
       "      <th>oVERWEIGHT_lEVEL_ii</th>\n",
       "      <td>12</td>\n",
       "      <td>0.56</td>\n",
       "    </tr>\n",
       "    <tr>\n",
       "      <th>iNSUFFICIENT_wEIGHT</th>\n",
       "      <td>11</td>\n",
       "      <td>0.52</td>\n",
       "    </tr>\n",
       "    <tr>\n",
       "      <th>NAN</th>\n",
       "      <td>2</td>\n",
       "      <td>0.09</td>\n",
       "    </tr>\n",
       "  </tbody>\n",
       "</table>\n",
       "</div>"
      ],
      "text/plain": [
       "                       Frecuencia  Porcentaje (%)\n",
       "NObeyesdad                                       \n",
       "Obesity_Type_I                337           15.80\n",
       "Obesity_Type_III              314           14.72\n",
       "Obesity_Type_II               287           13.46\n",
       "Overweight_Level_I            285           13.36\n",
       "Overweight_Level_II           280           13.13\n",
       "Normal_Weight                 271           12.71\n",
       "Insufficient_Weight           261           12.24\n",
       " nORMAL_wEIGHT                 17            0.80\n",
       " oBESITY_tYPE_i                16            0.75\n",
       " oBESITY_tYPE_ii               16            0.75\n",
       " oVERWEIGHT_lEVEL_i            12            0.56\n",
       " oBESITY_tYPE_iii              12            0.56\n",
       " oVERWEIGHT_lEVEL_ii           12            0.56\n",
       " iNSUFFICIENT_wEIGHT           11            0.52\n",
       " NAN                            2            0.09"
      ]
     },
     "metadata": {},
     "output_type": "display_data"
    }
   ],
   "source": [
    "# Ejecutar la función para generar listas con las variables numericas, categoricas y objetivo\n",
    "variables_numericas, variables_categoricas, variable_objetivo = crear_listas_variables()\n",
    "\n",
    "# Ejecutar la función para generar un resumen de dataset\n",
    "resumen_eda(df, variables_numericas, variables_categoricas, variable_objetivo)"
   ]
  }
 ],
 "metadata": {
  "kernelspec": {
   "display_name": "Python 3",
   "language": "python",
   "name": "python3"
  },
  "language_info": {
   "codemirror_mode": {
    "name": "ipython",
    "version": 3
   },
   "file_extension": ".py",
   "mimetype": "text/x-python",
   "name": "python",
   "nbconvert_exporter": "python",
   "pygments_lexer": "ipython3",
   "version": "3.13.8"
  }
 },
 "nbformat": 4,
 "nbformat_minor": 5
}
