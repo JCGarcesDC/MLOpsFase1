{
 "cells": [
  {
   "cell_type": "markdown",
   "id": "bd20198d",
   "metadata": {},
   "source": [
    "# **Ingeniería de Características (Feature Engineering)**\n",
    "\n",
    "Crearemos nuevas variables a partir de las existentes para potenciar la capacidad predictiva del modelo. La creación del Índice de Masa Corporal (IMC) es un ejemplo perfecto."
   ]
  },
  {
   "cell_type": "markdown",
   "id": "8370357d",
   "metadata": {},
   "source": [
    "# 1.- **Importar librerias**"
   ]
  },
  {
   "cell_type": "code",
   "execution_count": 1,
   "id": "6cbe7668",
   "metadata": {},
   "outputs": [
    {
     "name": "stdout",
     "output_type": "stream",
     "text": [
      "d:\\OneDrive\\Escritorio\\Maestria IA\\Trimestre 4\\MLOps\\Git_Local\\ObesityMine53\n",
      "Funciones importadas exitosamente desde src/\n"
     ]
    }
   ],
   "source": [
    "# Importar librerías estándar\n",
    "import sys\n",
    "import os\n",
    "\n",
    "# 2. Configurar la ruta para que Python encuentre el código en 'src'. Esto añade la carpeta raíz del proyecto al sys.path\n",
    "ruta_raiz_proyecto = os.path.abspath(os.path.join(os.getcwd(), '../../'))\n",
    "sys.path.append(ruta_raiz_proyecto)\n",
    "\n",
    "# 3. Importar las funciones directamente.\n",
    "from src.cargar_analisis import cargar_dataframe, crear_listas_variables\n",
    "from src.feature_engeenering import calcular_imc\n",
    "from src.limpieza import guardar_dataframe\n",
    "\n",
    "print(ruta_raiz_proyecto)\n",
    "print(\"Funciones importadas exitosamente desde src/\")"
   ]
  },
  {
   "cell_type": "markdown",
   "id": "16f0f1a3",
   "metadata": {},
   "source": [
    "# **2.- Importar datos**"
   ]
  },
  {
   "cell_type": "code",
   "execution_count": 2,
   "id": "73a4dc8a",
   "metadata": {},
   "outputs": [
    {
     "name": "stdout",
     "output_type": "stream",
     "text": [
      "Archivo CSV cargado exitosamente desde: ../../data/obesity_estimation_cleaned.csv\n"
     ]
    }
   ],
   "source": [
    "# Ruta de la base de datos\n",
    "path_data = '../../data/obesity_estimation_cleaned.csv'\n",
    "\n",
    "# Ejecutar función para cargar datos\n",
    "df = cargar_dataframe(path_data)\n",
    "\n",
    "# Ejecutar la función para generar listas con las variables numericas, categoricas y objetivo\n",
    "variables_numericas, variables_categoricas, variable_objetivo = crear_listas_variables(to_lower = 1, exclude_mixed = 1)"
   ]
  },
  {
   "cell_type": "markdown",
   "id": "c424b54e",
   "metadata": {},
   "source": [
    "# **3.- Ingeniería de Características (Feature Engineering)**"
   ]
  },
  {
   "cell_type": "code",
   "execution_count": 3,
   "id": "917711af",
   "metadata": {},
   "outputs": [
    {
     "name": "stdout",
     "output_type": "stream",
     "text": [
      "Columna 'imc' creada exitosamente.\n"
     ]
    },
    {
     "data": {
      "text/html": [
       "<div>\n",
       "<style scoped>\n",
       "    .dataframe tbody tr th:only-of-type {\n",
       "        vertical-align: middle;\n",
       "    }\n",
       "\n",
       "    .dataframe tbody tr th {\n",
       "        vertical-align: top;\n",
       "    }\n",
       "\n",
       "    .dataframe thead th {\n",
       "        text-align: right;\n",
       "    }\n",
       "</style>\n",
       "<table border=\"1\" class=\"dataframe\">\n",
       "  <thead>\n",
       "    <tr style=\"text-align: right;\">\n",
       "      <th></th>\n",
       "      <th>gender</th>\n",
       "      <th>age</th>\n",
       "      <th>height</th>\n",
       "      <th>weight</th>\n",
       "      <th>family_history_with_overweight</th>\n",
       "      <th>favc</th>\n",
       "      <th>fcvc</th>\n",
       "      <th>ncp</th>\n",
       "      <th>caec</th>\n",
       "      <th>smoke</th>\n",
       "      <th>ch2o</th>\n",
       "      <th>scc</th>\n",
       "      <th>faf</th>\n",
       "      <th>tue</th>\n",
       "      <th>calc</th>\n",
       "      <th>mtrans</th>\n",
       "      <th>nobeyesdad</th>\n",
       "      <th>imc</th>\n",
       "    </tr>\n",
       "  </thead>\n",
       "  <tbody>\n",
       "    <tr>\n",
       "      <th>0</th>\n",
       "      <td>female</td>\n",
       "      <td>21.0</td>\n",
       "      <td>1.62</td>\n",
       "      <td>64.0</td>\n",
       "      <td>yes</td>\n",
       "      <td>no</td>\n",
       "      <td>2.0</td>\n",
       "      <td>3.0</td>\n",
       "      <td>sometimes</td>\n",
       "      <td>no</td>\n",
       "      <td>2.0</td>\n",
       "      <td>no</td>\n",
       "      <td>0.0</td>\n",
       "      <td>1.0</td>\n",
       "      <td>no</td>\n",
       "      <td>public_transportation</td>\n",
       "      <td>1</td>\n",
       "      <td>24.386526</td>\n",
       "    </tr>\n",
       "    <tr>\n",
       "      <th>1</th>\n",
       "      <td>female</td>\n",
       "      <td>21.0</td>\n",
       "      <td>1.52</td>\n",
       "      <td>56.0</td>\n",
       "      <td>yes</td>\n",
       "      <td>no</td>\n",
       "      <td>3.0</td>\n",
       "      <td>3.0</td>\n",
       "      <td>sometimes</td>\n",
       "      <td>yes</td>\n",
       "      <td>3.0</td>\n",
       "      <td>yes</td>\n",
       "      <td>3.0</td>\n",
       "      <td>0.0</td>\n",
       "      <td>sometimes</td>\n",
       "      <td>public_transportation</td>\n",
       "      <td>1</td>\n",
       "      <td>24.238227</td>\n",
       "    </tr>\n",
       "    <tr>\n",
       "      <th>2</th>\n",
       "      <td>male</td>\n",
       "      <td>23.0</td>\n",
       "      <td>1.80</td>\n",
       "      <td>77.0</td>\n",
       "      <td>yes</td>\n",
       "      <td>no</td>\n",
       "      <td>2.0</td>\n",
       "      <td>3.0</td>\n",
       "      <td>sometimes</td>\n",
       "      <td>no</td>\n",
       "      <td>2.0</td>\n",
       "      <td>no</td>\n",
       "      <td>2.0</td>\n",
       "      <td>1.0</td>\n",
       "      <td>frequently</td>\n",
       "      <td>public_transportation</td>\n",
       "      <td>1</td>\n",
       "      <td>23.765432</td>\n",
       "    </tr>\n",
       "    <tr>\n",
       "      <th>3</th>\n",
       "      <td>male</td>\n",
       "      <td>27.0</td>\n",
       "      <td>1.80</td>\n",
       "      <td>87.0</td>\n",
       "      <td>no</td>\n",
       "      <td>no</td>\n",
       "      <td>3.0</td>\n",
       "      <td>3.0</td>\n",
       "      <td>sometimes</td>\n",
       "      <td>no</td>\n",
       "      <td>2.0</td>\n",
       "      <td>no</td>\n",
       "      <td>2.0</td>\n",
       "      <td>0.0</td>\n",
       "      <td>frequently</td>\n",
       "      <td>walking</td>\n",
       "      <td>2</td>\n",
       "      <td>26.851852</td>\n",
       "    </tr>\n",
       "    <tr>\n",
       "      <th>4</th>\n",
       "      <td>male</td>\n",
       "      <td>22.0</td>\n",
       "      <td>1.78</td>\n",
       "      <td>89.8</td>\n",
       "      <td>no</td>\n",
       "      <td>no</td>\n",
       "      <td>2.0</td>\n",
       "      <td>1.0</td>\n",
       "      <td>sometimes</td>\n",
       "      <td>no</td>\n",
       "      <td>2.0</td>\n",
       "      <td>no</td>\n",
       "      <td>0.0</td>\n",
       "      <td>0.0</td>\n",
       "      <td>sometimes</td>\n",
       "      <td>public_transportation</td>\n",
       "      <td>3</td>\n",
       "      <td>28.342381</td>\n",
       "    </tr>\n",
       "  </tbody>\n",
       "</table>\n",
       "</div>"
      ],
      "text/plain": [
       "   gender   age  height  weight family_history_with_overweight favc  fcvc  \\\n",
       "0  female  21.0    1.62    64.0                            yes   no   2.0   \n",
       "1  female  21.0    1.52    56.0                            yes   no   3.0   \n",
       "2    male  23.0    1.80    77.0                            yes   no   2.0   \n",
       "3    male  27.0    1.80    87.0                             no   no   3.0   \n",
       "4    male  22.0    1.78    89.8                             no   no   2.0   \n",
       "\n",
       "   ncp       caec smoke  ch2o  scc  faf  tue        calc  \\\n",
       "0  3.0  sometimes    no   2.0   no  0.0  1.0          no   \n",
       "1  3.0  sometimes   yes   3.0  yes  3.0  0.0   sometimes   \n",
       "2  3.0  sometimes    no   2.0   no  2.0  1.0  frequently   \n",
       "3  3.0  sometimes    no   2.0   no  2.0  0.0  frequently   \n",
       "4  1.0  sometimes    no   2.0   no  0.0  0.0   sometimes   \n",
       "\n",
       "                  mtrans  nobeyesdad        imc  \n",
       "0  public_transportation           1  24.386526  \n",
       "1  public_transportation           1  24.238227  \n",
       "2  public_transportation           1  23.765432  \n",
       "3                walking           2  26.851852  \n",
       "4  public_transportation           3  28.342381  "
      ]
     },
     "execution_count": 3,
     "metadata": {},
     "output_type": "execute_result"
    }
   ],
   "source": [
    "# Llama a la función\n",
    "df_modelo = calcular_imc(df)\n",
    "df_modelo.head()"
   ]
  },
  {
   "cell_type": "markdown",
   "id": "b50ad728",
   "metadata": {},
   "source": [
    "# **4.- Guardar los Resultados**"
   ]
  },
  {
   "cell_type": "code",
   "execution_count": 4,
   "id": "8c2e03b8",
   "metadata": {},
   "outputs": [
    {
     "name": "stdout",
     "output_type": "stream",
     "text": [
      "DataFrame guardado exitosamente en: ../../data/obesity_estimation_model.csv\n",
      "Verificación local: El archivo se ha creado correctamente.\n",
      "\n",
      "Proceso de guardado finalizado con éxito.\n"
     ]
    }
   ],
   "source": [
    "# Llamar a la función para guardar resultados\n",
    "nombre_archivo = 'obesity_estimation_model.csv'\n",
    "ruta_destino = '../../data/'\n",
    "\n",
    "guardado_exitoso = guardar_dataframe(\n",
    "    df=df_modelo,\n",
    "    file_name=nombre_archivo,\n",
    "    destination_path=ruta_destino\n",
    ")\n",
    "\n",
    "# Resultado\n",
    "if guardado_exitoso:\n",
    "    print(\"\\nProceso de guardado finalizado con éxito.\")\n",
    "else:\n",
    "    print(\"\\nProceso de guardado fallido. Revisar la ruta destino.\")"
   ]
  }
 ],
 "metadata": {
  "kernelspec": {
   "display_name": "obesitymine",
   "language": "python",
   "name": "python3"
  },
  "language_info": {
   "codemirror_mode": {
    "name": "ipython",
    "version": 3
   },
   "file_extension": ".py",
   "mimetype": "text/x-python",
   "name": "python",
   "nbconvert_exporter": "python",
   "pygments_lexer": "ipython3",
   "version": "3.11.13"
  }
 },
 "nbformat": 4,
 "nbformat_minor": 5
}
