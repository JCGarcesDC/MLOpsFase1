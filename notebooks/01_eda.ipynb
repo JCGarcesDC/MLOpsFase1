{
 "cells": [
  {
   "cell_type": "markdown",
   "metadata": {
    "id": "_jl6-3tTiDM9"
   },
   "source": [
    "### Descripción del problema\n",
    "\n",
    "El dataset \"Estimation of Obesity Levels Based On Eating Habits and Physical Condition\" contiene datos de individuos de México, Perú y Colombia, con atributos relacionados a hábitos alimenticios, condición física y estilo de vida. El objetivo es predecir el nivel de obesidad de una persona, clasificado en siete categorías: Insufficient Weight, Normal Weight, Overweight I/II, Obesity I/II/III.\n",
    "\n",
    "### Propuesta de valor\n",
    "\n",
    "Desarrollar un modelo de clasificación que permita identificar el nivel de obesidad de un individuo a partir de sus hábitos y características físicas. Esto puede ser útil para sistemas de recomendación, monitoreo de salud preventiva y campañas de concientización.\n",
    "\n",
    "### Herramienta de documentación\n",
    "\n",
    "Se recomienda usar [MLCanvas](https://mlcanvas.com) para mapear los requerimientos, stakeholders, métricas de éxito y propuesta de solución."
   ]
  },
  {
   "cell_type": "code",
   "execution_count": 1,
   "metadata": {
    "colab": {
     "base_uri": "https://localhost:8080/"
    },
    "collapsed": true,
    "executionInfo": {
     "elapsed": 55017,
     "status": "ok",
     "timestamp": 1759780801890,
     "user": {
      "displayName": "Daniel Olivares González",
      "userId": "12570647271782740487"
     },
     "user_tz": 360
    },
    "id": "Ip19VpP-hvM6",
    "outputId": "8d1d83f1-14a8-4de5-f430-4b1709265cb0"
   },
   "outputs": [
    {
     "name": "stdout",
     "output_type": "stream",
     "text": [
      "Note: you may need to restart the kernel to use updated packages.\n"
     ]
    }
   ],
   "source": [
    "#Sección 1: Instalación de librerías\n",
    "%pip install -q \"dvc[gdrive]\" scikit-learn mlflow seaborn pandas numpy matplotlib\n",
    "\n",
    "import pandas as pd\n",
    "import numpy as np\n",
    "import matplotlib.pyplot as plt\n",
    "import seaborn as sns\n",
    "from sklearn.preprocessing import StandardScaler, LabelEncoder\n",
    "from sklearn.model_selection import train_test_split, GridSearchCV\n",
    "from sklearn.ensemble import RandomForestClassifier\n",
    "from sklearn.metrics import classification_report, confusion_matrix\n",
    "\n",
    "import os as os\n",
    "import mlflow\n",
    "from mlflow.tracking import MlflowClient\n",
    "\n",
    "# Crear carpeta MLOPS en Google Drive\n",
    "#!mkdir -p /content/drive/MyDrive/MLOPS"
   ]
  },
  {
   "cell_type": "code",
   "execution_count": 2,
   "metadata": {},
   "outputs": [
    {
     "name": "stdout",
     "output_type": "stream",
     "text": [
      "Tracking: file:///c:/Users/danie/MLOpsFase1/notebooks/mlruns\n",
      "Registry: http://127.0.0.1:5000\n"
     ]
    }
   ],
   "source": [
    "client = MlflowClient()\n",
    "\n",
    "mlflow.set_tracking_uri(\"http://127.0.0.1:5000\")\n",
    "mlflow.set_experiment(\"MLOPSFASE1-EDA\")  # se crea si no existe\n",
    "\n",
    "#mlflow.start_run()\n",
    "\n",
    "\n",
    "print(\"Tracking:\", client._tracking_client.tracking_uri)\n",
    "print(\"Registry:\", mlflow.get_registry_uri())\n",
    "\n",
    "\n",
    "#python -m mlflow ui --backend-store-uri file:///C:/Users/danie/MLOpsFase1/notebooks/mlruns --port 5000 -----Cambia la ruta a tu entorno local y ejecuta esta linea en una terminal\n"
   ]
  },
  {
   "cell_type": "code",
   "execution_count": 3,
   "metadata": {
    "colab": {
     "base_uri": "https://localhost:8080/",
     "height": 364
    },
    "executionInfo": {
     "elapsed": 31,
     "status": "error",
     "timestamp": 1759780913971,
     "user": {
      "displayName": "Daniel Olivares González",
      "userId": "12570647271782740487"
     },
     "user_tz": 360
    },
    "id": "M0wjlo5pi2ze",
    "outputId": "32acd41f-5421-4183-9465-b95e39c0c0ac"
   },
   "outputs": [
    {
     "name": "stdout",
     "output_type": "stream",
     "text": [
      "Información inicial del dataset:\n",
      "<class 'pandas.core.frame.DataFrame'>\n",
      "RangeIndex: 2153 entries, 0 to 2152\n",
      "Data columns (total 18 columns):\n",
      " #   Column                          Non-Null Count  Dtype  \n",
      "---  ------                          --------------  -----  \n",
      " 0   Gender                          2135 non-null   object \n",
      " 1   Age                             2119 non-null   float64\n",
      " 2   Height                          2111 non-null   float64\n",
      " 3   Weight                          2127 non-null   float64\n",
      " 4   family_history_with_overweight  2133 non-null   object \n",
      " 5   FAVC                            2137 non-null   object \n",
      " 6   FCVC                            2136 non-null   object \n",
      " 7   NCP                             2129 non-null   object \n",
      " 8   CAEC                            2131 non-null   object \n",
      " 9   SMOKE                           2134 non-null   object \n",
      " 10  CH2O                            2124 non-null   object \n",
      " 11  SCC                             2138 non-null   object \n",
      " 12  FAF                             2124 non-null   object \n",
      " 13  TUE                             2120 non-null   object \n",
      " 14  CALC                            2130 non-null   object \n",
      " 15  MTRANS                          2130 non-null   object \n",
      " 16  NObeyesdad                      2133 non-null   object \n",
      " 17  mixed_type_col                  1912 non-null   object \n",
      "dtypes: float64(3), object(15)\n",
      "memory usage: 302.9+ KB\n",
      "None\n"
     ]
    },
    {
     "data": {
      "text/html": [
       "<div>\n",
       "<style scoped>\n",
       "    .dataframe tbody tr th:only-of-type {\n",
       "        vertical-align: middle;\n",
       "    }\n",
       "\n",
       "    .dataframe tbody tr th {\n",
       "        vertical-align: top;\n",
       "    }\n",
       "\n",
       "    .dataframe thead th {\n",
       "        text-align: right;\n",
       "    }\n",
       "</style>\n",
       "<table border=\"1\" class=\"dataframe\">\n",
       "  <thead>\n",
       "    <tr style=\"text-align: right;\">\n",
       "      <th></th>\n",
       "      <th>Gender</th>\n",
       "      <th>Age</th>\n",
       "      <th>Height</th>\n",
       "      <th>Weight</th>\n",
       "      <th>family_history_with_overweight</th>\n",
       "      <th>FAVC</th>\n",
       "      <th>FCVC</th>\n",
       "      <th>NCP</th>\n",
       "      <th>CAEC</th>\n",
       "      <th>SMOKE</th>\n",
       "      <th>CH2O</th>\n",
       "      <th>SCC</th>\n",
       "      <th>FAF</th>\n",
       "      <th>TUE</th>\n",
       "      <th>CALC</th>\n",
       "      <th>MTRANS</th>\n",
       "      <th>NObeyesdad</th>\n",
       "      <th>mixed_type_col</th>\n",
       "    </tr>\n",
       "  </thead>\n",
       "  <tbody>\n",
       "    <tr>\n",
       "      <th>0</th>\n",
       "      <td>Female</td>\n",
       "      <td>21.0</td>\n",
       "      <td>1.62</td>\n",
       "      <td>64.0</td>\n",
       "      <td>yes</td>\n",
       "      <td>no</td>\n",
       "      <td>2.0</td>\n",
       "      <td>3.0</td>\n",
       "      <td>Sometimes</td>\n",
       "      <td>no</td>\n",
       "      <td>2.0</td>\n",
       "      <td>no</td>\n",
       "      <td>0.0</td>\n",
       "      <td>1.0</td>\n",
       "      <td>NO</td>\n",
       "      <td>Public_Transportation</td>\n",
       "      <td>Normal_Weight</td>\n",
       "      <td>bad</td>\n",
       "    </tr>\n",
       "    <tr>\n",
       "      <th>1</th>\n",
       "      <td>Female</td>\n",
       "      <td>21.0</td>\n",
       "      <td>1.52</td>\n",
       "      <td>56.0</td>\n",
       "      <td>yes</td>\n",
       "      <td>no</td>\n",
       "      <td>3.0</td>\n",
       "      <td>3.0</td>\n",
       "      <td>Sometimes</td>\n",
       "      <td>yes</td>\n",
       "      <td>3.0</td>\n",
       "      <td>yes</td>\n",
       "      <td>3.0</td>\n",
       "      <td>0.0</td>\n",
       "      <td>Sometimes</td>\n",
       "      <td>Public_Transportation</td>\n",
       "      <td>nORMAL_wEIGHT</td>\n",
       "      <td>NaN</td>\n",
       "    </tr>\n",
       "    <tr>\n",
       "      <th>2</th>\n",
       "      <td>Male</td>\n",
       "      <td>23.0</td>\n",
       "      <td>1.80</td>\n",
       "      <td>77.0</td>\n",
       "      <td>yes</td>\n",
       "      <td>no</td>\n",
       "      <td>2.0</td>\n",
       "      <td>3.0</td>\n",
       "      <td>Sometimes</td>\n",
       "      <td>no</td>\n",
       "      <td>2.0</td>\n",
       "      <td>no</td>\n",
       "      <td>2.0</td>\n",
       "      <td>1.0</td>\n",
       "      <td>Frequently</td>\n",
       "      <td>Public_Transportation</td>\n",
       "      <td>Normal_Weight</td>\n",
       "      <td>208</td>\n",
       "    </tr>\n",
       "    <tr>\n",
       "      <th>3</th>\n",
       "      <td>Male</td>\n",
       "      <td>27.0</td>\n",
       "      <td>1.80</td>\n",
       "      <td>87.0</td>\n",
       "      <td>no</td>\n",
       "      <td>no</td>\n",
       "      <td>3.0</td>\n",
       "      <td>3.0</td>\n",
       "      <td>Sometimes</td>\n",
       "      <td>no</td>\n",
       "      <td>2.0</td>\n",
       "      <td>no</td>\n",
       "      <td>2.0</td>\n",
       "      <td>0.0</td>\n",
       "      <td>Frequently</td>\n",
       "      <td>Walking</td>\n",
       "      <td>oVERWEIGHT_lEVEL_i</td>\n",
       "      <td>585</td>\n",
       "    </tr>\n",
       "    <tr>\n",
       "      <th>4</th>\n",
       "      <td>Male</td>\n",
       "      <td>22.0</td>\n",
       "      <td>1.78</td>\n",
       "      <td>89.8</td>\n",
       "      <td>no</td>\n",
       "      <td>no</td>\n",
       "      <td>2.0</td>\n",
       "      <td>1.0</td>\n",
       "      <td>Sometimes</td>\n",
       "      <td>no</td>\n",
       "      <td>2.0</td>\n",
       "      <td>no</td>\n",
       "      <td>0.0</td>\n",
       "      <td>0.0</td>\n",
       "      <td>Sometimes</td>\n",
       "      <td>Public_Transportation</td>\n",
       "      <td>Overweight_Level_II</td>\n",
       "      <td>200</td>\n",
       "    </tr>\n",
       "  </tbody>\n",
       "</table>\n",
       "</div>"
      ],
      "text/plain": [
       "   Gender   Age  Height  Weight family_history_with_overweight FAVC FCVC  NCP  \\\n",
       "0  Female  21.0    1.62    64.0                            yes   no  2.0  3.0   \n",
       "1  Female  21.0    1.52    56.0                            yes   no  3.0  3.0   \n",
       "2    Male  23.0    1.80    77.0                            yes   no  2.0  3.0   \n",
       "3    Male  27.0    1.80    87.0                             no   no  3.0  3.0   \n",
       "4    Male  22.0    1.78    89.8                             no   no  2.0  1.0   \n",
       "\n",
       "        CAEC SMOKE CH2O  SCC    FAF    TUE        CALC                 MTRANS  \\\n",
       "0  Sometimes    no  2.0   no    0.0    1.0         NO   Public_Transportation   \n",
       "1  Sometimes   yes  3.0  yes   3.0    0.0    Sometimes  Public_Transportation   \n",
       "2  Sometimes    no  2.0   no    2.0    1.0  Frequently  Public_Transportation   \n",
       "3  Sometimes    no  2.0   no    2.0    0.0  Frequently                Walking   \n",
       "4  Sometimes    no  2.0   no   0.0    0.0    Sometimes  Public_Transportation   \n",
       "\n",
       "             NObeyesdad mixed_type_col  \n",
       "0         Normal_Weight            bad  \n",
       "1        nORMAL_wEIGHT             NaN  \n",
       "2         Normal_Weight            208  \n",
       "3   oVERWEIGHT_lEVEL_i             585  \n",
       "4   Overweight_Level_II            200  "
      ]
     },
     "metadata": {},
     "output_type": "display_data"
    },
    {
     "data": {
      "text/html": [
       "<div>\n",
       "<style scoped>\n",
       "    .dataframe tbody tr th:only-of-type {\n",
       "        vertical-align: middle;\n",
       "    }\n",
       "\n",
       "    .dataframe tbody tr th {\n",
       "        vertical-align: top;\n",
       "    }\n",
       "\n",
       "    .dataframe thead th {\n",
       "        text-align: right;\n",
       "    }\n",
       "</style>\n",
       "<table border=\"1\" class=\"dataframe\">\n",
       "  <thead>\n",
       "    <tr style=\"text-align: right;\">\n",
       "      <th></th>\n",
       "      <th>Age</th>\n",
       "      <th>Height</th>\n",
       "      <th>Weight</th>\n",
       "    </tr>\n",
       "  </thead>\n",
       "  <tbody>\n",
       "    <tr>\n",
       "      <th>count</th>\n",
       "      <td>2119.000000</td>\n",
       "      <td>2111.000000</td>\n",
       "      <td>2127.000000</td>\n",
       "    </tr>\n",
       "    <tr>\n",
       "      <th>mean</th>\n",
       "      <td>32.080940</td>\n",
       "      <td>4.655255</td>\n",
       "      <td>106.538946</td>\n",
       "    </tr>\n",
       "    <tr>\n",
       "      <th>std</th>\n",
       "      <td>102.375556</td>\n",
       "      <td>38.399377</td>\n",
       "      <td>300.509499</td>\n",
       "    </tr>\n",
       "    <tr>\n",
       "      <th>min</th>\n",
       "      <td>14.000000</td>\n",
       "      <td>1.450000</td>\n",
       "      <td>39.000000</td>\n",
       "    </tr>\n",
       "    <tr>\n",
       "      <th>25%</th>\n",
       "      <td>20.000000</td>\n",
       "      <td>1.630368</td>\n",
       "      <td>66.000000</td>\n",
       "    </tr>\n",
       "    <tr>\n",
       "      <th>50%</th>\n",
       "      <td>22.851773</td>\n",
       "      <td>1.703584</td>\n",
       "      <td>83.325800</td>\n",
       "    </tr>\n",
       "    <tr>\n",
       "      <th>75%</th>\n",
       "      <td>26.000000</td>\n",
       "      <td>1.771827</td>\n",
       "      <td>108.355733</td>\n",
       "    </tr>\n",
       "    <tr>\n",
       "      <th>max</th>\n",
       "      <td>2220.274371</td>\n",
       "      <td>827.641784</td>\n",
       "      <td>6408.000000</td>\n",
       "    </tr>\n",
       "  </tbody>\n",
       "</table>\n",
       "</div>"
      ],
      "text/plain": [
       "               Age       Height       Weight\n",
       "count  2119.000000  2111.000000  2127.000000\n",
       "mean     32.080940     4.655255   106.538946\n",
       "std     102.375556    38.399377   300.509499\n",
       "min      14.000000     1.450000    39.000000\n",
       "25%      20.000000     1.630368    66.000000\n",
       "50%      22.851773     1.703584    83.325800\n",
       "75%      26.000000     1.771827   108.355733\n",
       "max    2220.274371   827.641784  6408.000000"
      ]
     },
     "metadata": {},
     "output_type": "display_data"
    }
   ],
   "source": [
    "#Sección 2: Carga y exploración inicial\n",
    "df = pd.read_csv('../src/mlops/data/obesity_estimation_modified.csv')\n",
    "\n",
    "# Forzar numéricos\n",
    "df['Age'] = pd.to_numeric(df['Age'], errors='coerce')\n",
    "df['Height'] = pd.to_numeric(df['Height'], errors='coerce')\n",
    "df['Weight'] = pd.to_numeric(df['Weight'], errors='coerce')\n",
    "\n",
    "# Vista general\n",
    "print(\"Información inicial del dataset:\")\n",
    "print(df.info())\n",
    "display(df.head())\n",
    "display(df.describe(include=np.number))"
   ]
  },
  {
   "cell_type": "code",
   "execution_count": 4,
   "metadata": {
    "colab": {
     "base_uri": "https://localhost:8080/"
    },
    "id": "-2GvNIKjjEGA",
    "outputId": "b44c0549-a7e8-4559-cf61-766335222745"
   },
   "outputs": [
    {
     "name": "stdout",
     "output_type": "stream",
     "text": [
      "\n",
      "Valores nulos por columna:\n",
      "gender                             18\n",
      "age                                34\n",
      "height                             42\n",
      "weight                             26\n",
      "family_history_with_overweight     20\n",
      "favc                               16\n",
      "fcvc                               17\n",
      "ncp                                24\n",
      "caec                               22\n",
      "smoke                              19\n",
      "ch2o                               29\n",
      "scc                                15\n",
      "faf                                29\n",
      "tue                                33\n",
      "calc                               23\n",
      "mtrans                             23\n",
      "nobeyesdad                         20\n",
      "mixed_type_col                    241\n",
      "dtype: int64\n"
     ]
    }
   ],
   "source": [
    "#Sección 3: Limpieza de datos\n",
    "# Estandarizar nombres\n",
    "df.columns = df.columns.str.strip().str.replace(' ', '_').str.lower()\n",
    "\n",
    "# Normalizar categorías\n",
    "for col in ['nobeyesdad', 'calc', 'caec', 'mtrans']:\n",
    "    df[col] = df[col].str.strip().str.replace(' ', '_').str.lower()\n",
    "\n",
    "# Valores nulos\n",
    "print(\"\\nValores nulos por columna:\")\n",
    "print(df.isnull().sum())\n",
    "\n",
    "# Eliminar registros inválidos\n",
    "df.dropna(inplace=True)"
   ]
  },
  {
   "cell_type": "code",
   "execution_count": 5,
   "metadata": {
    "colab": {
     "base_uri": "https://localhost:8080/",
     "height": 522
    },
    "id": "UpCMHD9VjHxx",
    "outputId": "56ca790f-2bc9-48f7-ae02-c33c7cd3e464"
   },
   "outputs": [
    {
     "data": {
      "image/png": "[encoded data removed]",
      "text/plain": [
       "<Figure size 1200x500 with 2 Axes>"
      ]
     },
     "metadata": {},
     "output_type": "display_data"
    },
    {
     "name": "stdout",
     "output_type": "stream",
     "text": [
      "\n",
      "Shape final después de limpiar outliers: (1539, 18)\n"
     ]
    }
   ],
   "source": [
    "#Sección 4: Manejo de outliers\n",
    "# Visualización\n",
    "fig, axes = plt.subplots(1, 2, figsize=(12, 5))\n",
    "sns.boxplot(x='height', data=df, ax=axes[0]).set_title('Height')\n",
    "sns.boxplot(x='weight', data=df, ax=axes[1]).set_title('Weight')\n",
    "plt.show()\n",
    "\n",
    "# Filtrado por IQR\n",
    "for col in ['height', 'weight']:\n",
    "    Q1 = df[col].quantile(0.25)\n",
    "    Q3 = df[col].quantile(0.75)\n",
    "    IQR = Q3 - Q1\n",
    "    lower = Q1 - 1.5 * IQR\n",
    "    upper = Q3 + 1.5 * IQR\n",
    "    df = df[(df[col] >= lower) & (df[col] <= upper)]\n",
    "\n",
    "print(\"\\nShape final después de limpiar outliers:\", df.shape)"
   ]
  },
  {
   "cell_type": "code",
   "execution_count": 6,
   "metadata": {},
   "outputs": [],
   "source": [
    "#Eliminar registros con edad menor a 0 y amyor a 100\n",
    "df = df[(df['age'] >= 0) & (df['age'] <= 100)]"
   ]
  },
  {
   "cell_type": "code",
   "execution_count": 7,
   "metadata": {
    "id": "hMLujRERjLtf"
   },
   "outputs": [],
   "source": [
    "#Sección 5: Preprocesamiento\n",
    "\n",
    "# Codificación de variables categóricas\n",
    "label_cols = df.select_dtypes(include='object').columns\n",
    "le = LabelEncoder()\n",
    "for col in label_cols:\n",
    "    df[col] = le.fit_transform(df[col])\n",
    "\n",
    "# Normalización\n",
    "scaler = StandardScaler()\n",
    "df[['age', 'height', 'weight']] = scaler.fit_transform(df[['age', 'height', 'weight']])\n",
    "\n",
    "# Separar features y target\n",
    "X = df.drop('nobeyesdad', axis=1)\n",
    "y = df['nobeyesdad']\n",
    "\n",
    "# División de datos\n",
    "X_train, X_test, y_train, y_test = train_test_split(X, y, test_size=0.2, random_state=42)"
   ]
  },
  {
   "cell_type": "code",
   "execution_count": 8,
   "metadata": {
    "colab": {
     "base_uri": "https://localhost:8080/"
    },
    "id": "kh83hXYhjPIG",
    "outputId": "a799899c-35d5-406f-958c-f33ee76d637b"
   },
   "outputs": [
    {
     "name": "stdout",
     "output_type": "stream",
     "text": [
      "✅ Dataset limpio guardado como obesity_estimation_cleaned.csv\n"
     ]
    }
   ],
   "source": [
    "#Sección 6: Guardar dataset limpio\n",
    "df.to_csv('../src/mlops/data/obesity_estimation_cleaned.csv', index=False)\n",
    "\n",
    "print(\"✅ Dataset limpio guardado como obesity_estimation_cleaned.csv\")"
   ]
  },
  {
   "cell_type": "code",
   "execution_count": null,
   "metadata": {
    "colab": {
     "base_uri": "https://localhost:8080/"
    },
    "id": "TtDoxxOsjVuo",
    "outputId": "8781e66d-2d67-4f91-8521-143ecb146571"
   },
   "outputs": [],
   "source": [
    "#Sección 7: Versionado con Git y DVC\n",
    "# Inicializar Git y DVC\n",
    "# !git init\n",
    "# !dvc init\n",
    "\n",
    "# Añadir dataset limpio\n",
    "#!dvc add obesity_estimation_cleaned.csv\n",
    "\n",
    "# Configurar identidad\n",
    "# !git config --global user.email \"git email here\"\n",
    "# !git config --global user.name \"git user name \"\n",
    "\n",
    "# Añadir archivos al commit\n",
    "# !git add obesity_estimation_cleaned.csv.dvc .gitignore .dvc\n",
    "# !git add -m \"Agrego codigo en paso 7 para eliminar outliers or edad > 100 y < 0\"\n",
    "\n",
    "# Conectar con GitHub\n",
    "# !git branch -M main\n",
    "# !git remote add origin https://github.com/JCGarcesDC/MLOpsFase1.git\n",
    "\n",
    "\n",
    "# Fusionar cambios remotos si existen\n",
    "# !git pull origin main --allow-unrelated-histories\n",
    "\n",
    "# Subir a GitHub\n",
    "# !git push -u origin main"
   ]
  },
  {
   "cell_type": "code",
   "execution_count": null,
   "metadata": {},
   "outputs": [],
   "source": [
    "#!git remote --v"
   ]
  },
  {
   "cell_type": "code",
   "execution_count": null,
   "metadata": {
    "colab": {
     "base_uri": "https://localhost:8080/"
    },
    "id": "15Y6-io8lX24",
    "outputId": "ec9a46d3-f0b8-413e-9817-0d198b9741e2"
   },
   "outputs": [],
   "source": [
    "# Configurar estrategia de merge por defecto\n",
    "#!git config pull.rebase false\n",
    "\n",
    "# Hacer pull para traer los cambios remotos y fusionarlos\n",
    "#!git pull origin main --allow-unrelated-histories\n",
    "\n",
    "# Añadir archivos al commit\n",
    "#!git add obesity_estimation_cleaned.csv.dvc .gitignore .dvc\n",
    "\n",
    "# Hacer commit\n",
    "#!git commit -m \"Sincronizar cambios locales con rama remota\"\n",
    "\n",
    "# Subir a GitHub\n",
    "#!git push -u origin main"
   ]
  },
  {
   "cell_type": "code",
   "execution_count": 9,
   "metadata": {
    "colab": {
     "base_uri": "https://localhost:8080/",
     "height": 732
    },
    "id": "rIOhRNjpjsGU",
    "outputId": "5f21caea-7e67-4f84-e812-ba110f9a7caa"
   },
   "outputs": [
    {
     "name": "stdout",
     "output_type": "stream",
     "text": [
      "🔍 Reporte de clasificación:\n",
      "              precision    recall  f1-score   support\n",
      "\n",
      "           0       0.97      0.95      0.96        37\n",
      "           2       0.78      0.89      0.83        36\n",
      "           3       0.97      0.96      0.96        67\n",
      "           4       0.98      0.98      0.98        46\n",
      "           5       1.00      1.00      1.00        41\n",
      "           6       0.88      0.83      0.85        35\n",
      "           7       0.95      0.93      0.94        43\n",
      "\n",
      "    accuracy                           0.94       305\n",
      "   macro avg       0.93      0.93      0.93       305\n",
      "weighted avg       0.94      0.94      0.94       305\n",
      "\n"
     ]
    },
    {
     "data": {
      "image/png": "[encoded data removed]",
      "text/plain": [
       "<Figure size 640x480 with 2 Axes>"
      ]
     },
     "metadata": {},
     "output_type": "display_data"
    }
   ],
   "source": [
    "#Sección 8: Construcción y evaluación de modelos\n",
    "# Modelo base: Random Forest\n",
    "model = RandomForestClassifier(random_state=42)\n",
    "model.fit(X_train, y_train)\n",
    "\n",
    "# Predicción\n",
    "y_pred = model.predict(X_test)\n",
    "\n",
    "# Evaluación\n",
    "print(\"🔍 Reporte de clasificación:\")\n",
    "print(classification_report(y_test, y_pred))\n",
    "\n",
    "# Matriz de confusión\n",
    "sns.heatmap(confusion_matrix(y_test, y_pred), annot=True, fmt='d', cmap='Blues')\n",
    "plt.title(\"Matriz de Confusión\")\n",
    "plt.xlabel(\"Predicción\")\n",
    "plt.ylabel(\"Real\")\n",
    "plt.show()"
   ]
  },
  {
   "cell_type": "code",
   "execution_count": 10,
   "metadata": {
    "id": "AqJmjkUUjvkv"
   },
   "outputs": [
    {
     "name": "stderr",
     "output_type": "stream",
     "text": [
      "c:\\Users\\danie\\anaconda3\\envs\\env-pyspark\\Lib\\site-packages\\sklearn\\model_selection\\_split.py:811: UserWarning: The least populated class in y has only 1 members, which is less than n_splits=3.\n",
      "  warnings.warn(\n"
     ]
    },
    {
     "name": "stdout",
     "output_type": "stream",
     "text": [
      "✅ Mejor modelo: {'max_depth': None, 'min_samples_split': 2, 'n_estimators': 200}\n",
      "🔍 Mejor score: 0.9409451995658893\n"
     ]
    }
   ],
   "source": [
    "#Sección 9: Ajuste de hiperparámetros\n",
    "params = {\n",
    "    'n_estimators': [100, 200],\n",
    "    'max_depth': [None, 10, 20],\n",
    "    'min_samples_split': [2, 5]\n",
    "}\n",
    "\n",
    "#Logeo de los parametros en mlflow\n",
    "mlflow.log_params(params)\n",
    "\n",
    "grid = GridSearchCV(RandomForestClassifier(random_state=42), params, cv=3, scoring='accuracy')\n",
    "grid.fit(X_train, y_train)\n",
    "\n",
    "print(\"✅ Mejor modelo:\", grid.best_params_)\n",
    "print(\"🔍 Mejor score:\", grid.best_score_)"
   ]
  },
  {
   "cell_type": "markdown",
   "metadata": {
    "id": "EFCk4rOyj1cj"
   },
   "source": [
    "### Roles del equipo\n",
    "\n",
    "- **Juan Carlos Garcés (JCGarcesDC)**: Responsable de limpieza de datos, configuración de DVC y GitHub, y entrenamiento de modelos.\n",
    "- **Daniel Olivares - A01796061**: Colabora don la parte de limpieza de datos e implementacion  de mlflow, asi como logeo de parametros\n",
    "- **Integrantes adicionales**: Documentar sus contribuciones en el repositorio (EDA, visualizaciones, ajuste de modelos, documentación en MLCanvas).\n",
    "\n"
   ]
  }
 ],
 "metadata": {
  "colab": {
   "provenance": []
  },
  "kernelspec": {
   "display_name": "env-pyspark",
   "language": "python",
   "name": "python3"
  },
  "language_info": {
   "codemirror_mode": {
    "name": "ipython",
    "version": 3
   },
   "file_extension": ".py",
   "mimetype": "text/x-python",
   "name": "python",
   "nbconvert_exporter": "python",
   "pygments_lexer": "ipython3",
   "version": "3.12.9"
  }
 },
 "nbformat": 4,
 "nbformat_minor": 0
}
