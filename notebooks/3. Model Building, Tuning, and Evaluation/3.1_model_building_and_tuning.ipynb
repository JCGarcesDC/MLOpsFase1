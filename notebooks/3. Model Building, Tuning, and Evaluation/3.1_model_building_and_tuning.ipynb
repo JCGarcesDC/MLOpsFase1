{
  "cells": [
    {
      "cell_type": "code",
      "execution_count": 1,
      "metadata": {},
      "outputs": [
        {
          "name": "stdout",
          "output_type": "stream",
          "text": [
            "3.11.13 | packaged by Anaconda, Inc. | (main, Jun  5 2025, 13:03:15) [MSC v.1929 64 bit (AMD64)]\n",
            "pandas 2.1.4\n",
            "scikit-learn 1.7.2\n",
            "numpy 1.26.4\n"
          ]
        }
      ],
      "source": [
        "import sys\n",
        "import pandas as pd\n",
        "import sklearn\n",
        "import numpy as np\n",
        "print(sys.version)\n",
        "print('pandas', pd.__version__)\n",
        "print('scikit-learn', sklearn.__version__)\n",
        "print('numpy', np.__version__)"
      ]
    },
    {
      "cell_type": "code",
      "execution_count": 4,
      "metadata": {},
      "outputs": [
        {
          "name": "stdout",
          "output_type": "stream",
          "text": [
            "3.11.13 | packaged by Anaconda, Inc. | (main, Jun  5 2025, 13:03:15) [MSC v.1929 64 bit (AMD64)]\n",
            "pandas 2.1.4\n",
            "scikit-learn 1.7.2\n",
            "numpy 1.26.4\n"
          ]
        }
      ],
      "source": [
        "# Prueba rápida del kernel e importaciones\n",
        "import sys\n",
        "import pandas as pd\n",
        "import sklearn\n",
        "import numpy as np\n",
        "print(sys.version)\n",
        "print('pandas', pd.__version__)\n",
        "print('scikit-learn', sklearn.__version__)\n",
        "print('numpy', np.__version__)"
      ]
    },
    {
      "cell_type": "markdown",
      "metadata": {
        "id": "JDtuVJ4kYuPZ"
      },
      "source": [
        "# **Selección de Algoritmos** \n",
        "Comenzaremos con modelos base simples y progresaremos hacia algoritmos de ensamble más complejos para establecer un benchmark de rendimiento.\n",
        "# **Entrenamiento Sistemático** \n",
        "Crearemos un framework reutilizable para entrenar cada modelo, garantizando que todos sean evaluados bajo las mismas condiciones.\n",
        "# **Ajuste de Hiperparámetros** \n",
        "Optimizaremos el mejor modelo candidato para exprimir su máximo potencial predictivo."
      ]
    },
    {
      "cell_type": "markdown",
      "metadata": {},
      "source": [
        "# 1.- **Importar librerias**"
      ]
    },
    {
      "cell_type": "code",
      "execution_count": 6,
      "metadata": {},
      "outputs": [
        {
          "name": "stdout",
          "output_type": "stream",
          "text": [
            "Funciones importadas exitosamente desde src/\n"
          ]
        }
      ],
      "source": [
        "# Importar librerías estándar\n",
        "import sys\n",
        "import os\n",
        "\n",
        "# 2. Configurar la ruta para que Python encuentre el código en 'src'. Esto añade la carpeta raíz del proyecto al sys.path\n",
        "ruta_raiz_proyecto = os.path.abspath(os.path.join(os.getcwd(), '../../'))\n",
        "sys.path.append(ruta_raiz_proyecto)\n",
        "\n",
        "# 3. Importar las funciones directamente.\n",
        "try:\n",
        "    from src.cargar_analisis import cargar_dataframe, crear_listas_variables\n",
        "    from src.pipelines import preparar_datos_para_modelado\n",
        "    from src.modelos import obtener_configuraciones_modelos, optimizar_y_comparar_modelos, guardar_artefactos_ml\n",
        "    print(\"Funciones importadas exitosamente desde src/\")\n",
        "except Exception as e:\n",
        "    print(f\"Error al importar módulos: {str(e)}\")"
      ]
    },
    {
      "cell_type": "markdown",
      "metadata": {},
      "source": [
        "# **2.- Importar datos**"
      ]
    },
    {
      "cell_type": "code",
      "execution_count": 7,
      "metadata": {},
      "outputs": [
        {
          "name": "stdout",
          "output_type": "stream",
          "text": [
            "Archivo CSV cargado exitosamente desde: ../../data/obesity_estimation_model.csv\n"
          ]
        }
      ],
      "source": [
        "# Ruta de la base de datos\n",
        "path_data = '../../data/obesity_estimation_model.csv'\n",
        "\n",
        "# Ejecutar función para cargar datos\n",
        "df = cargar_dataframe(path_data)\n",
        "\n",
        "# Ejecutar la función para generar listas con las variables numericas, categoricas y objetivo\n",
        "variables_numericas, variables_categoricas, variable_objetivo = crear_listas_variables(to_lower = 1, exclude_mixed = 1)"
      ]
    },
    {
      "cell_type": "markdown",
      "metadata": {},
      "source": [
        "# **3. Preprocesamiento con Pipelines**"
      ]
    },
    {
      "cell_type": "code",
      "execution_count": 8,
      "metadata": {},
      "outputs": [
        {
          "name": "stdout",
          "output_type": "stream",
          "text": [
            "Iniciando la preparación de datos para el modelado...\n",
            "Datos divididos: 1527 para entrenamiento, 382 para prueba.\n",
            "\n",
            "Preprocesador creado y ajustado a los datos de entrenamiento exitosamente.\n"
          ]
        }
      ],
      "source": [
        "X_train, X_test, y_train, y_test, preprocesador = preparar_datos_para_modelado(df, variable_objetivo, 0.2, 1)"
      ]
    },
    {
      "cell_type": "markdown",
      "metadata": {},
      "source": [
        "# **4.- Construcción y Ajuste y Evaluación de Modelos**"
      ]
    },
    {
      "cell_type": "code",
      "execution_count": 9,
      "metadata": {},
      "outputs": [
        {
          "name": "stdout",
          "output_type": "stream",
          "text": [
            "Se cargaron 7 configuraciones de modelos.\n",
            "\n",
            "Ejemplo: Parámetros de Regresión Logistica:\n",
            "{'clasificador__penalty': ['l1', 'l2'], 'clasificador__solver': ['liblinear', 'saga', 'lbfgs'], 'clasificador__C': [0.01, 0.1, 1.0, 10.0]}\n"
          ]
        }
      ],
      "source": [
        "# Ejecutar la función para obtener los modelos a evaluar\n",
        "configuracion_modelos = obtener_configuraciones_modelos()\n",
        "\n",
        "print(f\"Se cargaron {len(configuracion_modelos)} configuraciones de modelos.\")\n",
        "print(\"\\nEjemplo: Parámetros de Regresión Logistica:\")\n",
        "print(configuracion_modelos[0]['parametros'])"
      ]
    },
    {
      "cell_type": "code",
      "execution_count": 10,
      "metadata": {
        "colab": {
          "base_uri": "https://localhost:8080/",
          "height": 1000
        },
        "id": "vNH5lMcgUuyq",
        "outputId": "ecc5efa1-d47f-4bde-cb0a-dff8e2fc873e"
      },
      "outputs": [
        {
          "name": "stdout",
          "output_type": "stream",
          "text": [
            "--- Optimizando: Regresión Logística ---\n",
            "Fitting 5 folds for each of 24 candidates, totalling 120 fits\n",
            "Mejor F1-Score (CV) para Regresión Logística: nan\n",
            "\n",
            "Mejores parametros: {'clasificador__C': 0.01, 'clasificador__penalty': 'l1', 'clasificador__solver': 'liblinear'}\n",
            "\n",
            "--- Optimizando: Árbol de Decisión ---\n",
            "Fitting 5 folds for each of 324 candidates, totalling 1620 fits\n",
            "Mejor F1-Score (CV) para Árbol de Decisión: nan\n",
            "\n",
            "Mejores parametros: {'clasificador__criterion': 'gini', 'clasificador__max_depth': 5, 'clasificador__max_leaf_nodes': 5, 'clasificador__min_samples_leaf': 1, 'clasificador__min_samples_split': 2}\n",
            "\n",
            "--- Optimizando: Random Forest ---\n",
            "Fitting 5 folds for each of 216 candidates, totalling 1080 fits\n",
            "Mejor F1-Score (CV) para Random Forest: nan\n",
            "\n",
            "Mejores parametros: {'clasificador__criterion': 'gini', 'clasificador__max_depth': 5, 'clasificador__min_samples_leaf': 1, 'clasificador__min_samples_split': 2, 'clasificador__n_estimators': 100}\n",
            "\n",
            "--- Optimizando: XGBoost ---\n",
            "Fitting 5 folds for each of 384 candidates, totalling 1920 fits\n",
            "Mejor F1-Score (CV) para XGBoost: nan\n",
            "\n",
            "Mejores parametros: {'clasificador__colsample_bytree': 0.7, 'clasificador__learning_rate': 0.001, 'clasificador__max_depth': 5, 'clasificador__n_estimators': 100, 'clasificador__subsample': 0.7}\n",
            "\n",
            "--- Optimizando: KNN ---\n",
            "Fitting 5 folds for each of 48 candidates, totalling 240 fits\n",
            "Mejor F1-Score (CV) para KNN: nan\n",
            "\n",
            "Mejores parametros: {'clasificador__metric': 'euclidean', 'clasificador__n_neighbors': 3, 'clasificador__weights': 'uniform'}\n",
            "\n",
            "--- Optimizando: MLP ---\n",
            "Fitting 5 folds for each of 240 candidates, totalling 1200 fits\n",
            "Mejor F1-Score (CV) para MLP: nan\n",
            "\n",
            "Mejores parametros: {'clasificador__activation': 'relu', 'clasificador__alpha': 0.0001, 'clasificador__hidden_layer_sizes': (50,), 'clasificador__learning_rate': 'constant', 'clasificador__solver': 'adam'}\n",
            "\n",
            "--- Optimizando: SVM ---\n",
            "Fitting 5 folds for each of 64 candidates, totalling 320 fits\n",
            "Mejor F1-Score (CV) para SVM: nan\n",
            "\n",
            "Mejores parametros: {'clasificador__C': 0.01, 'clasificador__gamma': 0.001, 'clasificador__kernel': 'linear'}\n",
            "\n",
            "\n",
            "--- Tabla Comparativa de Modelos Optimizados ---\n"
          ]
        },
        {
          "data": {
            "text/html": [
              "<div>\n",
              "<style scoped>\n",
              "    .dataframe tbody tr th:only-of-type {\n",
              "        vertical-align: middle;\n",
              "    }\n",
              "\n",
              "    .dataframe tbody tr th {\n",
              "        vertical-align: top;\n",
              "    }\n",
              "\n",
              "    .dataframe thead th {\n",
              "        text-align: right;\n",
              "    }\n",
              "</style>\n",
              "<table border=\"1\" class=\"dataframe\">\n",
              "  <thead>\n",
              "    <tr style=\"text-align: right;\">\n",
              "      <th></th>\n",
              "      <th>Modelo</th>\n",
              "      <th>Mejores Parámetros</th>\n",
              "      <th>F1-Score (Train)</th>\n",
              "      <th>Accuracy (Train)</th>\n",
              "      <th>F1-Score (Test)</th>\n",
              "      <th>Accuracy (Test)</th>\n",
              "    </tr>\n",
              "  </thead>\n",
              "  <tbody>\n",
              "    <tr>\n",
              "      <th>3</th>\n",
              "      <td>XGBoost</td>\n",
              "      <td>{'clasificador__colsample_bytree': 0.7, 'clasi...</td>\n",
              "      <td>0.974460</td>\n",
              "      <td>0.974460</td>\n",
              "      <td>0.942588</td>\n",
              "      <td>0.942408</td>\n",
              "    </tr>\n",
              "    <tr>\n",
              "      <th>2</th>\n",
              "      <td>Random Forest</td>\n",
              "      <td>{'clasificador__criterion': 'gini', 'clasifica...</td>\n",
              "      <td>0.960775</td>\n",
              "      <td>0.960707</td>\n",
              "      <td>0.924313</td>\n",
              "      <td>0.924084</td>\n",
              "    </tr>\n",
              "    <tr>\n",
              "      <th>5</th>\n",
              "      <td>MLP</td>\n",
              "      <td>{'clasificador__activation': 'relu', 'clasific...</td>\n",
              "      <td>0.936510</td>\n",
              "      <td>0.937132</td>\n",
              "      <td>0.886967</td>\n",
              "      <td>0.890052</td>\n",
              "    </tr>\n",
              "    <tr>\n",
              "      <th>4</th>\n",
              "      <td>KNN</td>\n",
              "      <td>{'clasificador__metric': 'euclidean', 'clasifi...</td>\n",
              "      <td>0.933799</td>\n",
              "      <td>0.935167</td>\n",
              "      <td>0.845199</td>\n",
              "      <td>0.853403</td>\n",
              "    </tr>\n",
              "    <tr>\n",
              "      <th>6</th>\n",
              "      <td>SVM</td>\n",
              "      <td>{'clasificador__C': 0.01, 'clasificador__gamma...</td>\n",
              "      <td>0.812996</td>\n",
              "      <td>0.819908</td>\n",
              "      <td>0.785515</td>\n",
              "      <td>0.790576</td>\n",
              "    </tr>\n",
              "    <tr>\n",
              "      <th>1</th>\n",
              "      <td>Árbol de Decisión</td>\n",
              "      <td>{'clasificador__criterion': 'gini', 'clasifica...</td>\n",
              "      <td>0.650467</td>\n",
              "      <td>0.718402</td>\n",
              "      <td>0.632513</td>\n",
              "      <td>0.701571</td>\n",
              "    </tr>\n",
              "    <tr>\n",
              "      <th>0</th>\n",
              "      <td>Regresión Logística</td>\n",
              "      <td>{'clasificador__C': 0.01, 'clasificador__penal...</td>\n",
              "      <td>0.445213</td>\n",
              "      <td>0.512770</td>\n",
              "      <td>0.452017</td>\n",
              "      <td>0.520942</td>\n",
              "    </tr>\n",
              "  </tbody>\n",
              "</table>\n",
              "</div>"
            ],
            "text/plain": [
              "                Modelo                                 Mejores Parámetros  \\\n",
              "3              XGBoost  {'clasificador__colsample_bytree': 0.7, 'clasi...   \n",
              "2        Random Forest  {'clasificador__criterion': 'gini', 'clasifica...   \n",
              "5                  MLP  {'clasificador__activation': 'relu', 'clasific...   \n",
              "4                  KNN  {'clasificador__metric': 'euclidean', 'clasifi...   \n",
              "6                  SVM  {'clasificador__C': 0.01, 'clasificador__gamma...   \n",
              "1    Árbol de Decisión  {'clasificador__criterion': 'gini', 'clasifica...   \n",
              "0  Regresión Logística  {'clasificador__C': 0.01, 'clasificador__penal...   \n",
              "\n",
              "   F1-Score (Train)  Accuracy (Train)  F1-Score (Test)  Accuracy (Test)  \n",
              "3          0.974460          0.974460         0.942588         0.942408  \n",
              "2          0.960775          0.960707         0.924313         0.924084  \n",
              "5          0.936510          0.937132         0.886967         0.890052  \n",
              "4          0.933799          0.935167         0.845199         0.853403  \n",
              "6          0.812996          0.819908         0.785515         0.790576  \n",
              "1          0.650467          0.718402         0.632513         0.701571  \n",
              "0          0.445213          0.512770         0.452017         0.520942  "
            ]
          },
          "metadata": {},
          "output_type": "display_data"
        }
      ],
      "source": [
        "# Ejecutar el proceso de optimización y comparación\n",
        "df_resultados_opt, pipelines_optimizados = optimizar_y_comparar_modelos(\n",
        "    configuracion_modelos,\n",
        "    preprocesador,\n",
        "    X_train, y_train, X_test, y_test\n",
        ")"
      ]
    },
    {
      "cell_type": "code",
      "execution_count": 11,
      "metadata": {},
      "outputs": [],
      "source": [
        "# Llamar a la función para guardar los artefactos\n",
        "# Usamos '../artefactos/' como ruta, asumiendo la estructura de carpetas\n",
        "guardar_artefactos_ml(\n",
        "    df_resultados=df_resultados_opt,\n",
        "    pipelines=pipelines_optimizados,\n",
        "    base_path='../../artefactos/' # Se recomienda crear una carpeta separada para modelos\n",
        ")"
      ]
    }
  ],
  "metadata": {
    "colab": {
      "provenance": []
    },
    "kernelspec": {
      "display_name": "obesitymine",
      "language": "python",
      "name": "python3"
    },
    "language_info": {
      "codemirror_mode": {
        "name": "ipython",
        "version": 3
      },
      "file_extension": ".py",
      "mimetype": "text/x-python",
      "name": "python",
      "nbconvert_exporter": "python",
      "pygments_lexer": "ipython3",
      "version": "3.11.13"
    }
  },
  "nbformat": 4,
  "nbformat_minor": 0
}
