{
 "cells": [
  {
   "cell_type": "markdown",
   "id": "018049cd",
   "metadata": {},
   "source": [
    "# **Selección de Algoritmos** \n",
    "Comenzaremos con modelos base simples y progresaremos hacia algoritmos de ensamble más complejos para establecer un benchmark de rendimiento.\n",
    "# **Entrenamiento Sistemático** \n",
    "Crearemos un framework reutilizable para entrenar cada modelo, garantizando que todos sean evaluados bajo las mismas condiciones.\n",
    "# **Ajuste de Hiperparámetros** \n",
    "Optimizaremos el mejor modelo candidato para exprimir su máximo potencial predictivo."
   ]
  },
  {
   "cell_type": "markdown",
   "id": "df061943",
   "metadata": {},
   "source": [
    "# 1.- **Importar librerias**"
   ]
  },
  {
   "cell_type": "code",
   "execution_count": 4,
   "id": "851be50a",
   "metadata": {},
   "outputs": [
    {
     "name": "stdout",
     "output_type": "stream",
     "text": [
      "Funciones importadas exitosamente desde src/\n"
     ]
    }
   ],
   "source": [
    "# Importar librerías estándar\n",
    "import sys\n",
    "import os\n",
    "\n",
    "# 2. Configurar la ruta para que Python encuentre el código en 'src'. Esto añade la carpeta raíz del proyecto al sys.path\n",
    "ruta_raiz_proyecto = os.path.abspath(os.path.join(os.getcwd(), '../../'))\n",
    "sys.path.append(ruta_raiz_proyecto)\n",
    "\n",
    "# 3. Importar las funciones directamente.\n",
    "from src.cargar_analisis import cargar_dataframe, crear_listas_variables\n",
    "from src.pipelines import preparar_datos_para_modelado\n",
    "from src.modelos import obtener_configuraciones_modelos, optimizar_y_comparar_modelos\n",
    "\n",
    "print(\"Funciones importadas exitosamente desde src/\")"
   ]
  },
  {
   "cell_type": "markdown",
   "id": "f954db90",
   "metadata": {},
   "source": [
    "# **2.- Importar datos**"
   ]
  },
  {
   "cell_type": "code",
   "execution_count": 5,
   "id": "022b1500",
   "metadata": {},
   "outputs": [
    {
     "name": "stdout",
     "output_type": "stream",
     "text": [
      "Archivo CSV cargado exitosamente desde: ../../data/obesity_estimation_model.csv\n"
     ]
    }
   ],
   "source": [
    "# Ruta de la base de datos\n",
    "path_data = '../../data/obesity_estimation_model.csv'\n",
    "\n",
    "# Ejecutar función para cargar datos\n",
    "df = cargar_dataframe(path_data)\n",
    "\n",
    "# Ejecutar la función para generar listas con las variables numericas, categoricas y objetivo\n",
    "variables_numericas, variables_categoricas, variable_objetivo = crear_listas_variables(to_lower = 1, exclude_mixed = 1)"
   ]
  },
  {
   "cell_type": "markdown",
   "id": "20f7026d",
   "metadata": {},
   "source": [
    "# **3. Preprocesamiento con Pipelines**"
   ]
  },
  {
   "cell_type": "code",
   "execution_count": 6,
   "id": "037220e8",
   "metadata": {},
   "outputs": [
    {
     "name": "stdout",
     "output_type": "stream",
     "text": [
      "Iniciando la preparación de datos para el modelado...\n",
      "Datos divididos: 1556 para entrenamiento, 390 para prueba.\n",
      "\n",
      "Preprocesador creado y ajustado a los datos de entrenamiento exitosamente.\n"
     ]
    }
   ],
   "source": [
    "X_train, X_test, y_train, y_test, preprocesador = preparar_datos_para_modelado(df, variable_objetivo, 0.2, 1)"
   ]
  },
  {
   "cell_type": "markdown",
   "id": "3ab22a7f",
   "metadata": {},
   "source": [
    "# **4.- Construcción y Ajuste y Evaluación de Modelos**"
   ]
  },
  {
   "cell_type": "code",
   "execution_count": 7,
   "id": "a69b765d",
   "metadata": {},
   "outputs": [
    {
     "name": "stdout",
     "output_type": "stream",
     "text": [
      "Se cargaron 7 configuraciones de modelos.\n",
      "\n",
      "Ejemplo: Parámetros de Regresión Logistica:\n",
      "{'clasificador__penalty': ['l1', 'l2'], 'clasificador__solver': ['liblinear', 'saga', 'lbfgs'], 'clasificador__C': [0.01, 0.1, 1.0, 10.0]}\n"
     ]
    }
   ],
   "source": [
    "# Ejecutar la función para obtener los modelos a evaluar\n",
    "configuracion_modelos = obtener_configuraciones_modelos()\n",
    "\n",
    "print(f\"Se cargaron {len(configuracion_modelos)} configuraciones de modelos.\")\n",
    "print(\"\\nEjemplo: Parámetros de Regresión Logistica:\")\n",
    "print(configuracion_modelos[0]['parametros'])"
   ]
  },
  {
   "cell_type": "code",
   "execution_count": 5,
   "id": "14dca807",
   "metadata": {},
   "outputs": [
    {
     "name": "stdout",
     "output_type": "stream",
     "text": [
      "--- Optimizando: Regresión Logística ---\n"
     ]
    },
    {
     "ename": "ModuleNotFoundError",
     "evalue": "No module named '_posixsubprocess'",
     "output_type": "error",
     "traceback": [
      "\u001b[31m---------------------------------------------------------------------------\u001b[39m",
      "\u001b[31mModuleNotFoundError\u001b[39m                       Traceback (most recent call last)",
      "\u001b[36mCell\u001b[39m\u001b[36m \u001b[39m\u001b[32mIn[6]\u001b[39m\u001b[32m, line 2\u001b[39m\n\u001b[32m      1\u001b[39m \u001b[38;5;66;03m# Ejecutar el proceso de optimización y comparación\u001b[39;00m\n\u001b[32m----> \u001b[39m\u001b[32m2\u001b[39m df_resultados_opt, pipelines_optimizados = \u001b[43moptimizar_y_comparar_modelos\u001b[49m\u001b[43m(\u001b[49m\n\u001b[32m      3\u001b[39m \u001b[43m    \u001b[49m\u001b[43mconfiguracion_modelos\u001b[49m\u001b[43m,\u001b[49m\n\u001b[32m      4\u001b[39m \u001b[43m    \u001b[49m\u001b[43mpreprocesador\u001b[49m\u001b[43m,\u001b[49m\n\u001b[32m      5\u001b[39m \u001b[43m    \u001b[49m\u001b[43mX_train\u001b[49m\u001b[43m,\u001b[49m\u001b[43m \u001b[49m\u001b[43my_train\u001b[49m\u001b[43m,\u001b[49m\u001b[43m \u001b[49m\u001b[43mX_test\u001b[49m\u001b[43m,\u001b[49m\u001b[43m \u001b[49m\u001b[43my_test\u001b[49m\n\u001b[32m      6\u001b[39m \u001b[43m)\u001b[49m\n",
      "\u001b[36mCell\u001b[39m\u001b[36m \u001b[39m\u001b[32mIn[4]\u001b[39m\u001b[32m, line 211\u001b[39m, in \u001b[36moptimizar_y_comparar_modelos\u001b[39m\u001b[34m(config_modelos, preprocesador, X_train, y_train, X_test, y_test)\u001b[39m\n\u001b[32m    202\u001b[39m \u001b[38;5;66;03m# Configurar y ejecutar GridSearchCV\u001b[39;00m\n\u001b[32m    203\u001b[39m grid_search = GridSearchCV(\n\u001b[32m    204\u001b[39m     pipeline,\n\u001b[32m    205\u001b[39m     config[\u001b[33m'\u001b[39m\u001b[33mparametros\u001b[39m\u001b[33m'\u001b[39m],\n\u001b[32m   (...)\u001b[39m\u001b[32m    209\u001b[39m     verbose=\u001b[32m1\u001b[39m\n\u001b[32m    210\u001b[39m )\n\u001b[32m--> \u001b[39m\u001b[32m211\u001b[39m \u001b[43mgrid_search\u001b[49m\u001b[43m.\u001b[49m\u001b[43mfit\u001b[49m\u001b[43m(\u001b[49m\u001b[43mX_train\u001b[49m\u001b[43m,\u001b[49m\u001b[43m \u001b[49m\u001b[43my_train\u001b[49m\u001b[43m)\u001b[49m\n\u001b[32m    213\u001b[39m \u001b[38;5;66;03m# Guardar el mejor pipeline encontrado\u001b[39;00m\n\u001b[32m    214\u001b[39m mejor_pipeline = grid_search.best_estimator_\n",
      "\u001b[36mFile \u001b[39m\u001b[32m~\\AppData\\Local\\Packages\\PythonSoftwareFoundation.Python.3.13_qbz5n2kfra8p0\\LocalCache\\local-packages\\Python313\\site-packages\\sklearn\\base.py:1389\u001b[39m, in \u001b[36m_fit_context.<locals>.decorator.<locals>.wrapper\u001b[39m\u001b[34m(estimator, *args, **kwargs)\u001b[39m\n\u001b[32m   1382\u001b[39m     estimator._validate_params()\n\u001b[32m   1384\u001b[39m \u001b[38;5;28;01mwith\u001b[39;00m config_context(\n\u001b[32m   1385\u001b[39m     skip_parameter_validation=(\n\u001b[32m   1386\u001b[39m         prefer_skip_nested_validation \u001b[38;5;129;01mor\u001b[39;00m global_skip_validation\n\u001b[32m   1387\u001b[39m     )\n\u001b[32m   1388\u001b[39m ):\n\u001b[32m-> \u001b[39m\u001b[32m1389\u001b[39m     \u001b[38;5;28;01mreturn\u001b[39;00m \u001b[43mfit_method\u001b[49m\u001b[43m(\u001b[49m\u001b[43mestimator\u001b[49m\u001b[43m,\u001b[49m\u001b[43m \u001b[49m\u001b[43m*\u001b[49m\u001b[43margs\u001b[49m\u001b[43m,\u001b[49m\u001b[43m \u001b[49m\u001b[43m*\u001b[49m\u001b[43m*\u001b[49m\u001b[43mkwargs\u001b[49m\u001b[43m)\u001b[49m\n",
      "\u001b[36mFile \u001b[39m\u001b[32m~\\AppData\\Local\\Packages\\PythonSoftwareFoundation.Python.3.13_qbz5n2kfra8p0\\LocalCache\\local-packages\\Python313\\site-packages\\sklearn\\model_selection\\_search.py:952\u001b[39m, in \u001b[36mBaseSearchCV.fit\u001b[39m\u001b[34m(self, X, y, **params)\u001b[39m\n\u001b[32m    940\u001b[39m fit_and_score_kwargs = \u001b[38;5;28mdict\u001b[39m(\n\u001b[32m    941\u001b[39m     scorer=scorers,\n\u001b[32m    942\u001b[39m     fit_params=routed_params.estimator.fit,\n\u001b[32m   (...)\u001b[39m\u001b[32m    949\u001b[39m     verbose=\u001b[38;5;28mself\u001b[39m.verbose,\n\u001b[32m    950\u001b[39m )\n\u001b[32m    951\u001b[39m results = {}\n\u001b[32m--> \u001b[39m\u001b[32m952\u001b[39m \u001b[43m\u001b[49m\u001b[38;5;28;43;01mwith\u001b[39;49;00m\u001b[43m \u001b[49m\u001b[43mparallel\u001b[49m\u001b[43m:\u001b[49m\n\u001b[32m    953\u001b[39m \u001b[43m    \u001b[49m\u001b[43mall_candidate_params\u001b[49m\u001b[43m \u001b[49m\u001b[43m=\u001b[49m\u001b[43m \u001b[49m\u001b[43m[\u001b[49m\u001b[43m]\u001b[49m\n\u001b[32m    954\u001b[39m \u001b[43m    \u001b[49m\u001b[43mall_out\u001b[49m\u001b[43m \u001b[49m\u001b[43m=\u001b[49m\u001b[43m \u001b[49m\u001b[43m[\u001b[49m\u001b[43m]\u001b[49m\n",
      "\u001b[36mFile \u001b[39m\u001b[32m~\\AppData\\Local\\Packages\\PythonSoftwareFoundation.Python.3.13_qbz5n2kfra8p0\\LocalCache\\local-packages\\Python313\\site-packages\\joblib\\parallel.py:1366\u001b[39m, in \u001b[36mParallel.__enter__\u001b[39m\u001b[34m(self)\u001b[39m\n\u001b[32m   1364\u001b[39m \u001b[38;5;28mself\u001b[39m._managed_backend = \u001b[38;5;28;01mTrue\u001b[39;00m\n\u001b[32m   1365\u001b[39m \u001b[38;5;28mself\u001b[39m._calling = \u001b[38;5;28;01mFalse\u001b[39;00m\n\u001b[32m-> \u001b[39m\u001b[32m1366\u001b[39m \u001b[38;5;28;43mself\u001b[39;49m\u001b[43m.\u001b[49m\u001b[43m_initialize_backend\u001b[49m\u001b[43m(\u001b[49m\u001b[43m)\u001b[49m\n\u001b[32m   1367\u001b[39m \u001b[38;5;28;01mreturn\u001b[39;00m \u001b[38;5;28mself\u001b[39m\n",
      "\u001b[36mFile \u001b[39m\u001b[32m~\\AppData\\Local\\Packages\\PythonSoftwareFoundation.Python.3.13_qbz5n2kfra8p0\\LocalCache\\local-packages\\Python313\\site-packages\\joblib\\parallel.py:1378\u001b[39m, in \u001b[36mParallel._initialize_backend\u001b[39m\u001b[34m(self)\u001b[39m\n\u001b[32m   1376\u001b[39m \u001b[38;5;250m\u001b[39m\u001b[33;03m\"\"\"Build a process or thread pool and return the number of workers\"\"\"\u001b[39;00m\n\u001b[32m   1377\u001b[39m \u001b[38;5;28;01mtry\u001b[39;00m:\n\u001b[32m-> \u001b[39m\u001b[32m1378\u001b[39m     n_jobs = \u001b[38;5;28;43mself\u001b[39;49m\u001b[43m.\u001b[49m\u001b[43m_backend\u001b[49m\u001b[43m.\u001b[49m\u001b[43mconfigure\u001b[49m\u001b[43m(\u001b[49m\n\u001b[32m   1379\u001b[39m \u001b[43m        \u001b[49m\u001b[43mn_jobs\u001b[49m\u001b[43m=\u001b[49m\u001b[38;5;28;43mself\u001b[39;49m\u001b[43m.\u001b[49m\u001b[43mn_jobs\u001b[49m\u001b[43m,\u001b[49m\u001b[43m \u001b[49m\u001b[43mparallel\u001b[49m\u001b[43m=\u001b[49m\u001b[38;5;28;43mself\u001b[39;49m\u001b[43m,\u001b[49m\u001b[43m \u001b[49m\u001b[43m*\u001b[49m\u001b[43m*\u001b[49m\u001b[38;5;28;43mself\u001b[39;49m\u001b[43m.\u001b[49m\u001b[43m_backend_kwargs\u001b[49m\n\u001b[32m   1380\u001b[39m \u001b[43m    \u001b[49m\u001b[43m)\u001b[49m\n\u001b[32m   1381\u001b[39m     \u001b[38;5;28;01mif\u001b[39;00m \u001b[38;5;28mself\u001b[39m.timeout \u001b[38;5;129;01mis\u001b[39;00m \u001b[38;5;129;01mnot\u001b[39;00m \u001b[38;5;28;01mNone\u001b[39;00m \u001b[38;5;129;01mand\u001b[39;00m \u001b[38;5;129;01mnot\u001b[39;00m \u001b[38;5;28mself\u001b[39m._backend.supports_timeout:\n\u001b[32m   1382\u001b[39m         warnings.warn(\n\u001b[32m   1383\u001b[39m             \u001b[33m\"\u001b[39m\u001b[33mThe backend class \u001b[39m\u001b[38;5;132;01m{!r}\u001b[39;00m\u001b[33m does not support timeout. \u001b[39m\u001b[33m\"\u001b[39m\n\u001b[32m   1384\u001b[39m             \u001b[33m\"\u001b[39m\u001b[33mYou have set \u001b[39m\u001b[33m'\u001b[39m\u001b[33mtimeout=\u001b[39m\u001b[38;5;132;01m{}\u001b[39;00m\u001b[33m'\u001b[39m\u001b[33m in Parallel but \u001b[39m\u001b[33m\"\u001b[39m\n\u001b[32m   (...)\u001b[39m\u001b[32m   1387\u001b[39m             )\n\u001b[32m   1388\u001b[39m         )\n",
      "\u001b[36mFile \u001b[39m\u001b[32m~\\AppData\\Local\\Packages\\PythonSoftwareFoundation.Python.3.13_qbz5n2kfra8p0\\LocalCache\\local-packages\\Python313\\site-packages\\joblib\\_parallel_backends.py:639\u001b[39m, in \u001b[36mLokyBackend.configure\u001b[39m\u001b[34m(self, n_jobs, parallel, prefer, require, idle_worker_timeout, **memmapping_executor_kwargs)\u001b[39m\n\u001b[32m    636\u001b[39m \u001b[38;5;28;01mif\u001b[39;00m idle_worker_timeout \u001b[38;5;129;01mis\u001b[39;00m \u001b[38;5;28;01mNone\u001b[39;00m:\n\u001b[32m    637\u001b[39m     idle_worker_timeout = \u001b[38;5;28mself\u001b[39m.backend_kwargs.get(\u001b[33m\"\u001b[39m\u001b[33midle_worker_timeout\u001b[39m\u001b[33m\"\u001b[39m, \u001b[32m300\u001b[39m)\n\u001b[32m--> \u001b[39m\u001b[32m639\u001b[39m \u001b[38;5;28mself\u001b[39m._workers = \u001b[43mget_memmapping_executor\u001b[49m\u001b[43m(\u001b[49m\n\u001b[32m    640\u001b[39m \u001b[43m    \u001b[49m\u001b[43mn_jobs\u001b[49m\u001b[43m,\u001b[49m\n\u001b[32m    641\u001b[39m \u001b[43m    \u001b[49m\u001b[43mtimeout\u001b[49m\u001b[43m=\u001b[49m\u001b[43midle_worker_timeout\u001b[49m\u001b[43m,\u001b[49m\n\u001b[32m    642\u001b[39m \u001b[43m    \u001b[49m\u001b[43menv\u001b[49m\u001b[43m=\u001b[49m\u001b[38;5;28;43mself\u001b[39;49m\u001b[43m.\u001b[49m\u001b[43m_prepare_worker_env\u001b[49m\u001b[43m(\u001b[49m\u001b[43mn_jobs\u001b[49m\u001b[43m=\u001b[49m\u001b[43mn_jobs\u001b[49m\u001b[43m)\u001b[49m\u001b[43m,\u001b[49m\n\u001b[32m    643\u001b[39m \u001b[43m    \u001b[49m\u001b[43mcontext_id\u001b[49m\u001b[43m=\u001b[49m\u001b[43mparallel\u001b[49m\u001b[43m.\u001b[49m\u001b[43m_id\u001b[49m\u001b[43m,\u001b[49m\n\u001b[32m    644\u001b[39m \u001b[43m    \u001b[49m\u001b[43m*\u001b[49m\u001b[43m*\u001b[49m\u001b[43mmemmapping_executor_kwargs\u001b[49m\u001b[43m,\u001b[49m\n\u001b[32m    645\u001b[39m \u001b[43m\u001b[49m\u001b[43m)\u001b[49m\n\u001b[32m    646\u001b[39m \u001b[38;5;28mself\u001b[39m.parallel = parallel\n\u001b[32m    647\u001b[39m \u001b[38;5;28;01mreturn\u001b[39;00m n_jobs\n",
      "\u001b[36mFile \u001b[39m\u001b[32m~\\AppData\\Local\\Packages\\PythonSoftwareFoundation.Python.3.13_qbz5n2kfra8p0\\LocalCache\\local-packages\\Python313\\site-packages\\joblib\\executor.py:18\u001b[39m, in \u001b[36mget_memmapping_executor\u001b[39m\u001b[34m(n_jobs, **kwargs)\u001b[39m\n\u001b[32m     17\u001b[39m \u001b[38;5;28;01mdef\u001b[39;00m\u001b[38;5;250m \u001b[39m\u001b[34mget_memmapping_executor\u001b[39m(n_jobs, **kwargs):\n\u001b[32m---> \u001b[39m\u001b[32m18\u001b[39m     \u001b[38;5;28;01mreturn\u001b[39;00m \u001b[43mMemmappingExecutor\u001b[49m\u001b[43m.\u001b[49m\u001b[43mget_memmapping_executor\u001b[49m\u001b[43m(\u001b[49m\u001b[43mn_jobs\u001b[49m\u001b[43m,\u001b[49m\u001b[43m \u001b[49m\u001b[43m*\u001b[49m\u001b[43m*\u001b[49m\u001b[43mkwargs\u001b[49m\u001b[43m)\u001b[49m\n",
      "\u001b[36mFile \u001b[39m\u001b[32m~\\AppData\\Local\\Packages\\PythonSoftwareFoundation.Python.3.13_qbz5n2kfra8p0\\LocalCache\\local-packages\\Python313\\site-packages\\joblib\\executor.py:48\u001b[39m, in \u001b[36mMemmappingExecutor.get_memmapping_executor\u001b[39m\u001b[34m(cls, n_jobs, timeout, initializer, initargs, env, temp_folder, context_id, **backend_args)\u001b[39m\n\u001b[32m     45\u001b[39m reuse = _executor_args \u001b[38;5;129;01mis\u001b[39;00m \u001b[38;5;28;01mNone\u001b[39;00m \u001b[38;5;129;01mor\u001b[39;00m _executor_args == executor_args\n\u001b[32m     46\u001b[39m _executor_args = executor_args\n\u001b[32m---> \u001b[39m\u001b[32m48\u001b[39m manager = \u001b[43mTemporaryResourcesManager\u001b[49m\u001b[43m(\u001b[49m\u001b[43mtemp_folder\u001b[49m\u001b[43m)\u001b[49m\n\u001b[32m     50\u001b[39m \u001b[38;5;66;03m# reducers access the temporary folder in which to store temporary\u001b[39;00m\n\u001b[32m     51\u001b[39m \u001b[38;5;66;03m# pickles through a call to manager.resolve_temp_folder_name. resolving\u001b[39;00m\n\u001b[32m     52\u001b[39m \u001b[38;5;66;03m# the folder name dynamically is useful to use different folders across\u001b[39;00m\n\u001b[32m     53\u001b[39m \u001b[38;5;66;03m# calls of a same reusable executor\u001b[39;00m\n\u001b[32m     54\u001b[39m job_reducers, result_reducers = get_memmapping_reducers(\n\u001b[32m     55\u001b[39m     unlink_on_gc_collect=\u001b[38;5;28;01mTrue\u001b[39;00m,\n\u001b[32m     56\u001b[39m     temp_folder_resolver=manager.resolve_temp_folder_name,\n\u001b[32m     57\u001b[39m     **backend_args,\n\u001b[32m     58\u001b[39m )\n",
      "\u001b[36mFile \u001b[39m\u001b[32m~\\AppData\\Local\\Packages\\PythonSoftwareFoundation.Python.3.13_qbz5n2kfra8p0\\LocalCache\\local-packages\\Python313\\site-packages\\joblib\\_memmapping_reducer.py:601\u001b[39m, in \u001b[36mTemporaryResourcesManager.__init__\u001b[39m\u001b[34m(self, temp_folder_root, context_id)\u001b[39m\n\u001b[32m    595\u001b[39m \u001b[38;5;28;01mif\u001b[39;00m context_id \u001b[38;5;129;01mis\u001b[39;00m \u001b[38;5;28;01mNone\u001b[39;00m:\n\u001b[32m    596\u001b[39m     \u001b[38;5;66;03m# It would be safer to not assign a default context id (less silent\u001b[39;00m\n\u001b[32m    597\u001b[39m     \u001b[38;5;66;03m# bugs), but doing this while maintaining backward compatibility\u001b[39;00m\n\u001b[32m    598\u001b[39m     \u001b[38;5;66;03m# with the previous, context-unaware version get_memmaping_executor\u001b[39;00m\n\u001b[32m    599\u001b[39m     \u001b[38;5;66;03m# exposes too many low-level details.\u001b[39;00m\n\u001b[32m    600\u001b[39m     context_id = uuid4().hex\n\u001b[32m--> \u001b[39m\u001b[32m601\u001b[39m \u001b[38;5;28;43mself\u001b[39;49m\u001b[43m.\u001b[49m\u001b[43mset_current_context\u001b[49m\u001b[43m(\u001b[49m\u001b[43mcontext_id\u001b[49m\u001b[43m)\u001b[49m\n",
      "\u001b[36mFile \u001b[39m\u001b[32m~\\AppData\\Local\\Packages\\PythonSoftwareFoundation.Python.3.13_qbz5n2kfra8p0\\LocalCache\\local-packages\\Python313\\site-packages\\joblib\\_memmapping_reducer.py:605\u001b[39m, in \u001b[36mTemporaryResourcesManager.set_current_context\u001b[39m\u001b[34m(self, context_id)\u001b[39m\n\u001b[32m    603\u001b[39m \u001b[38;5;28;01mdef\u001b[39;00m\u001b[38;5;250m \u001b[39m\u001b[34mset_current_context\u001b[39m(\u001b[38;5;28mself\u001b[39m, context_id):\n\u001b[32m    604\u001b[39m     \u001b[38;5;28mself\u001b[39m._current_context_id = context_id\n\u001b[32m--> \u001b[39m\u001b[32m605\u001b[39m     \u001b[38;5;28;43mself\u001b[39;49m\u001b[43m.\u001b[49m\u001b[43mregister_new_context\u001b[49m\u001b[43m(\u001b[49m\u001b[43mcontext_id\u001b[49m\u001b[43m)\u001b[49m\n",
      "\u001b[36mFile \u001b[39m\u001b[32m~\\AppData\\Local\\Packages\\PythonSoftwareFoundation.Python.3.13_qbz5n2kfra8p0\\LocalCache\\local-packages\\Python313\\site-packages\\joblib\\_memmapping_reducer.py:627\u001b[39m, in \u001b[36mTemporaryResourcesManager.register_new_context\u001b[39m\u001b[34m(self, context_id)\u001b[39m\n\u001b[32m    623\u001b[39m new_folder_name = \u001b[33m\"\u001b[39m\u001b[33mjoblib_memmapping_folder_\u001b[39m\u001b[38;5;132;01m{}\u001b[39;00m\u001b[33m_\u001b[39m\u001b[38;5;132;01m{}\u001b[39;00m\u001b[33m_\u001b[39m\u001b[38;5;132;01m{}\u001b[39;00m\u001b[33m\"\u001b[39m.format(\n\u001b[32m    624\u001b[39m     os.getpid(), \u001b[38;5;28mself\u001b[39m._id, context_id\n\u001b[32m    625\u001b[39m )\n\u001b[32m    626\u001b[39m new_folder_path, _ = _get_temp_dir(new_folder_name, \u001b[38;5;28mself\u001b[39m._temp_folder_root)\n\u001b[32m--> \u001b[39m\u001b[32m627\u001b[39m \u001b[38;5;28;43mself\u001b[39;49m\u001b[43m.\u001b[49m\u001b[43mregister_folder_finalizer\u001b[49m\u001b[43m(\u001b[49m\u001b[43mnew_folder_path\u001b[49m\u001b[43m,\u001b[49m\u001b[43m \u001b[49m\u001b[43mcontext_id\u001b[49m\u001b[43m)\u001b[49m\n\u001b[32m    628\u001b[39m \u001b[38;5;28mself\u001b[39m._cached_temp_folders[context_id] = new_folder_path\n",
      "\u001b[36mFile \u001b[39m\u001b[32m~\\AppData\\Local\\Packages\\PythonSoftwareFoundation.Python.3.13_qbz5n2kfra8p0\\LocalCache\\local-packages\\Python313\\site-packages\\joblib\\_memmapping_reducer.py:643\u001b[39m, in \u001b[36mTemporaryResourcesManager.register_folder_finalizer\u001b[39m\u001b[34m(self, pool_subfolder, context_id)\u001b[39m\n\u001b[32m    636\u001b[39m \u001b[38;5;28;01mdef\u001b[39;00m\u001b[38;5;250m \u001b[39m\u001b[34mregister_folder_finalizer\u001b[39m(\u001b[38;5;28mself\u001b[39m, pool_subfolder, context_id):\n\u001b[32m    637\u001b[39m     \u001b[38;5;66;03m# Register the garbage collector at program exit in case caller forgets\u001b[39;00m\n\u001b[32m    638\u001b[39m     \u001b[38;5;66;03m# to call terminate explicitly: note we do not pass any reference to\u001b[39;00m\n\u001b[32m    639\u001b[39m     \u001b[38;5;66;03m# ensure that this callback won't prevent garbage collection of\u001b[39;00m\n\u001b[32m    640\u001b[39m     \u001b[38;5;66;03m# parallel instance and related file handler resources such as POSIX\u001b[39;00m\n\u001b[32m    641\u001b[39m     \u001b[38;5;66;03m# semaphores and pipes\u001b[39;00m\n\u001b[32m    642\u001b[39m     pool_module_name = whichmodule(delete_folder, \u001b[33m\"\u001b[39m\u001b[33mdelete_folder\u001b[39m\u001b[33m\"\u001b[39m)\n\u001b[32m--> \u001b[39m\u001b[32m643\u001b[39m     \u001b[43mresource_tracker\u001b[49m\u001b[43m.\u001b[49m\u001b[43mregister\u001b[49m\u001b[43m(\u001b[49m\u001b[43mpool_subfolder\u001b[49m\u001b[43m,\u001b[49m\u001b[43m \u001b[49m\u001b[33;43m\"\u001b[39;49m\u001b[33;43mfolder\u001b[39;49m\u001b[33;43m\"\u001b[39;49m\u001b[43m)\u001b[49m\n\u001b[32m    645\u001b[39m     \u001b[38;5;28;01mdef\u001b[39;00m\u001b[38;5;250m \u001b[39m\u001b[34m_cleanup\u001b[39m():\n\u001b[32m    646\u001b[39m         \u001b[38;5;66;03m# In some cases the Python runtime seems to set delete_folder to\u001b[39;00m\n\u001b[32m    647\u001b[39m         \u001b[38;5;66;03m# None just before exiting when accessing the delete_folder\u001b[39;00m\n\u001b[32m   (...)\u001b[39m\u001b[32m    652\u001b[39m         \u001b[38;5;66;03m# because joblib should only use relative imports to allow\u001b[39;00m\n\u001b[32m    653\u001b[39m         \u001b[38;5;66;03m# easy vendoring.\u001b[39;00m\n\u001b[32m    654\u001b[39m         delete_folder = \u001b[38;5;28m__import__\u001b[39m(\n\u001b[32m    655\u001b[39m             pool_module_name, fromlist=[\u001b[33m\"\u001b[39m\u001b[33mdelete_folder\u001b[39m\u001b[33m\"\u001b[39m]\n\u001b[32m    656\u001b[39m         ).delete_folder\n",
      "\u001b[36mFile \u001b[39m\u001b[32mC:\\Program Files\\WindowsApps\\PythonSoftwareFoundation.Python.3.13_3.13.2288.0_x64__qbz5n2kfra8p0\\Lib\\multiprocessing\\resource_tracker.py:244\u001b[39m, in \u001b[36mResourceTracker.register\u001b[39m\u001b[34m(self, name, rtype)\u001b[39m\n\u001b[32m    242\u001b[39m \u001b[38;5;28;01mdef\u001b[39;00m\u001b[38;5;250m \u001b[39m\u001b[34mregister\u001b[39m(\u001b[38;5;28mself\u001b[39m, name, rtype):\n\u001b[32m    243\u001b[39m \u001b[38;5;250m    \u001b[39m\u001b[33;03m'''Register name of resource with resource tracker.'''\u001b[39;00m\n\u001b[32m--> \u001b[39m\u001b[32m244\u001b[39m     \u001b[38;5;28;43mself\u001b[39;49m\u001b[43m.\u001b[49m\u001b[43m_send\u001b[49m\u001b[43m(\u001b[49m\u001b[33;43m'\u001b[39;49m\u001b[33;43mREGISTER\u001b[39;49m\u001b[33;43m'\u001b[39;49m\u001b[43m,\u001b[49m\u001b[43m \u001b[49m\u001b[43mname\u001b[49m\u001b[43m,\u001b[49m\u001b[43m \u001b[49m\u001b[43mrtype\u001b[49m\u001b[43m)\u001b[49m\n",
      "\u001b[36mFile \u001b[39m\u001b[32mC:\\Program Files\\WindowsApps\\PythonSoftwareFoundation.Python.3.13_3.13.2288.0_x64__qbz5n2kfra8p0\\Lib\\multiprocessing\\resource_tracker.py:261\u001b[39m, in \u001b[36mResourceTracker._send\u001b[39m\u001b[34m(self, cmd, name, rtype)\u001b[39m\n\u001b[32m    256\u001b[39m \u001b[38;5;28;01mif\u001b[39;00m \u001b[38;5;28mlen\u001b[39m(msg) > \u001b[32m512\u001b[39m:\n\u001b[32m    257\u001b[39m     \u001b[38;5;66;03m# posix guarantees that writes to a pipe of less than PIPE_BUF\u001b[39;00m\n\u001b[32m    258\u001b[39m     \u001b[38;5;66;03m# bytes are atomic, and that PIPE_BUF >= 512\u001b[39;00m\n\u001b[32m    259\u001b[39m     \u001b[38;5;28;01mraise\u001b[39;00m \u001b[38;5;167;01mValueError\u001b[39;00m(\u001b[33m'\u001b[39m\u001b[33mmsg too long\u001b[39m\u001b[33m'\u001b[39m)\n\u001b[32m--> \u001b[39m\u001b[32m261\u001b[39m \u001b[38;5;28;43mself\u001b[39;49m\u001b[43m.\u001b[49m\u001b[43m_ensure_running_and_write\u001b[49m\u001b[43m(\u001b[49m\u001b[43mmsg\u001b[49m\u001b[43m)\u001b[49m\n",
      "\u001b[36mFile \u001b[39m\u001b[32mC:\\Program Files\\WindowsApps\\PythonSoftwareFoundation.Python.3.13_3.13.2288.0_x64__qbz5n2kfra8p0\\Lib\\multiprocessing\\resource_tracker.py:220\u001b[39m, in \u001b[36mResourceTracker._ensure_running_and_write\u001b[39m\u001b[34m(self, msg)\u001b[39m\n\u001b[32m    218\u001b[39m         msg = \u001b[38;5;28;01mNone\u001b[39;00m  \u001b[38;5;66;03m# message was sent in probe\u001b[39;00m\n\u001b[32m    219\u001b[39m     \u001b[38;5;28;01melse\u001b[39;00m:\n\u001b[32m--> \u001b[39m\u001b[32m220\u001b[39m         \u001b[38;5;28;43mself\u001b[39;49m\u001b[43m.\u001b[49m\u001b[43m_launch\u001b[49m\u001b[43m(\u001b[49m\u001b[43m)\u001b[49m\n\u001b[32m    222\u001b[39m \u001b[38;5;28;01mwhile\u001b[39;00m \u001b[38;5;28;01mTrue\u001b[39;00m:\n\u001b[32m    223\u001b[39m     \u001b[38;5;28;01mtry\u001b[39;00m:\n",
      "\u001b[36mFile \u001b[39m\u001b[32mC:\\Program Files\\WindowsApps\\PythonSoftwareFoundation.Python.3.13_3.13.2288.0_x64__qbz5n2kfra8p0\\Lib\\multiprocessing\\resource_tracker.py:185\u001b[39m, in \u001b[36mResourceTracker._launch\u001b[39m\u001b[34m(self)\u001b[39m\n\u001b[32m    183\u001b[39m     \u001b[38;5;28;01mif\u001b[39;00m _HAVE_SIGMASK:\n\u001b[32m    184\u001b[39m         prev_sigmask = signal.pthread_sigmask(signal.SIG_BLOCK, _IGNORED_SIGNALS)\n\u001b[32m--> \u001b[39m\u001b[32m185\u001b[39m     pid = \u001b[43mutil\u001b[49m\u001b[43m.\u001b[49m\u001b[43mspawnv_passfds\u001b[49m\u001b[43m(\u001b[49m\u001b[43mexe\u001b[49m\u001b[43m,\u001b[49m\u001b[43m \u001b[49m\u001b[43margs\u001b[49m\u001b[43m,\u001b[49m\u001b[43m \u001b[49m\u001b[43mfds_to_pass\u001b[49m\u001b[43m)\u001b[49m\n\u001b[32m    186\u001b[39m \u001b[38;5;28;01mfinally\u001b[39;00m:\n\u001b[32m    187\u001b[39m     \u001b[38;5;28;01mif\u001b[39;00m prev_sigmask \u001b[38;5;129;01mis\u001b[39;00m \u001b[38;5;129;01mnot\u001b[39;00m \u001b[38;5;28;01mNone\u001b[39;00m:\n",
      "\u001b[36mFile \u001b[39m\u001b[32mC:\\Program Files\\WindowsApps\\PythonSoftwareFoundation.Python.3.13_3.13.2288.0_x64__qbz5n2kfra8p0\\Lib\\multiprocessing\\util.py:515\u001b[39m, in \u001b[36mspawnv_passfds\u001b[39m\u001b[34m(path, args, passfds)\u001b[39m\n\u001b[32m    514\u001b[39m \u001b[38;5;28;01mdef\u001b[39;00m\u001b[38;5;250m \u001b[39m\u001b[34mspawnv_passfds\u001b[39m(path, args, passfds):\n\u001b[32m--> \u001b[39m\u001b[32m515\u001b[39m     \u001b[38;5;28;01mimport\u001b[39;00m\u001b[38;5;250m \u001b[39m\u001b[34;01m_posixsubprocess\u001b[39;00m\n\u001b[32m    516\u001b[39m     \u001b[38;5;28;01mimport\u001b[39;00m\u001b[38;5;250m \u001b[39m\u001b[34;01msubprocess\u001b[39;00m\n\u001b[32m    517\u001b[39m     passfds = \u001b[38;5;28mtuple\u001b[39m(\u001b[38;5;28msorted\u001b[39m(\u001b[38;5;28mmap\u001b[39m(\u001b[38;5;28mint\u001b[39m, passfds)))\n",
      "\u001b[31mModuleNotFoundError\u001b[39m: No module named '_posixsubprocess'"
     ]
    }
   ],
   "source": [
    "# Ejecutar el proceso de optimización y comparación\n",
    "df_resultados_opt, pipelines_optimizados = optimizar_y_comparar_modelos(\n",
    "    configuracion_modelos,\n",
    "    preprocesador,\n",
    "    X_train, y_train, X_test, y_test\n",
    ")"
   ]
  },
  {
   "cell_type": "code",
   "execution_count": null,
   "id": "7c2b5073",
   "metadata": {},
   "outputs": [],
   "source": []
  }
 ],
 "metadata": {
  "kernelspec": {
   "display_name": "Python 3",
   "language": "python",
   "name": "python3"
  },
  "language_info": {
   "codemirror_mode": {
    "name": "ipython",
    "version": 3
   },
   "file_extension": ".py",
   "mimetype": "text/x-python",
   "name": "python",
   "nbconvert_exporter": "python",
   "pygments_lexer": "ipython3",
   "version": "3.13.8"
  }
 },
 "nbformat": 4,
 "nbformat_minor": 5
}
